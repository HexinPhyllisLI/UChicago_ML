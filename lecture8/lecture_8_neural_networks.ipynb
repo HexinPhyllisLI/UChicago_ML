{
 "cells": [
  {
   "cell_type": "markdown",
   "metadata": {},
   "source": [
    "# Lecture 8: Neural Networks"
   ]
  },
  {
   "cell_type": "markdown",
   "metadata": {},
   "source": [
    "In this lecture, we'll be looking at various kinds of neural networks.  Neural networks in python are a very quickly evolving area, and there are many different competing packages for working with them.  Unfortunately, there's not yet a standard set of packages in scikit-learn like we've seen for many other machine learning methods.  \n",
    "\n",
    "Most of the packages are high level wrappers around [Theano](http://deeplearning.net/software/theano/), which is a mathematical package for easily working with numerical expressions of arrays and matrices and their gradients.  Additionally, Theano code will also run seamlessly on a GPU if one is available.  This makes training much, much faster.  Here's an [ipython notebook](http://nbviewer.ipython.org/github/craffel/theano-tutorial/blob/master/Theano%20Tutorial.ipynb) on Theano if you're interested. \n",
    "\n",
    "[Keras](https://github.com/fchollet/keras/) is a relatively new package.  It looks to be a good balance between sophistication and simplicity.  Installation instructions are at that link.\n",
    "\n",
    "[Lasagne](http://lasagne.readthedocs.org/en/latest/) is another, more full-featured, package, but we won't have time to go into it."
   ]
  },
  {
   "cell_type": "code",
   "execution_count": 1,
   "metadata": {
    "collapsed": true
   },
   "outputs": [],
   "source": [
    "%matplotlib inline"
   ]
  },
  {
   "cell_type": "code",
   "execution_count": 2,
   "metadata": {},
   "outputs": [
    {
     "name": "stderr",
     "output_type": "stream",
     "text": [
      "Using TensorFlow backend.\n",
      "/Users/civisemployee/anaconda3/envs/civis/lib/python3.6/site-packages/sklearn/cross_validation.py:44: DeprecationWarning: This module was deprecated in version 0.18 in favor of the model_selection module into which all the refactored classes and functions are moved. Also note that the interface of the new CV iterators are different from that of this module. This module will be removed in 0.20.\n",
      "  \"This module will be removed in 0.20.\", DeprecationWarning)\n"
     ]
    }
   ],
   "source": [
    "import gzip\n",
    "import os\n",
    "import sys\n",
    "import time\n",
    "import numpy as np\n",
    "import pandas as pd\n",
    "\n",
    "# pickle lets us save python objects to a file and read them back in\n",
    "import pickle\n",
    "import itertools\n",
    "\n",
    "# here are our neural network imports\n",
    "#from sknn import mlp\n",
    "\n",
    "from keras.models import Sequential\n",
    "from keras.layers.core import Dense, Dropout, Activation\n",
    "from keras.optimizers import SGD\n",
    "from keras.utils import np_utils\n",
    "\n",
    "import theano\n",
    "\n",
    "import urllib.request\n",
    "from sklearn import datasets\n",
    "from sklearn.metrics import confusion_matrix, accuracy_score, classification_report\n",
    "from sklearn.linear_model import LogisticRegression\n",
    "from sklearn.cross_validation import train_test_split\n",
    "# scikit-learn does have a restricted boltzman machine class for doing unsupervised\n",
    "# feature learning\n",
    "from sklearn.neural_network import BernoulliRBM\n",
    "\n",
    "import matplotlib.pyplot as plt\n",
    "import seaborn as sns"
   ]
  },
  {
   "cell_type": "markdown",
   "metadata": {},
   "source": [
    "Let's see where Theano will run our code:"
   ]
  },
  {
   "cell_type": "code",
   "execution_count": 3,
   "metadata": {},
   "outputs": [
    {
     "name": "stdout",
     "output_type": "stream",
     "text": [
      "cpu\n"
     ]
    }
   ],
   "source": [
    "print(theano.config.device)"
   ]
  },
  {
   "cell_type": "markdown",
   "metadata": {},
   "source": [
    "If we had a GPU, we could use it by setting `theano.config.device='gpu'`."
   ]
  },
  {
   "cell_type": "markdown",
   "metadata": {},
   "source": [
    "## Multilayer Perceptron with a Single Hidden Layer"
   ]
  },
  {
   "cell_type": "markdown",
   "metadata": {},
   "source": [
    "We'll be working with the [MNIST dataset](http://yann.lecun.com/exdb/mnist/), a standard dataset of handwritten digits.  Note that this is a much bigger, higher resolution dataset than the handwritten digits dataset that we've seein in previous lectures.  In this first example, we'll use scikit-neuralnetwork and then Lasagne.  The following code is a modified version based off of the Lasagne MNIST example [here](https://github.com/Lasagne/Lasagne/blob/master/examples/mnist.py)."
   ]
  },
  {
   "cell_type": "markdown",
   "metadata": {},
   "source": [
    "First, we'll download the MNIST dataset as a pickle file, save it to a local file, and then read in its contents.  If we've already downloaded the file, we'll just read it in."
   ]
  },
  {
   "cell_type": "code",
   "execution_count": 15,
   "metadata": {
    "collapsed": true
   },
   "outputs": [],
   "source": [
    "DATA_URL = 'http://deeplearning.net/data/mnist/mnist.pkl.gz'\n",
    "DATA_FILENAME = 'mnist.pkl.gz'\n",
    "\n",
    "if not os.path.exists(DATA_FILENAME):\n",
    "    print(\"Downloading MNIST dataset...\")\n",
    "    urllib.request.urlretrieve(DATA_URL, DATA_FILENAME)\n",
    "\n",
    "with gzip.open(DATA_FILENAME, 'rb') as f:\n",
    "    data = pickle.load(f, encoding='latin1')"
   ]
  },
  {
   "cell_type": "markdown",
   "metadata": {},
   "source": [
    "The pickle object has a training set, a validation set, and a test set.  Let's split those out and make a dictionary of things to pass to Theano/Lasagne:"
   ]
  },
  {
   "cell_type": "code",
   "execution_count": 16,
   "metadata": {
    "collapsed": true
   },
   "outputs": [],
   "source": [
    "X_train, y_train = data[0]\n",
    "X_valid, y_valid = data[1]\n",
    "X_test, y_test = data[2]"
   ]
  },
  {
   "cell_type": "markdown",
   "metadata": {},
   "source": [
    "The images of handwritten digits are 28 by 28 pixels (28*28=784):"
   ]
  },
  {
   "cell_type": "code",
   "execution_count": 23,
   "metadata": {},
   "outputs": [
    {
     "data": {
      "text/plain": [
       "(50000, 784)"
      ]
     },
     "execution_count": 23,
     "metadata": {},
     "output_type": "execute_result"
    }
   ],
   "source": [
    "X_train.shape"
   ]
  },
  {
   "cell_type": "code",
   "execution_count": 24,
   "metadata": {},
   "outputs": [
    {
     "data": {
      "text/plain": [
       "array([ 0.        ,  0.        ,  0.        ,  0.        ,  0.        ,\n",
       "        0.        ,  0.        ,  0.        ,  0.        ,  0.        ,\n",
       "        0.        ,  0.        ,  0.        ,  0.        ,  0.        ,\n",
       "        0.        ,  0.        ,  0.        ,  0.        ,  0.        ,\n",
       "        0.        ,  0.        ,  0.        ,  0.        ,  0.        ,\n",
       "        0.        ,  0.        ,  0.        ,  0.        ,  0.        ,\n",
       "        0.        ,  0.        ,  0.        ,  0.        ,  0.        ,\n",
       "        0.        ,  0.        ,  0.        ,  0.        ,  0.        ,\n",
       "        0.        ,  0.        ,  0.        ,  0.        ,  0.        ,\n",
       "        0.        ,  0.        ,  0.        ,  0.        ,  0.        ,\n",
       "        0.        ,  0.        ,  0.        ,  0.        ,  0.        ,\n",
       "        0.        ,  0.        ,  0.        ,  0.        ,  0.        ,\n",
       "        0.        ,  0.        ,  0.        ,  0.        ,  0.        ,\n",
       "        0.        ,  0.        ,  0.        ,  0.        ,  0.        ,\n",
       "        0.        ,  0.        ,  0.        ,  0.        ,  0.        ,\n",
       "        0.        ,  0.        ,  0.        ,  0.        ,  0.        ,\n",
       "        0.        ,  0.        ,  0.        ,  0.        ,  0.        ,\n",
       "        0.        ,  0.        ,  0.        ,  0.        ,  0.        ,\n",
       "        0.        ,  0.        ,  0.        ,  0.        ,  0.        ,\n",
       "        0.        ,  0.        ,  0.        ,  0.        ,  0.        ,\n",
       "        0.        ,  0.        ,  0.        ,  0.        ,  0.        ,\n",
       "        0.        ,  0.        ,  0.        ,  0.        ,  0.        ,\n",
       "        0.        ,  0.        ,  0.        ,  0.        ,  0.        ,\n",
       "        0.        ,  0.        ,  0.        ,  0.        ,  0.        ,\n",
       "        0.        ,  0.        ,  0.        ,  0.        ,  0.        ,\n",
       "        0.        ,  0.        ,  0.        ,  0.        ,  0.        ,\n",
       "        0.        ,  0.        ,  0.        ,  0.        ,  0.        ,\n",
       "        0.        ,  0.        ,  0.        ,  0.        ,  0.        ,\n",
       "        0.        ,  0.        ,  0.        ,  0.        ,  0.        ,\n",
       "        0.        ,  0.        ,  0.        ,  0.        ,  0.        ,\n",
       "        0.        ,  0.        ,  0.01171875,  0.0703125 ,  0.0703125 ,\n",
       "        0.0703125 ,  0.4921875 ,  0.53125   ,  0.68359375,  0.1015625 ,\n",
       "        0.6484375 ,  0.99609375,  0.96484375,  0.49609375,  0.        ,\n",
       "        0.        ,  0.        ,  0.        ,  0.        ,  0.        ,\n",
       "        0.        ,  0.        ,  0.        ,  0.        ,  0.        ,\n",
       "        0.        ,  0.1171875 ,  0.140625  ,  0.3671875 ,  0.6015625 ,\n",
       "        0.6640625 ,  0.98828125,  0.98828125,  0.98828125,  0.98828125,\n",
       "        0.98828125,  0.87890625,  0.671875  ,  0.98828125,  0.9453125 ,\n",
       "        0.76171875,  0.25      ,  0.        ,  0.        ,  0.        ,\n",
       "        0.        ,  0.        ,  0.        ,  0.        ,  0.        ,\n",
       "        0.        ,  0.        ,  0.        ,  0.19140625,  0.9296875 ,\n",
       "        0.98828125,  0.98828125,  0.98828125,  0.98828125,  0.98828125,\n",
       "        0.98828125,  0.98828125,  0.98828125,  0.98046875,  0.36328125,\n",
       "        0.3203125 ,  0.3203125 ,  0.21875   ,  0.15234375,  0.        ,\n",
       "        0.        ,  0.        ,  0.        ,  0.        ,  0.        ,\n",
       "        0.        ,  0.        ,  0.        ,  0.        ,  0.        ,\n",
       "        0.        ,  0.0703125 ,  0.85546875,  0.98828125,  0.98828125,\n",
       "        0.98828125,  0.98828125,  0.98828125,  0.7734375 ,  0.7109375 ,\n",
       "        0.96484375,  0.94140625,  0.        ,  0.        ,  0.        ,\n",
       "        0.        ,  0.        ,  0.        ,  0.        ,  0.        ,\n",
       "        0.        ,  0.        ,  0.        ,  0.        ,  0.        ,\n",
       "        0.        ,  0.        ,  0.        ,  0.        ,  0.        ,\n",
       "        0.3125    ,  0.609375  ,  0.41796875,  0.98828125,  0.98828125,\n",
       "        0.80078125,  0.04296875,  0.        ,  0.16796875,  0.6015625 ,\n",
       "        0.        ,  0.        ,  0.        ,  0.        ,  0.        ,\n",
       "        0.        ,  0.        ,  0.        ,  0.        ,  0.        ,\n",
       "        0.        ,  0.        ,  0.        ,  0.        ,  0.        ,\n",
       "        0.        ,  0.        ,  0.        ,  0.        ,  0.0546875 ,\n",
       "        0.00390625,  0.6015625 ,  0.98828125,  0.3515625 ,  0.        ,\n",
       "        0.        ,  0.        ,  0.        ,  0.        ,  0.        ,\n",
       "        0.        ,  0.        ,  0.        ,  0.        ,  0.        ,\n",
       "        0.        ,  0.        ,  0.        ,  0.        ,  0.        ,\n",
       "        0.        ,  0.        ,  0.        ,  0.        ,  0.        ,\n",
       "        0.        ,  0.        ,  0.        ,  0.        ,  0.54296875,\n",
       "        0.98828125,  0.7421875 ,  0.0078125 ,  0.        ,  0.        ,\n",
       "        0.        ,  0.        ,  0.        ,  0.        ,  0.        ,\n",
       "        0.        ,  0.        ,  0.        ,  0.        ,  0.        ,\n",
       "        0.        ,  0.        ,  0.        ,  0.        ,  0.        ,\n",
       "        0.        ,  0.        ,  0.        ,  0.        ,  0.        ,\n",
       "        0.        ,  0.        ,  0.04296875,  0.7421875 ,  0.98828125,\n",
       "        0.2734375 ,  0.        ,  0.        ,  0.        ,  0.        ,\n",
       "        0.        ,  0.        ,  0.        ,  0.        ,  0.        ,\n",
       "        0.        ,  0.        ,  0.        ,  0.        ,  0.        ,\n",
       "        0.        ,  0.        ,  0.        ,  0.        ,  0.        ,\n",
       "        0.        ,  0.        ,  0.        ,  0.        ,  0.        ,\n",
       "        0.        ,  0.13671875,  0.94140625,  0.87890625,  0.625     ,\n",
       "        0.421875  ,  0.00390625,  0.        ,  0.        ,  0.        ,\n",
       "        0.        ,  0.        ,  0.        ,  0.        ,  0.        ,\n",
       "        0.        ,  0.        ,  0.        ,  0.        ,  0.        ,\n",
       "        0.        ,  0.        ,  0.        ,  0.        ,  0.        ,\n",
       "        0.        ,  0.        ,  0.        ,  0.        ,  0.        ,\n",
       "        0.31640625,  0.9375    ,  0.98828125,  0.98828125,  0.46484375,\n",
       "        0.09765625,  0.        ,  0.        ,  0.        ,  0.        ,\n",
       "        0.        ,  0.        ,  0.        ,  0.        ,  0.        ,\n",
       "        0.        ,  0.        ,  0.        ,  0.        ,  0.        ,\n",
       "        0.        ,  0.        ,  0.        ,  0.        ,  0.        ,\n",
       "        0.        ,  0.        ,  0.        ,  0.        ,  0.17578125,\n",
       "        0.7265625 ,  0.98828125,  0.98828125,  0.5859375 ,  0.10546875,\n",
       "        0.        ,  0.        ,  0.        ,  0.        ,  0.        ,\n",
       "        0.        ,  0.        ,  0.        ,  0.        ,  0.        ,\n",
       "        0.        ,  0.        ,  0.        ,  0.        ,  0.        ,\n",
       "        0.        ,  0.        ,  0.        ,  0.        ,  0.        ,\n",
       "        0.        ,  0.        ,  0.        ,  0.0625    ,  0.36328125,\n",
       "        0.984375  ,  0.98828125,  0.73046875,  0.        ,  0.        ,\n",
       "        0.        ,  0.        ,  0.        ,  0.        ,  0.        ,\n",
       "        0.        ,  0.        ,  0.        ,  0.        ,  0.        ,\n",
       "        0.        ,  0.        ,  0.        ,  0.        ,  0.        ,\n",
       "        0.        ,  0.        ,  0.        ,  0.        ,  0.        ,\n",
       "        0.        ,  0.        ,  0.        ,  0.97265625,  0.98828125,\n",
       "        0.97265625,  0.25      ,  0.        ,  0.        ,  0.        ,\n",
       "        0.        ,  0.        ,  0.        ,  0.        ,  0.        ,\n",
       "        0.        ,  0.        ,  0.        ,  0.        ,  0.        ,\n",
       "        0.        ,  0.        ,  0.        ,  0.        ,  0.        ,\n",
       "        0.        ,  0.        ,  0.        ,  0.1796875 ,  0.5078125 ,\n",
       "        0.71484375,  0.98828125,  0.98828125,  0.80859375,  0.0078125 ,\n",
       "        0.        ,  0.        ,  0.        ,  0.        ,  0.        ,\n",
       "        0.        ,  0.        ,  0.        ,  0.        ,  0.        ,\n",
       "        0.        ,  0.        ,  0.        ,  0.        ,  0.        ,\n",
       "        0.        ,  0.        ,  0.        ,  0.        ,  0.15234375,\n",
       "        0.578125  ,  0.89453125,  0.98828125,  0.98828125,  0.98828125,\n",
       "        0.9765625 ,  0.7109375 ,  0.        ,  0.        ,  0.        ,\n",
       "        0.        ,  0.        ,  0.        ,  0.        ,  0.        ,\n",
       "        0.        ,  0.        ,  0.        ,  0.        ,  0.        ,\n",
       "        0.        ,  0.        ,  0.        ,  0.        ,  0.        ,\n",
       "        0.09375   ,  0.4453125 ,  0.86328125,  0.98828125,  0.98828125,\n",
       "        0.98828125,  0.98828125,  0.78515625,  0.3046875 ,  0.        ,\n",
       "        0.        ,  0.        ,  0.        ,  0.        ,  0.        ,\n",
       "        0.        ,  0.        ,  0.        ,  0.        ,  0.        ,\n",
       "        0.        ,  0.        ,  0.        ,  0.        ,  0.        ,\n",
       "        0.        ,  0.08984375,  0.2578125 ,  0.83203125,  0.98828125,\n",
       "        0.98828125,  0.98828125,  0.98828125,  0.7734375 ,  0.31640625,\n",
       "        0.0078125 ,  0.        ,  0.        ,  0.        ,  0.        ,\n",
       "        0.        ,  0.        ,  0.        ,  0.        ,  0.        ,\n",
       "        0.        ,  0.        ,  0.        ,  0.        ,  0.        ,\n",
       "        0.        ,  0.        ,  0.0703125 ,  0.66796875,  0.85546875,\n",
       "        0.98828125,  0.98828125,  0.98828125,  0.98828125,  0.76171875,\n",
       "        0.3125    ,  0.03515625,  0.        ,  0.        ,  0.        ,\n",
       "        0.        ,  0.        ,  0.        ,  0.        ,  0.        ,\n",
       "        0.        ,  0.        ,  0.        ,  0.        ,  0.        ,\n",
       "        0.        ,  0.        ,  0.        ,  0.21484375,  0.671875  ,\n",
       "        0.8828125 ,  0.98828125,  0.98828125,  0.98828125,  0.98828125,\n",
       "        0.953125  ,  0.51953125,  0.04296875,  0.        ,  0.        ,\n",
       "        0.        ,  0.        ,  0.        ,  0.        ,  0.        ,\n",
       "        0.        ,  0.        ,  0.        ,  0.        ,  0.        ,\n",
       "        0.        ,  0.        ,  0.        ,  0.        ,  0.        ,\n",
       "        0.        ,  0.53125   ,  0.98828125,  0.98828125,  0.98828125,\n",
       "        0.828125  ,  0.52734375,  0.515625  ,  0.0625    ,  0.        ,\n",
       "        0.        ,  0.        ,  0.        ,  0.        ,  0.        ,\n",
       "        0.        ,  0.        ,  0.        ,  0.        ,  0.        ,\n",
       "        0.        ,  0.        ,  0.        ,  0.        ,  0.        ,\n",
       "        0.        ,  0.        ,  0.        ,  0.        ,  0.        ,\n",
       "        0.        ,  0.        ,  0.        ,  0.        ,  0.        ,\n",
       "        0.        ,  0.        ,  0.        ,  0.        ,  0.        ,\n",
       "        0.        ,  0.        ,  0.        ,  0.        ,  0.        ,\n",
       "        0.        ,  0.        ,  0.        ,  0.        ,  0.        ,\n",
       "        0.        ,  0.        ,  0.        ,  0.        ,  0.        ,\n",
       "        0.        ,  0.        ,  0.        ,  0.        ,  0.        ,\n",
       "        0.        ,  0.        ,  0.        ,  0.        ,  0.        ,\n",
       "        0.        ,  0.        ,  0.        ,  0.        ,  0.        ,\n",
       "        0.        ,  0.        ,  0.        ,  0.        ,  0.        ,\n",
       "        0.        ,  0.        ,  0.        ,  0.        ,  0.        ,\n",
       "        0.        ,  0.        ,  0.        ,  0.        ,  0.        ,\n",
       "        0.        ,  0.        ,  0.        ,  0.        ,  0.        ,\n",
       "        0.        ,  0.        ,  0.        ,  0.        ,  0.        ,\n",
       "        0.        ,  0.        ,  0.        ,  0.        ,  0.        ,\n",
       "        0.        ,  0.        ,  0.        ,  0.        ,  0.        ,\n",
       "        0.        ,  0.        ,  0.        ,  0.        ], dtype=float32)"
      ]
     },
     "execution_count": 24,
     "metadata": {},
     "output_type": "execute_result"
    }
   ],
   "source": [
    "X_train[0, :]"
   ]
  },
  {
   "cell_type": "markdown",
   "metadata": {},
   "source": [
    "The previous handwritten digits dataset that we worked with was only 8 by 8 pixels.  Let's define a function so that we can look at some of the images:"
   ]
  },
  {
   "cell_type": "code",
   "execution_count": 25,
   "metadata": {
    "collapsed": true
   },
   "outputs": [],
   "source": [
    "def plot_handwritten_digit(the_image, label):\n",
    "    plt.axis('off')\n",
    "    plt.imshow(the_image, cmap=plt.cm.gray_r, interpolation='nearest')\n",
    "    plt.title('Training: %i' % label)"
   ]
  },
  {
   "cell_type": "code",
   "execution_count": 26,
   "metadata": {},
   "outputs": [
    {
     "data": {
      "image/png": "[encoded data removed]",
      "text/plain": [
       "<matplotlib.figure.Figure at 0x11b4cc240>"
      ]
     },
     "metadata": {},
     "output_type": "display_data"
    }
   ],
   "source": [
    "image_num = 1220\n",
    "plot_handwritten_digit(X_train[image_num].reshape((28, 28)), y_train[image_num])"
   ]
  },
  {
   "cell_type": "markdown",
   "metadata": {},
   "source": [
    "Here, we define some constants that will be used in the training:"
   ]
  },
  {
   "cell_type": "code",
   "execution_count": 29,
   "metadata": {
    "collapsed": true
   },
   "outputs": [],
   "source": [
    "# we'll feed in this many training examples at a time\n",
    "#BATCH_SIZE = 600\n",
    "\n",
    "# this is how many times we'll go through the set of batches, i.e. a full pass over\n",
    "# all of the training data\n",
    "#NUM_EPOCHS = 10\n",
    "\n",
    "# number of units in the hidden layer\n",
    "#NUM_HIDDEN_UNITS = 512\n",
    "\n",
    "# these parameters control the gradient descent process to learn the weights\n",
    "#LEARNING_RATE = 0.01\n",
    "#MOMENTUM = 0.9 \n",
    "\n",
    "\n",
    "# number of units in a single hidden layer\n",
    "NUM_HIDDEN_UNITS = 512\n",
    "\n",
    "# these parameters control the gradient descent process to learn the weights\n",
    "LEARNING_RATE = 0.01\n",
    "MOMENTUM = 0.9 \n",
    "\n",
    "# we'll feed in this many training examples at a time (for stochastic gradient descent)\n",
    "BATCH_SIZE = 600\n",
    "\n",
    "# this is how many times we'll go through the set of batches, i.e. a full pass over\n",
    "# all of the training data\n",
    "NUM_EPOCHS = 10"
   ]
  },
  {
   "cell_type": "markdown",
   "metadata": {},
   "source": [
    "### `keras`"
   ]
  },
  {
   "cell_type": "markdown",
   "metadata": {},
   "source": [
    "Keras is quite popular.  Interestingly, it does not actually do computations -it provides a relatively easy to use syntax for setting up and training neural networks that can be combined with a computational backend (theano, tensorflow).  This makes it very convenient since the keras code you write when using a theano backend is the same as the code you'd write if you were using tensorflow as a backend.  Swapping between theano and tensorflow on the backend requires a simple change to the keras configuration file (should be located in the ```.keras``` folder in your root directory, and called ```keras.json```; see https://keras.io/backend/).\n",
    "\n",
    "For a list of keras commands, and references on what each does, see: https://keras.io/layers/core/.\n",
    "\n",
    "Thes examples are based on the example found at: \n",
    "https://github.com/fchollet/keras/blob/master/examples/mnist_mlp.py\n",
    "Be careful with keras examples -you have to go to the actual Github\n",
    "respository to get examples that are consistent with the latest version\n",
    "of the package, otherwise everything breaks...\n",
    "\n",
    "First, we setup the model.  This model is again simple - one layer for inputs, one hidden layer, and then one layer for outputs.  We will use sigmoid activation for the hidden layer, and softmax activation for the output layer.  This setup lets us perform classification -by taking the largest value in the softmax layer across the ten possible outputs (0, 1, ..., 9), we can classify new observations.  We will also measure our network's performance on the test set."
   ]
  },
  {
   "cell_type": "code",
   "execution_count": 30,
   "metadata": {},
   "outputs": [
    {
     "name": "stderr",
     "output_type": "stream",
     "text": [
      "/Users/civisemployee/anaconda3/envs/civis/lib/python3.6/site-packages/ipykernel_launcher.py:20: UserWarning: Update your `Dense` call to the Keras 2 API: `Dense(512, input_shape=(784,), activation=\"sigmoid\", kernel_initializer=\"uniform\")`\n",
      "/Users/civisemployee/anaconda3/envs/civis/lib/python3.6/site-packages/ipykernel_launcher.py:28: UserWarning: Update your `Dense` call to the Keras 2 API: `Dense(10, activation=\"softmax\", kernel_initializer=\"uniform\")`\n"
     ]
    },
    {
     "name": "stdout",
     "output_type": "stream",
     "text": [
      "_________________________________________________________________\n",
      "Layer (type)                 Output Shape              Param #   \n",
      "=================================================================\n",
      "dense_1 (Dense)              (None, 512)               401920    \n",
      "_________________________________________________________________\n",
      "dense_2 (Dense)              (None, 10)                5130      \n",
      "=================================================================\n",
      "Total params: 407,050\n",
      "Trainable params: 407,050\n",
      "Non-trainable params: 0\n",
      "_________________________________________________________________\n"
     ]
    }
   ],
   "source": [
    "# Tell keras we want to create a sequential (feed-forward network) model, in which one\n",
    "# layer follows the next\n",
    "model = Sequential()\n",
    "\n",
    "# Create the input layer and the hidden layer of the network\n",
    "# 'Dense' indicates that we want all inputs to connect to every node in the hidden layer\n",
    "# 'input_shape' tells the hidden layer the dimension of the input to expect, which is determined\n",
    "#    by our data (the number of predictors in our data set = 784 pixels per image)\n",
    "# 'NUM_HIDDEN_UNITS' (which we defined above) tells keras how many nodes are the hidden layer connected\n",
    "#    to the input layer\n",
    "# 'activation' specifies how values from the input node should be processed by hidden nodes.\n",
    "model.add(Dense(NUM_HIDDEN_UNITS, input_shape=(784,), activation='sigmoid', init='uniform'))\n",
    "\n",
    "# Next, we'll create an output layer.\n",
    "# The value '10' tells keras we want this layer to have ten nodes\n",
    "# The 'activation' tells keras we want to use the softmax function\n",
    "# Note that we don't specify 'input_shape'.  The input to this layer is the output of the hidden\n",
    "# layer we created above. keras is smart enough to figure this out, which is why we only need\n",
    "# to specify how many nodes are in the output layer.\n",
    "model.add(Dense(10, activation='softmax', init='uniform'))\n",
    "\n",
    "# Next, we specify the properties of our optimizer.\n",
    "# We'll be using stochastic gradient descent with momentum, along with \n",
    "# the crossentropy cost function.\n",
    "# Note: The 'decay' argument was not discussed in lecture - it reduces the learning\n",
    "# rate as we get further into training (e.g., as we go from one epoch to the next)\n",
    "# The benefit of decay is that the optimizer will make bigger adjustments\n",
    "# early on, then do fine-tuning later in the training process.\n",
    "sgd = SGD(lr=LEARNING_RATE, decay=1e-6, momentum=MOMENTUM, nesterov=True)\n",
    "model.compile(loss='categorical_crossentropy', optimizer=sgd)\n",
    "\n",
    "# Summarize the model setup\n",
    "model.summary()"
   ]
  },
  {
   "cell_type": "markdown",
   "metadata": {},
   "source": [
    "Then we fit it:"
   ]
  },
  {
   "cell_type": "code",
   "execution_count": 32,
   "metadata": {},
   "outputs": [
    {
     "data": {
      "text/plain": [
       "array([[ 0.,  0.,  0., ...,  0.,  0.,  0.],\n",
       "       [ 1.,  0.,  0., ...,  0.,  0.,  0.],\n",
       "       [ 0.,  0.,  0., ...,  0.,  0.,  0.],\n",
       "       ..., \n",
       "       [ 0.,  0.,  0., ...,  0.,  1.,  0.],\n",
       "       [ 0.,  0.,  0., ...,  0.,  0.,  0.],\n",
       "       [ 0.,  0.,  0., ...,  0.,  1.,  0.]])"
      ]
     },
     "execution_count": 32,
     "metadata": {},
     "output_type": "execute_result"
    }
   ],
   "source": [
    "# The np_utils module is part of keras, and has functioan designed to make it easier to work with neural networks.\n",
    "# Here, we're using it to convert the label response data into vectors.\n",
    "Y_train = np_utils.to_categorical(y_train, 10)\n",
    "Y_train"
   ]
  },
  {
   "cell_type": "markdown",
   "metadata": {},
   "source": [
    "Third, let's fit the model.  We pass it the training data, the batch_size (for SGD), and the number of epochs.  Notice the ```.fit``` syntax, which is the same syntax used for all scikit-learn models we've used thusfar"
   ]
  },
  {
   "cell_type": "code",
   "execution_count": 33,
   "metadata": {},
   "outputs": [
    {
     "name": "stderr",
     "output_type": "stream",
     "text": [
      "/Users/civisemployee/anaconda3/envs/civis/lib/python3.6/site-packages/keras/models.py:844: UserWarning: The `nb_epoch` argument in `fit` has been renamed `epochs`.\n",
      "  warnings.warn('The `nb_epoch` argument in `fit` '\n",
      "WARNING (theano.configdefaults): install mkl with `conda install mkl-service`: No module named 'mkl'\n"
     ]
    },
    {
     "name": "stdout",
     "output_type": "stream",
     "text": [
      "Epoch 1/10\n",
      "50000/50000 [==============================] - 2s - loss: 2.1062     - \n",
      "Epoch 2/10\n",
      "50000/50000 [==============================] - 2s - loss: 1.5146     \n",
      "Epoch 3/10\n",
      "50000/50000 [==============================] - 2s - loss: 1.0126     \n",
      "Epoch 4/10\n",
      "50000/50000 [==============================] - 2s - loss: 0.7620     \n",
      "Epoch 5/10\n",
      "50000/50000 [==============================] - 2s - loss: 0.6341     \n",
      "Epoch 6/10\n",
      "50000/50000 [==============================] - 2s - loss: 0.5590     \n",
      "Epoch 7/10\n",
      "50000/50000 [==============================] - 2s - loss: 0.5094     \n",
      "Epoch 8/10\n",
      "50000/50000 [==============================] - 1s - loss: 0.4743     \n",
      "Epoch 9/10\n",
      "50000/50000 [==============================] - 1s - loss: 0.4486     \n",
      "Epoch 10/10\n",
      "50000/50000 [==============================] - 1s - loss: 0.4287     \n"
     ]
    },
    {
     "data": {
      "text/plain": [
       "<keras.callbacks.History at 0x12f9e6f28>"
      ]
     },
     "execution_count": 33,
     "metadata": {},
     "output_type": "execute_result"
    }
   ],
   "source": [
    "model.fit(X_train, Y_train, batch_size=BATCH_SIZE, nb_epoch=NUM_EPOCHS)"
   ]
  },
  {
   "cell_type": "markdown",
   "metadata": {},
   "source": [
    "Next, we'll predict on the test set using the neural network.  Since we had ten output nodes, keras will give us a 10-dimensional vector for each test observation.  Each entry in the vector can be interpreted as the probability that the test vector's label corresponds to the entry (e.g., first entry is the probability that the test observation is a `0`)."
   ]
  },
  {
   "cell_type": "code",
   "execution_count": 35,
   "metadata": {},
   "outputs": [
    {
     "data": {
      "text/plain": [
       "array([[  2.59895867e-04,   1.18811486e-05,   8.88102368e-05, ...,\n",
       "          9.92178679e-01,   5.46572410e-05,   5.80947334e-03],\n",
       "       [  2.92448252e-02,   1.58728613e-03,   7.18269765e-01, ...,\n",
       "          4.67639120e-06,   1.83281917e-02,   1.12579255e-05],\n",
       "       [  1.00773352e-04,   9.53497231e-01,   1.24950185e-02, ...,\n",
       "          8.23997520e-03,   4.70800139e-03,   1.82167382e-03],\n",
       "       ..., \n",
       "       [  1.85203480e-05,   1.08833941e-04,   1.36234841e-04, ...,\n",
       "          6.08499488e-03,   2.77231671e-02,   1.69013709e-01],\n",
       "       [  1.63515657e-02,   1.52351148e-02,   6.58736192e-03, ...,\n",
       "          4.94785141e-03,   2.95459598e-01,   6.85393857e-03],\n",
       "       [  3.51337646e-03,   2.18260254e-07,   3.75234382e-03, ...,\n",
       "          1.80005571e-07,   5.54580001e-05,   7.12992778e-06]], dtype=float32)"
      ]
     },
     "execution_count": 35,
     "metadata": {},
     "output_type": "execute_result"
    }
   ],
   "source": [
    "Y_test_keras = model.predict(X_test)\n",
    "Y_test_keras"
   ]
  },
  {
   "cell_type": "code",
   "execution_count": 41,
   "metadata": {},
   "outputs": [
    {
     "name": "stdout",
     "output_type": "stream",
     "text": [
      " 8640/10000 [========================>.....] - ETA: 0s"
     ]
    },
    {
     "data": {
      "text/plain": [
       "array([7, 2, 1, ..., 4, 5, 6])"
      ]
     },
     "execution_count": 41,
     "metadata": {},
     "output_type": "execute_result"
    }
   ],
   "source": [
    "# We can also call predict_classes on the model to get the predicted labels directly, rather than probability vectors\n",
    "test_preds = model.predict_classes(X_test)\n",
    "test_preds"
   ]
  },
  {
   "cell_type": "markdown",
   "metadata": {},
   "source": [
    "Finally, we measure the accuracy of the neural network.  Recall that precision is the fraction of observations labeled as a class that actually are of that class, and recall is the fraction of observations from a class that were labeled correctly."
   ]
  },
  {
   "cell_type": "code",
   "execution_count": 42,
   "metadata": {},
   "outputs": [
    {
     "name": "stdout",
     "output_type": "stream",
     "text": [
      "             precision    recall  f1-score   support\n",
      "\n",
      "          0       0.92      0.97      0.95       980\n",
      "          1       0.93      0.97      0.95      1135\n",
      "          2       0.90      0.85      0.87      1032\n",
      "          3       0.85      0.90      0.87      1010\n",
      "          4       0.84      0.94      0.89       982\n",
      "          5       0.88      0.79      0.83       892\n",
      "          6       0.91      0.91      0.91       958\n",
      "          7       0.89      0.90      0.90      1028\n",
      "          8       0.87      0.83      0.85       974\n",
      "          9       0.90      0.84      0.87      1009\n",
      "\n",
      "avg / total       0.89      0.89      0.89     10000\n",
      "\n",
      "0.8919\n"
     ]
    }
   ],
   "source": [
    "print(classification_report(y_test, test_preds))\n",
    "print(accuracy_score(y_test, test_preds))"
   ]
  },
  {
   "cell_type": "markdown",
   "metadata": {},
   "source": [
    "If we want to visualize what the hidden nodes are picking up on, we can extract the weights for a single hidden node, then pass those weights into the function we created earlier to plot digits.  This works because there is one weight per pixel, so the number of weights for a node can be rehaped into an 'image'.  When a pixel has a large weight, it will be darker in the image, and when a pixel has a low weight, it will lighter in the image."
   ]
  },
  {
   "cell_type": "code",
   "execution_count": 43,
   "metadata": {},
   "outputs": [
    {
     "data": {
      "text/plain": [
       "4"
      ]
     },
     "execution_count": 43,
     "metadata": {},
     "output_type": "execute_result"
    }
   ],
   "source": [
    "# We can extract the weights from the hidden layer using the get_weights\n",
    "# function provided by keras.\n",
    "len(model.get_weights())"
   ]
  },
  {
   "cell_type": "markdown",
   "metadata": {},
   "source": [
    "This tell us that keras is tracking four sets of 'weights'. The first set of weights, model.get_weights()[0] corresponds to the weights used when mapping the inputs to the first hidden layer. The second set of weights, model.get_weights()[1], actually corresponds to the bias terms to the first hidden layers. The second two entries, indexed by 2 and 3 are the weights and biases applid to the hidden layer when mapping to the output layer."
   ]
  },
  {
   "cell_type": "code",
   "execution_count": 44,
   "metadata": {},
   "outputs": [
    {
     "data": {
      "text/plain": [
       "(784, 512)"
      ]
     },
     "execution_count": 44,
     "metadata": {},
     "output_type": "execute_result"
    }
   ],
   "source": [
    "model.get_weights()[0].shape"
   ]
  },
  {
   "cell_type": "markdown",
   "metadata": {},
   "source": [
    "We see that the first set of weights is stored in an array with one row per pixel (i.e., one row per input node in our network), and one column per hidden node.  Therefore, if we want to see what pattern the a hidden node is detecting, we pass the corresponding weight column to the digit plot function we created earlier."
   ]
  },
  {
   "cell_type": "code",
   "execution_count": 45,
   "metadata": {},
   "outputs": [
    {
     "data": {
      "image/png": "[encoded data removed]",
      "text/plain": [
       "<matplotlib.figure.Figure at 0x119f58a58>"
      ]
     },
     "metadata": {},
     "output_type": "display_data"
    }
   ],
   "source": [
    "# Which hidden node?\n",
    "hid_node = 450\n",
    "\n",
    "# Plot it\n",
    "# we're recylcing the function from before, so the title will still say\n",
    "# 'Training', but ignore that.\n",
    "plot_handwritten_digit(model.get_weights()[0][:,hid_node-1].reshape((28, 28)), hid_node)"
   ]
  },
  {
   "cell_type": "code",
   "execution_count": 46,
   "metadata": {},
   "outputs": [
    {
     "data": {
      "text/plain": [
       "(784,)"
      ]
     },
     "execution_count": 46,
     "metadata": {},
     "output_type": "execute_result"
    }
   ],
   "source": [
    "model.get_weights()[0][:,1].shape"
   ]
  },
  {
   "cell_type": "markdown",
   "metadata": {},
   "source": [
    "## Deeper Network with Dropout"
   ]
  },
  {
   "cell_type": "markdown",
   "metadata": {},
   "source": [
    "Let's also try a deeper neural network with more layers.  Specifically, one input layer, two fully connected hidden layers using sigmoid activation, and one output layer using softmax activation."
   ]
  },
  {
   "cell_type": "markdown",
   "metadata": {},
   "source": [
    "### `keras`"
   ]
  },
  {
   "cell_type": "code",
   "execution_count": 47,
   "metadata": {},
   "outputs": [
    {
     "name": "stderr",
     "output_type": "stream",
     "text": [
      "/Users/civisemployee/anaconda3/envs/civis/lib/python3.6/site-packages/ipykernel_launcher.py:23: UserWarning: Update your `Dense` call to the Keras 2 API: `Dense(512, input_shape=(784,), activation=\"sigmoid\", kernel_initializer=\"uniform\")`\n",
      "/Users/civisemployee/anaconda3/envs/civis/lib/python3.6/site-packages/ipykernel_launcher.py:32: UserWarning: Update your `Dense` call to the Keras 2 API: `Dense(512, activation=\"sigmoid\", kernel_initializer=\"uniform\")`\n",
      "/Users/civisemployee/anaconda3/envs/civis/lib/python3.6/site-packages/ipykernel_launcher.py:36: UserWarning: Update your `Dense` call to the Keras 2 API: `Dense(10, activation=\"softmax\", kernel_initializer=\"uniform\")`\n"
     ]
    },
    {
     "name": "stdout",
     "output_type": "stream",
     "text": [
      "_________________________________________________________________\n",
      "Layer (type)                 Output Shape              Param #   \n",
      "=================================================================\n",
      "dense_3 (Dense)              (None, 512)               401920    \n",
      "_________________________________________________________________\n",
      "dropout_1 (Dropout)          (None, 512)               0         \n",
      "_________________________________________________________________\n",
      "dense_4 (Dense)              (None, 512)               262656    \n",
      "_________________________________________________________________\n",
      "dropout_2 (Dropout)          (None, 512)               0         \n",
      "_________________________________________________________________\n",
      "dense_5 (Dense)              (None, 10)                5130      \n",
      "=================================================================\n",
      "Total params: 669,706\n",
      "Trainable params: 669,706\n",
      "Non-trainable params: 0\n",
      "_________________________________________________________________\n"
     ]
    }
   ],
   "source": [
    "# Tell keras we want to create a sequential (feed-forward network) model, in which one\n",
    "# layer follows the next\n",
    "deeper_model = Sequential()\n",
    "\n",
    "# Create the input layer and the hidden layer of the network\n",
    "# 'Dense' indicates that we want all inputs to connect to every node in the hidden layer\n",
    "# 'input_shape' tells the hidden layer the dimension of the input to expect, which is determined\n",
    "#    by our data (the number of predictors in our data set = 784 pixels per image)\n",
    "# 'NUM_HIDDEN_UNITS' (which we defined above) tells keras how many nodes are the hidden layer connected\n",
    "#    to the input layer\n",
    "# 'activation' specifies how values from the input node should be processed by hidden nodes.\n",
    "deeper_model.add(Dense(NUM_HIDDEN_UNITS, input_shape=(784,), activation='sigmoid', init='uniform'))\n",
    "\n",
    "# Next, implement dropout in the first layer, with 50% of the input nodes being \n",
    "# dropped for each iteration.\n",
    "deeper_model.add(Dropout(0.5))\n",
    "\n",
    "# Next, create a second hidden layer with sigmoid activation, and\n",
    "# implement drop out.  Keras will look at the most layer we just created\n",
    "# to figure out how many inputs to expect.\n",
    "deeper_model.add(Dense(NUM_HIDDEN_UNITS, activation='sigmoid', init='uniform'))\n",
    "deeper_model.add(Dropout(0.5))\n",
    "\n",
    "# Next, we'll create the output layer.\n",
    "deeper_model.add(Dense(10, activation='softmax', init='uniform'))\n",
    "\n",
    "# Next, we specify the properties of our optimizer.\n",
    "# We'll be using stochastic gradient descent with momentum, along with \n",
    "# the crossentropy cost function.\n",
    "# Note: We're using a larger learning rate than in the single-layer network, and\n",
    "# and no decay.  I arrived at these settings through tuning, but intuitively this is \n",
    "# a more complicated function to optimize (given the additional layer)\n",
    "# and since I don't want to run over a huge number of epochs, I'm asking keras\n",
    "# to learn faster.  This may not always work in practice.\n",
    "sgd = SGD(lr=4.*LEARNING_RATE, decay=0., momentum=MOMENTUM, nesterov=True)\n",
    "deeper_model.compile(loss='categorical_crossentropy', optimizer=sgd)\n",
    "\n",
    "# Summarize the model setup\n",
    "deeper_model.summary()"
   ]
  },
  {
   "cell_type": "code",
   "execution_count": 48,
   "metadata": {},
   "outputs": [
    {
     "name": "stderr",
     "output_type": "stream",
     "text": [
      "/Users/civisemployee/anaconda3/envs/civis/lib/python3.6/site-packages/keras/models.py:844: UserWarning: The `nb_epoch` argument in `fit` has been renamed `epochs`.\n",
      "  warnings.warn('The `nb_epoch` argument in `fit` '\n"
     ]
    },
    {
     "name": "stdout",
     "output_type": "stream",
     "text": [
      "Epoch 1/10\n",
      "50000/50000 [==============================] - 4s - loss: 2.3208     \n",
      "Epoch 2/10\n",
      "50000/50000 [==============================] - 4s - loss: 2.1674     \n",
      "Epoch 3/10\n",
      "50000/50000 [==============================] - 4s - loss: 1.5823     \n",
      "Epoch 4/10\n",
      "50000/50000 [==============================] - 4s - loss: 1.1307     \n",
      "Epoch 5/10\n",
      "50000/50000 [==============================] - 5s - loss: 0.9192     \n",
      "Epoch 6/10\n",
      "50000/50000 [==============================] - 5s - loss: 0.7876     \n",
      "Epoch 7/10\n",
      "50000/50000 [==============================] - 5s - loss: 0.6991     \n",
      "Epoch 8/10\n",
      "50000/50000 [==============================] - 4s - loss: 0.6347     \n",
      "Epoch 9/10\n",
      "50000/50000 [==============================] - 5s - loss: 0.5944     - ETA: 0s - loss: 0.\n",
      "Epoch 10/10\n",
      "50000/50000 [==============================] - 4s - loss: 0.5596     \n"
     ]
    },
    {
     "data": {
      "text/plain": [
       "<keras.callbacks.History at 0x12e477da0>"
      ]
     },
     "execution_count": 48,
     "metadata": {},
     "output_type": "execute_result"
    }
   ],
   "source": [
    "# Vectorize the response once again, and train the network.\n",
    "Y_train = np_utils.to_categorical(y_train, 10)\n",
    "deeper_model.fit(X_train, Y_train, batch_size=BATCH_SIZE, nb_epoch=NUM_EPOCHS)"
   ]
  },
  {
   "cell_type": "code",
   "execution_count": 50,
   "metadata": {},
   "outputs": [
    {
     "name": "stdout",
     "output_type": "stream",
     "text": [
      " 9568/10000 [===========================>..] - ETA: 0s             precision    recall  f1-score   support\n",
      "\n",
      "          0       0.98      0.99      0.98      1028\n",
      "          1       0.99      0.96      0.97      1212\n",
      "          2       0.97      0.94      0.95      1005\n",
      "          3       0.92      0.96      0.94      1021\n",
      "          4       0.91      0.93      0.92      1061\n",
      "          5       0.94      0.88      0.91       863\n",
      "          6       0.97      0.93      0.95      1001\n",
      "          7       0.94      0.97      0.95      1009\n",
      "          8       0.89      0.98      0.93       832\n",
      "          9       0.91      0.88      0.89       968\n",
      "\n",
      "avg / total       0.94      0.94      0.94     10000\n",
      "\n",
      "0.942\n"
     ]
    }
   ],
   "source": [
    "Y_test_deeper = deeper_model.predict_classes(X_test)\n",
    "#test_preds = np_utils.categorical_probas_to_classes(Y_test_keras)\n",
    "print(classification_report(Y_test_deeper, test_preds))\n",
    "print(accuracy_score(Y_test_deeper, test_preds))"
   ]
  },
  {
   "cell_type": "markdown",
   "metadata": {},
   "source": [
    "## Tensorflow\n",
    "\n",
    "Tensorflow is an open-source package provided by Google specifically designed for deep learning. In terms of what we've done so far in this notebook, it's comparable to theano in that it's a computational backend that can be paired with keras.  However, it can also be used directly (as can theano actually) to specify, train, and evaluate neural networks.  \n",
    "\n",
    "The basic idea behind tensorflow is to describe a network as a  'map' in which nodes correspond to computations (e.g., apply softmax function or sigmoid function), and the edges between nodes correspond to the flow of *tensors* (or multi-dimensional arrays) as they get processed via successive computations. Essentially, the tensors \"flow\" through the map, getting modified along the way.  \n",
    "\n",
    "Like theano, one key function of tensorflow is its ability to automatically calculate the derivatives required by gradient descent.  It figures out how all the parameters feed into the loss function, and calculates derivatives accordingly.\n",
    "\n",
    "In addition, tensorflow has many advanced features that we won't discuss.  For instance, it is designed to work well with GPU's, which have been found to be very good at performing the computations required by neural networks.  It can also be used for distributed processing, or even on smart phones.\n",
    "\n",
    "Instructions for installing tensorflow can be found here: https://www.tensorflow.org/versions/r0.11/get_started/os_setup.html.  If you want the simplest possible install, I'd stick with the 'CPU Only' approach, which avoids having to setup additional packages required for GPU processing.\n",
    "\n",
    "Also, there now exists a tensorflow wrapper in R, which let's you use tensorflow without leaving R. I have not tried it, but if you do, let me know what you think.\n",
    "https://rstudio.github.io/tensorflow/\n",
    "\n",
    "Note that the R wrapper warns against installing tensorflow using anaconda, which is unfortunate.  I used the conda installation for use in Python, which worked fine.\n",
    "\n",
    "We'll now do the digit classification problem in tensorflow.  This example is heavily based on Google's own example: https://github.com/tensorflow/tensorflow/blob/r0.11/tensorflow/examples/tutorials/mnist/mnist_softmax.py"
   ]
  },
  {
   "cell_type": "markdown",
   "metadata": {},
   "source": [
    "### Digit Classification"
   ]
  },
  {
   "cell_type": "code",
   "execution_count": 51,
   "metadata": {
    "collapsed": true
   },
   "outputs": [],
   "source": [
    "# Let's import tensorflow\n",
    "import tensorflow as tf\n",
    "from tensorflow.examples.tutorials.mnist import input_data"
   ]
  },
  {
   "cell_type": "code",
   "execution_count": 52,
   "metadata": {},
   "outputs": [
    {
     "name": "stdout",
     "output_type": "stream",
     "text": [
      "Successfully downloaded train-images-idx3-ubyte.gz 9912422 bytes.\n",
      "Extracting MNIST_data/train-images-idx3-ubyte.gz\n",
      "Successfully downloaded train-labels-idx1-ubyte.gz 28881 bytes.\n",
      "Extracting MNIST_data/train-labels-idx1-ubyte.gz\n",
      "Successfully downloaded t10k-images-idx3-ubyte.gz 1648877 bytes.\n",
      "Extracting MNIST_data/t10k-images-idx3-ubyte.gz\n",
      "Successfully downloaded t10k-labels-idx1-ubyte.gz 4542 bytes.\n",
      "Extracting MNIST_data/t10k-labels-idx1-ubyte.gz\n"
     ]
    }
   ],
   "source": [
    "# Pull down the data in a tensforflow-friendly format\n",
    "mnist_tf = input_data.read_data_sets(\"MNIST_data/\",one_hot=True)"
   ]
  },
  {
   "cell_type": "markdown",
   "metadata": {},
   "source": [
    "Our data again consists of 28x28 pixel images, for 784 total pixes per image.  We therefore create a tensor flow *placeholder* to reprsent the input layer in our network.  We won't actually provide data yet -we're just telling tensorflow to expect data of a certain shape."
   ]
  },
  {
   "cell_type": "code",
   "execution_count": 53,
   "metadata": {
    "collapsed": true
   },
   "outputs": [],
   "source": [
    "x = tf.placeholder(tf.float32, [None,784])"
   ]
  },
  {
   "cell_type": "markdown",
   "metadata": {},
   "source": [
    "The ```float32``` tells tensorflow the type of data that will be stored in ```x```.  The ```[None,784]``` tells tensorflow to expect data with some (unspecified) number of rows, and 784 columns.\n",
    "\n",
    "Next, we need to add objects to our tensorflow map that correspond to the weights and biases of our neural network.  Specifically, we create tensorflow ```variables```, which can be updated as tensforflow performs gradient descent."
   ]
  },
  {
   "cell_type": "code",
   "execution_count": 54,
   "metadata": {
    "collapsed": true
   },
   "outputs": [],
   "source": [
    "# Weights and biases used to map inputs to hidden layer\n",
    "W = tf.Variable(tf.zeros([784,500]))\n",
    "b = tf.Variable(tf.zeros([500]))\n",
    "\n",
    "# Calculation of hidden layer using sigmoid activation\n",
    "h = tf.sigmoid(tf.matmul(x,W)+b)\n",
    "\n",
    "# Weights and biases used to map hidden layer to output layer\n",
    "hW = tf.Variable(tf.zeros([500,10]))\n",
    "hb = tf.Variable(tf.zeros([10]))\n",
    "\n",
    "# Calculation to map hidden layer to output layer\n",
    "# Note: We'll apply softmax implicitly in the cost function\n",
    "y = tf.matmul(h,hW)+hb\n",
    "\n",
    "# Placeholder for the training response data\n",
    "y_ = tf.placeholder(tf.float32,[None,10])"
   ]
  },
  {
   "cell_type": "markdown",
   "metadata": {},
   "source": [
    "Next, we specify our objective function, and how we'd like to update our parameters -in our case, via gradient descent"
   ]
  },
  {
   "cell_type": "code",
   "execution_count": 63,
   "metadata": {},
   "outputs": [
    {
     "name": "stdout",
     "output_type": "stream",
     "text": [
      "done\n"
     ]
    }
   ],
   "source": [
    "cross_entropy = tf.reduce_mean(tf.nn.softmax_cross_entropy_with_logits(logits=y,labels=y_))\n",
    "train_step = tf.train.GradientDescentOptimizer(0.9).minimize(cross_entropy)\n",
    "print(\"done\")  # this calculation can take a little while\n",
    "#train_step = tf.train.MomentumOptimizer(learning_rate=0.5,momentum=0.9).minimize(cross_entropy)"
   ]
  },
  {
   "cell_type": "markdown",
   "metadata": {},
   "source": [
    "Finally, we initialize all of the variables in the tensorflow map, start a session (tensorflow operations need to take place within a session), then iterate using the gradient descent algorithm in order to adjust the weights and minimize cost."
   ]
  },
  {
   "cell_type": "code",
   "execution_count": 65,
   "metadata": {},
   "outputs": [
    {
     "name": "stdout",
     "output_type": "stream",
     "text": [
      "0\n",
      "100\n",
      "200\n",
      "300\n",
      "400\n",
      "500\n",
      "600\n",
      "700\n",
      "800\n",
      "900\n"
     ]
    }
   ],
   "source": [
    "init = tf.global_variables_initializer()\n",
    "sess = tf.Session()\n",
    "sess.run(init)\n",
    "\n",
    "for i in range(1000):\n",
    "    batch_xs, batch_ys = mnist_tf.train.next_batch(600)\n",
    "    sess.run(train_step,feed_dict={x: batch_xs, y_: batch_ys})\n",
    "    if i%100==0:\n",
    "        print(\"status update: \", i)"
   ]
  },
  {
   "cell_type": "code",
   "execution_count": 66,
   "metadata": {},
   "outputs": [
    {
     "name": "stdout",
     "output_type": "stream",
     "text": [
      "0.3129\n"
     ]
    }
   ],
   "source": [
    "# Lastly, we calculate accuracy of our fitted neural network\n",
    "correct_prediction = tf.equal(tf.argmax(y,1),tf.argmax(y_,1))\n",
    "accuracy = tf.reduce_mean(tf.cast(correct_prediction, tf.float32))\n",
    "\n",
    "print(sess.run(accuracy,feed_dict={x: mnist_tf.test.images, y_: mnist_tf.test.labels}))"
   ]
  },
  {
   "cell_type": "markdown",
   "metadata": {},
   "source": [
    "Definitely bad, but I did no tuning."
   ]
  },
  {
   "cell_type": "code",
   "execution_count": null,
   "metadata": {
    "collapsed": true
   },
   "outputs": [],
   "source": [
    "# Close the tensorflow session\n",
    "sess.close()"
   ]
  },
  {
   "cell_type": "markdown",
   "metadata": {},
   "source": [
    "## Unsurpervised Feature Learning with a Restricted Boltzmann Machine (RBM)"
   ]
  },
  {
   "cell_type": "markdown",
   "metadata": {},
   "source": [
    "Here, we'll do unsupervised feature learning, or dimensionality reduction.  This can be done with an autoencoder or a restricted boltzmann machine (RBM).  Without getting into too many of the details, both an autoencoder and an RBM have an input and a single hidden layer of reduced dimensionality.  The hidden layer is trained so that it can take the input and reconstruct it as accurately as possible, but with a smaller set of hidden nodes than input nodes.  Luckily for us, scikit-learn has an RBM class."
   ]
  },
  {
   "cell_type": "code",
   "execution_count": 67,
   "metadata": {
    "collapsed": true
   },
   "outputs": [],
   "source": [
    "digits = datasets.load_digits()\n",
    "X_train = np.asarray(digits.data, 'float32')\n",
    "y_train = digits.target"
   ]
  },
  {
   "cell_type": "markdown",
   "metadata": {},
   "source": [
    "Let's take our training set and center it so that the features are all between 0 and 1:"
   ]
  },
  {
   "cell_type": "code",
   "execution_count": 68,
   "metadata": {
    "collapsed": true
   },
   "outputs": [],
   "source": [
    "X_train = (X_train - np.min(X_train, 0)) / (np.max(X_train, 0) + 0.0001)  # 0-1 scaling"
   ]
  },
  {
   "cell_type": "markdown",
   "metadata": {},
   "source": [
    "Let's take a random 10k observations to train on:"
   ]
  },
  {
   "cell_type": "code",
   "execution_count": 69,
   "metadata": {
    "collapsed": true
   },
   "outputs": [],
   "source": [
    "N_EXAMPLES = 10000\n",
    "X_train_rbm, X_test_rbm, y_train_rbm, y_test_rbm = train_test_split(X_train, y_train, test_size=0.5, random_state=0)\n",
    "\n",
    "X_train_rbm = X_train_rbm[0:N_EXAMPLES]\n",
    "y_train_rbm = y_train_rbm[0:N_EXAMPLES]"
   ]
  },
  {
   "cell_type": "markdown",
   "metadata": {},
   "source": [
    "The RBM needs a learning rate and a number of iterations to train for.  The parameter `n_components` tells it how many hidden nodes to use.  It's the dimensionality of the reduced dimension space (like PCA or t-SNE)."
   ]
  },
  {
   "cell_type": "code",
   "execution_count": 70,
   "metadata": {
    "collapsed": true
   },
   "outputs": [],
   "source": [
    "rbm = BernoulliRBM(learning_rate=0.05, n_iter=20, n_components=200, random_state=0, verbose=True)"
   ]
  },
  {
   "cell_type": "markdown",
   "metadata": {},
   "source": [
    "We fit the RBM like so:"
   ]
  },
  {
   "cell_type": "code",
   "execution_count": 71,
   "metadata": {},
   "outputs": [
    {
     "name": "stdout",
     "output_type": "stream",
     "text": [
      "[BernoulliRBM] Iteration 1, pseudo-likelihood = -27.16, time = 0.05s\n",
      "[BernoulliRBM] Iteration 2, pseudo-likelihood = -26.23, time = 0.08s\n",
      "[BernoulliRBM] Iteration 3, pseudo-likelihood = -25.94, time = 0.04s\n",
      "[BernoulliRBM] Iteration 4, pseudo-likelihood = -26.19, time = 0.04s\n",
      "[BernoulliRBM] Iteration 5, pseudo-likelihood = -25.71, time = 0.05s\n",
      "[BernoulliRBM] Iteration 6, pseudo-likelihood = -24.81, time = 0.06s\n",
      "[BernoulliRBM] Iteration 7, pseudo-likelihood = -24.67, time = 0.06s\n",
      "[BernoulliRBM] Iteration 8, pseudo-likelihood = -24.64, time = 0.05s\n",
      "[BernoulliRBM] Iteration 9, pseudo-likelihood = -22.60, time = 0.05s\n",
      "[BernoulliRBM] Iteration 10, pseudo-likelihood = -21.81, time = 0.09s\n",
      "[BernoulliRBM] Iteration 11, pseudo-likelihood = -21.89, time = 0.04s\n",
      "[BernoulliRBM] Iteration 12, pseudo-likelihood = -21.87, time = 0.04s\n",
      "[BernoulliRBM] Iteration 13, pseudo-likelihood = -21.52, time = 0.05s\n",
      "[BernoulliRBM] Iteration 14, pseudo-likelihood = -22.05, time = 0.07s\n",
      "[BernoulliRBM] Iteration 15, pseudo-likelihood = -21.39, time = 0.05s\n",
      "[BernoulliRBM] Iteration 16, pseudo-likelihood = -21.83, time = 0.04s\n",
      "[BernoulliRBM] Iteration 17, pseudo-likelihood = -21.24, time = 0.04s\n",
      "[BernoulliRBM] Iteration 18, pseudo-likelihood = -20.96, time = 0.06s\n",
      "[BernoulliRBM] Iteration 19, pseudo-likelihood = -21.21, time = 0.05s\n",
      "[BernoulliRBM] Iteration 20, pseudo-likelihood = -21.12, time = 0.05s\n"
     ]
    },
    {
     "data": {
      "text/plain": [
       "BernoulliRBM(batch_size=10, learning_rate=0.05, n_components=200, n_iter=20,\n",
       "       random_state=0, verbose=True)"
      ]
     },
     "execution_count": 71,
     "metadata": {},
     "output_type": "execute_result"
    }
   ],
   "source": [
    "rbm.fit(X_train_rbm)"
   ]
  },
  {
   "cell_type": "code",
   "execution_count": 72,
   "metadata": {},
   "outputs": [
    {
     "data": {
      "text/plain": [
       "(200, 64)"
      ]
     },
     "execution_count": 72,
     "metadata": {},
     "output_type": "execute_result"
    }
   ],
   "source": [
    "rbm.components_.shape"
   ]
  },
  {
   "cell_type": "markdown",
   "metadata": {},
   "source": [
    "To see what kinds of features the hidden nodes are learning, we can plot each node as a 28 by 28 pixel image where the darkness is how large the weight is connecting the hidden node to the corresponding input node:"
   ]
  },
  {
   "cell_type": "code",
   "execution_count": 74,
   "metadata": {},
   "outputs": [
    {
     "data": {
      "image/png": "[encoded data removed]",
      "text/plain": [
       "<matplotlib.figure.Figure at 0x143e1c438>"
      ]
     },
     "metadata": {},
     "output_type": "display_data"
    }
   ],
   "source": [
    "plt.figure(figsize=(4.2, 4))\n",
    "for i, comp in enumerate(rbm.components_):\n",
    "    plt.subplot(10, 20, i + 1)\n",
    "    plt.imshow(comp.reshape((8, 8)), cmap=plt.cm.gray_r, interpolation='nearest')\n",
    "    plt.xticks(())\n",
    "    plt.yticks(())\n",
    "\n",
    "plt.suptitle('Components extracted by the RBM', fontsize=16)\n",
    "plt.subplots_adjust(0.08, 0.02, 0.92, 0.85, 0.08, 0.23)\n",
    "\n",
    "plt.show()"
   ]
  },
  {
   "cell_type": "markdown",
   "metadata": {},
   "source": [
    "Let's look in more detail at some of the individual hidden nodes:"
   ]
  },
  {
   "cell_type": "code",
   "execution_count": 77,
   "metadata": {
    "collapsed": true
   },
   "outputs": [],
   "source": [
    "def plot_rbm_component(comp_num):\n",
    "    plt.figure(figsize=(4.2, 4))\n",
    "\n",
    "    comp = rbm.components_[comp_num]\n",
    "    plt.imshow(comp.reshape((8, 8)), cmap=plt.cm.gray_r, interpolation='nearest')\n",
    "    plt.xticks(())\n",
    "    plt.yticks(())\n",
    "\n",
    "    plt.show()"
   ]
  },
  {
   "cell_type": "code",
   "execution_count": 78,
   "metadata": {},
   "outputs": [
    {
     "data": {
      "image/png": "[encoded data removed]",
      "text/plain": [
       "<matplotlib.figure.Figure at 0x1537d7d68>"
      ]
     },
     "metadata": {},
     "output_type": "display_data"
    }
   ],
   "source": [
    "# 60, 80, 90, 120\n",
    "plot_rbm_component(120)"
   ]
  },
  {
   "cell_type": "markdown",
   "metadata": {},
   "source": [
    "Let's see how a logistic regression trained using just the raw pixel values does:"
   ]
  },
  {
   "cell_type": "code",
   "execution_count": 83,
   "metadata": {},
   "outputs": [
    {
     "name": "stdout",
     "output_type": "stream",
     "text": [
      "             precision    recall  f1-score   support\n",
      "\n",
      "          0       1.00      1.00      1.00        89\n",
      "          1       0.94      0.94      0.94        90\n",
      "          2       0.98      0.98      0.98        92\n",
      "          3       0.97      0.94      0.95        93\n",
      "          4       0.97      0.97      0.97        76\n",
      "          5       0.94      0.95      0.94       108\n",
      "          6       0.96      0.98      0.97        89\n",
      "          7       0.95      1.00      0.97        78\n",
      "          8       0.93      0.86      0.89        92\n",
      "          9       0.90      0.92      0.91        92\n",
      "\n",
      "avg / total       0.95      0.95      0.95       899\n",
      "\n",
      "0.953281423804\n"
     ]
    }
   ],
   "source": [
    "N_LOGIT_TRAIN_EXAMPLES = 4000\n",
    "\n",
    "pixel_logit = LogisticRegression()\n",
    "pixel_logit.fit(X_train_rbm[0:N_LOGIT_TRAIN_EXAMPLES], y_train_rbm[0:N_LOGIT_TRAIN_EXAMPLES])\n",
    "\n",
    "# score it on the same test set we used above\n",
    "print(classification_report(y_test_rbm, pixel_logit.predict(X_test_rbm)))\n",
    "print(accuracy_score(y_test_rbm, pixel_logit.predict(X_test_rbm)))"
   ]
  },
  {
   "cell_type": "markdown",
   "metadata": {},
   "source": [
    "Now let's see how it does with the features learned by the RBM:"
   ]
  },
  {
   "cell_type": "code",
   "execution_count": 84,
   "metadata": {},
   "outputs": [
    {
     "name": "stdout",
     "output_type": "stream",
     "text": [
      "             precision    recall  f1-score   support\n",
      "\n",
      "          0       0.94      0.99      0.96        89\n",
      "          1       0.72      0.70      0.71        90\n",
      "          2       0.77      0.82      0.79        92\n",
      "          3       0.78      0.73      0.76        93\n",
      "          4       0.95      0.93      0.94        76\n",
      "          5       0.92      0.67      0.77       108\n",
      "          6       0.92      0.93      0.93        89\n",
      "          7       0.72      0.91      0.80        78\n",
      "          8       0.79      0.63      0.70        92\n",
      "          9       0.61      0.77      0.68        92\n",
      "\n",
      "avg / total       0.81      0.80      0.80       899\n",
      "\n",
      "0.800889877642\n"
     ]
    }
   ],
   "source": [
    "rbm_logit = LogisticRegression()\n",
    "rbm_features_train = rbm.transform(X_train_rbm[0:N_LOGIT_TRAIN_EXAMPLES]) \n",
    "rbm_logit.fit(rbm_features_train, y_train_rbm[0:N_LOGIT_TRAIN_EXAMPLES])\n",
    "\n",
    "rbm_features_test = rbm.transform(X_test_rbm) \n",
    "print(classification_report(y_test_rbm, rbm_logit.predict(rbm_features_test)))\n",
    "print(accuracy_score(y_test_rbm, rbm_logit.predict(rbm_features_test)))"
   ]
  },
  {
   "cell_type": "markdown",
   "metadata": {},
   "source": [
    "We can also take the hidden features learned by the RBM, and train a new RBM on them:"
   ]
  },
  {
   "cell_type": "code",
   "execution_count": 85,
   "metadata": {},
   "outputs": [
    {
     "name": "stdout",
     "output_type": "stream",
     "text": [
      "[BernoulliRBM] Iteration 1, pseudo-likelihood = -117.73, time = 0.07s\n",
      "[BernoulliRBM] Iteration 2, pseudo-likelihood = -118.51, time = 0.10s\n",
      "[BernoulliRBM] Iteration 3, pseudo-likelihood = -118.87, time = 0.07s\n",
      "[BernoulliRBM] Iteration 4, pseudo-likelihood = -118.26, time = 0.07s\n",
      "[BernoulliRBM] Iteration 5, pseudo-likelihood = -118.17, time = 0.12s\n",
      "[BernoulliRBM] Iteration 6, pseudo-likelihood = -117.87, time = 0.06s\n",
      "[BernoulliRBM] Iteration 7, pseudo-likelihood = -118.00, time = 0.09s\n",
      "[BernoulliRBM] Iteration 8, pseudo-likelihood = -118.30, time = 0.08s\n",
      "[BernoulliRBM] Iteration 9, pseudo-likelihood = -117.53, time = 0.06s\n",
      "[BernoulliRBM] Iteration 10, pseudo-likelihood = -117.40, time = 0.06s\n",
      "[BernoulliRBM] Iteration 11, pseudo-likelihood = -117.15, time = 0.09s\n",
      "[BernoulliRBM] Iteration 12, pseudo-likelihood = -116.43, time = 0.06s\n",
      "[BernoulliRBM] Iteration 13, pseudo-likelihood = -115.77, time = 0.07s\n",
      "[BernoulliRBM] Iteration 14, pseudo-likelihood = -115.57, time = 0.06s\n",
      "[BernoulliRBM] Iteration 15, pseudo-likelihood = -115.64, time = 0.08s\n",
      "[BernoulliRBM] Iteration 16, pseudo-likelihood = -115.33, time = 0.09s\n",
      "[BernoulliRBM] Iteration 17, pseudo-likelihood = -115.09, time = 0.23s\n",
      "[BernoulliRBM] Iteration 18, pseudo-likelihood = -114.82, time = 0.13s\n",
      "[BernoulliRBM] Iteration 19, pseudo-likelihood = -114.35, time = 0.13s\n",
      "[BernoulliRBM] Iteration 20, pseudo-likelihood = -114.53, time = 0.11s\n",
      "[BernoulliRBM] Iteration 21, pseudo-likelihood = -114.05, time = 0.15s\n",
      "[BernoulliRBM] Iteration 22, pseudo-likelihood = -113.95, time = 0.09s\n",
      "[BernoulliRBM] Iteration 23, pseudo-likelihood = -114.12, time = 0.06s\n",
      "[BernoulliRBM] Iteration 24, pseudo-likelihood = -114.17, time = 0.06s\n",
      "[BernoulliRBM] Iteration 25, pseudo-likelihood = -114.16, time = 0.13s\n",
      "[BernoulliRBM] Iteration 26, pseudo-likelihood = -113.81, time = 0.12s\n",
      "[BernoulliRBM] Iteration 27, pseudo-likelihood = -114.23, time = 0.07s\n",
      "[BernoulliRBM] Iteration 28, pseudo-likelihood = -114.08, time = 0.08s\n",
      "[BernoulliRBM] Iteration 29, pseudo-likelihood = -113.87, time = 0.12s\n",
      "[BernoulliRBM] Iteration 30, pseudo-likelihood = -113.54, time = 0.08s\n",
      "[BernoulliRBM] Iteration 31, pseudo-likelihood = -113.99, time = 0.13s\n",
      "[BernoulliRBM] Iteration 32, pseudo-likelihood = -113.28, time = 0.15s\n",
      "[BernoulliRBM] Iteration 33, pseudo-likelihood = -113.80, time = 0.14s\n",
      "[BernoulliRBM] Iteration 34, pseudo-likelihood = -114.08, time = 0.16s\n",
      "[BernoulliRBM] Iteration 35, pseudo-likelihood = -114.06, time = 0.13s\n",
      "[BernoulliRBM] Iteration 36, pseudo-likelihood = -113.86, time = 0.06s\n",
      "[BernoulliRBM] Iteration 37, pseudo-likelihood = -113.75, time = 0.06s\n",
      "[BernoulliRBM] Iteration 38, pseudo-likelihood = -113.91, time = 0.06s\n",
      "[BernoulliRBM] Iteration 39, pseudo-likelihood = -113.49, time = 0.09s\n",
      "[BernoulliRBM] Iteration 40, pseudo-likelihood = -113.34, time = 0.07s\n",
      "[BernoulliRBM] Iteration 41, pseudo-likelihood = -113.46, time = 0.09s\n",
      "[BernoulliRBM] Iteration 42, pseudo-likelihood = -113.65, time = 0.08s\n",
      "[BernoulliRBM] Iteration 43, pseudo-likelihood = -114.08, time = 0.10s\n",
      "[BernoulliRBM] Iteration 44, pseudo-likelihood = -113.39, time = 0.06s\n",
      "[BernoulliRBM] Iteration 45, pseudo-likelihood = -113.58, time = 0.06s\n",
      "[BernoulliRBM] Iteration 46, pseudo-likelihood = -113.11, time = 0.09s\n",
      "[BernoulliRBM] Iteration 47, pseudo-likelihood = -113.38, time = 0.06s\n",
      "[BernoulliRBM] Iteration 48, pseudo-likelihood = -113.11, time = 0.09s\n",
      "[BernoulliRBM] Iteration 49, pseudo-likelihood = -112.92, time = 0.09s\n",
      "[BernoulliRBM] Iteration 50, pseudo-likelihood = -113.55, time = 0.06s\n"
     ]
    },
    {
     "data": {
      "text/plain": [
       "BernoulliRBM(batch_size=10, learning_rate=0.05, n_components=150, n_iter=50,\n",
       "       random_state=0, verbose=True)"
      ]
     },
     "execution_count": 85,
     "metadata": {},
     "output_type": "execute_result"
    }
   ],
   "source": [
    "rbm_2 = BernoulliRBM(learning_rate=0.05, n_iter=50, n_components=150, random_state=0, verbose=True)\n",
    "rbm_2.fit(rbm_features_train)"
   ]
  },
  {
   "cell_type": "code",
   "execution_count": 86,
   "metadata": {},
   "outputs": [
    {
     "name": "stdout",
     "output_type": "stream",
     "text": [
      "             precision    recall  f1-score   support\n",
      "\n",
      "          0       0.90      0.98      0.94        89\n",
      "          1       0.55      0.43      0.48        90\n",
      "          2       0.60      0.85      0.70        92\n",
      "          3       0.79      0.63      0.70        93\n",
      "          4       0.92      0.95      0.94        76\n",
      "          5       0.62      0.19      0.30       108\n",
      "          6       0.98      0.92      0.95        89\n",
      "          7       0.40      0.91      0.56        78\n",
      "          8       0.66      0.23      0.34        92\n",
      "          9       0.54      0.71      0.61        92\n",
      "\n",
      "avg / total       0.69      0.66      0.64       899\n",
      "\n",
      "0.661846496107\n"
     ]
    }
   ],
   "source": [
    "rbm_logit_2 = LogisticRegression()\n",
    "rbm_features_train_2 = rbm_2.transform(rbm_features_train) \n",
    "rbm_logit_2.fit(rbm_features_train_2, y_train_rbm[0:N_LOGIT_TRAIN_EXAMPLES])\n",
    "\n",
    "rbm_features_test_2 = rbm_2.transform(rbm_features_test) \n",
    "print(classification_report(y_test_rbm, rbm_logit_2.predict(rbm_features_test_2)))\n",
    "print(accuracy_score(y_test_rbm, rbm_logit_2.predict(rbm_features_test_2)))"
   ]
  },
  {
   "cell_type": "code",
   "execution_count": null,
   "metadata": {
    "collapsed": true
   },
   "outputs": [],
   "source": []
  }
 ],
 "metadata": {
  "kernelspec": {
   "display_name": "Python 3",
   "language": "python",
   "name": "python3"
  },
  "language_info": {
   "codemirror_mode": {
    "name": "ipython",
    "version": 3
   },
   "file_extension": ".py",
   "mimetype": "text/x-python",
   "name": "python",
   "nbconvert_exporter": "python",
   "pygments_lexer": "ipython3",
   "version": "3.6.2"
  },
  "widgets": {
   "state": {},
   "version": "1.1.2"
  }
 },
 "nbformat": 4,
 "nbformat_minor": 1
}
