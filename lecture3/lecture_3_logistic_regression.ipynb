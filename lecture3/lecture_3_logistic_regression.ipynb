{
 "cells": [
  {
   "cell_type": "markdown",
   "metadata": {},
   "source": [
    "# Lecture 3: Logistic Regressions"
   ]
  },
  {
   "cell_type": "markdown",
   "metadata": {},
   "source": [
    "Here, we'll see examples of how to use the scikit-learn logistic regression class, as well as the statsmodels GLM function, which is much more similar to R's glm function for doing logistic regression."
   ]
  },
  {
   "cell_type": "markdown",
   "metadata": {},
   "source": [
    "You can read about the scikit-learn logistic regression function here:"
   ]
  },
  {
   "cell_type": "markdown",
   "metadata": {},
   "source": [
    "[http://scikit-learn.org/stable/modules/generated/sklearn.linear_model.LogisticRegression.html](http://scikit-learn.org/stable/modules/generated/sklearn.linear_model.LogisticRegression.html)"
   ]
  },
  {
   "cell_type": "code",
   "execution_count": 1,
   "metadata": {
    "collapsed": true,
    "scrolled": true
   },
   "outputs": [],
   "source": [
    "%matplotlib inline"
   ]
  },
  {
   "cell_type": "code",
   "execution_count": 2,
   "metadata": {
    "scrolled": true
   },
   "outputs": [],
   "source": [
    "import numpy as np\n",
    "import pandas as pd\n",
    "import matplotlib.pyplot as plt\n",
    "from sklearn.linear_model import LogisticRegression\n",
    "# sklearn.metrics has a bunch of really handy evaluation functions\n",
    "from sklearn.metrics import confusion_matrix, accuracy_score, classification_report, roc_curve, roc_auc_score\n",
    "from sklearn import datasets\n",
    "import seaborn as sns"
   ]
  },
  {
   "cell_type": "markdown",
   "metadata": {},
   "source": [
    "Let's load the famous iris dataset, which has measured features of different species of iris:"
   ]
  },
  {
   "cell_type": "code",
   "execution_count": 3,
   "metadata": {
    "collapsed": true,
    "scrolled": true
   },
   "outputs": [],
   "source": [
    "iris = datasets.load_iris()"
   ]
  },
  {
   "cell_type": "code",
   "execution_count": 4,
   "metadata": {
    "scrolled": true
   },
   "outputs": [
    {
     "data": {
      "text/plain": [
       "dict_keys(['data', 'target', 'target_names', 'DESCR', 'feature_names'])"
      ]
     },
     "execution_count": 4,
     "metadata": {},
     "output_type": "execute_result"
    }
   ],
   "source": [
    "iris.keys()"
   ]
  },
  {
   "cell_type": "markdown",
   "metadata": {},
   "source": [
    "The three species are coded as 0, 1, 2:"
   ]
  },
  {
   "cell_type": "code",
   "execution_count": 5,
   "metadata": {
    "scrolled": true
   },
   "outputs": [
    {
     "data": {
      "text/plain": [
       "array(['setosa', 'versicolor', 'virginica'],\n",
       "      dtype='<U10')"
      ]
     },
     "execution_count": 5,
     "metadata": {},
     "output_type": "execute_result"
    }
   ],
   "source": [
    "iris.target_names"
   ]
  },
  {
   "cell_type": "code",
   "execution_count": 6,
   "metadata": {
    "scrolled": true
   },
   "outputs": [
    {
     "data": {
      "text/plain": [
       "array([0, 0, 0, 0, 0, 0, 0, 0, 0, 0, 0, 0, 0, 0, 0, 0, 0, 0, 0, 0, 0, 0, 0,\n",
       "       0, 0, 0, 0, 0, 0, 0, 0, 0, 0, 0, 0, 0, 0, 0, 0, 0, 0, 0, 0, 0, 0, 0,\n",
       "       0, 0, 0, 0, 1, 1, 1, 1, 1, 1, 1, 1, 1, 1, 1, 1, 1, 1, 1, 1, 1, 1, 1,\n",
       "       1, 1, 1, 1, 1, 1, 1, 1, 1, 1, 1, 1, 1, 1, 1, 1, 1, 1, 1, 1, 1, 1, 1,\n",
       "       1, 1, 1, 1, 1, 1, 1, 1, 2, 2, 2, 2, 2, 2, 2, 2, 2, 2, 2, 2, 2, 2, 2,\n",
       "       2, 2, 2, 2, 2, 2, 2, 2, 2, 2, 2, 2, 2, 2, 2, 2, 2, 2, 2, 2, 2, 2, 2,\n",
       "       2, 2, 2, 2, 2, 2, 2, 2, 2, 2, 2, 2])"
      ]
     },
     "execution_count": 6,
     "metadata": {},
     "output_type": "execute_result"
    }
   ],
   "source": [
    "iris.target"
   ]
  },
  {
   "cell_type": "markdown",
   "metadata": {},
   "source": [
    "The features are length and width measurements of different parts of the iris ([http://irisabramson.com/wp-content/uploads/2014/10/iris_petal_sepal.png](http://irisabramson.com/wp-content/uploads/2014/10/iris_petal_sepal.png)):"
   ]
  },
  {
   "cell_type": "code",
   "execution_count": 7,
   "metadata": {
    "scrolled": true
   },
   "outputs": [
    {
     "data": {
      "text/plain": [
       "['sepal length (cm)',\n",
       " 'sepal width (cm)',\n",
       " 'petal length (cm)',\n",
       " 'petal width (cm)']"
      ]
     },
     "execution_count": 7,
     "metadata": {},
     "output_type": "execute_result"
    }
   ],
   "source": [
    "iris.feature_names"
   ]
  },
  {
   "cell_type": "markdown",
   "metadata": {},
   "source": [
    "Let's make a dataset which is only the first two predictors, so that we can visualize the decision boundaries:"
   ]
  },
  {
   "cell_type": "code",
   "execution_count": 8,
   "metadata": {
    "collapsed": true,
    "scrolled": true
   },
   "outputs": [],
   "source": [
    "X = iris.data[:, :2]\n",
    "y = iris.target"
   ]
  },
  {
   "cell_type": "markdown",
   "metadata": {},
   "source": [
    "Let's construct and fit our scikit-learn classifier, which should follow the by-now-familiar workflow of construct, fit, predict that we saw with k-nearest neighbors and linear regression:"
   ]
  },
  {
   "cell_type": "code",
   "execution_count": 10,
   "metadata": {
    "collapsed": true,
    "scrolled": true
   },
   "outputs": [],
   "source": [
    "# construct a linear regression model with no regularization\n",
    "logit = LogisticRegression(C=1e5)"
   ]
  },
  {
   "cell_type": "code",
   "execution_count": 11,
   "metadata": {
    "scrolled": true
   },
   "outputs": [
    {
     "data": {
      "text/plain": [
       "LogisticRegression(C=100000.0, class_weight=None, dual=False,\n",
       "          fit_intercept=True, intercept_scaling=1, max_iter=100,\n",
       "          multi_class='ovr', n_jobs=1, penalty='l2', random_state=None,\n",
       "          solver='liblinear', tol=0.0001, verbose=0, warm_start=False)"
      ]
     },
     "execution_count": 11,
     "metadata": {},
     "output_type": "execute_result"
    }
   ],
   "source": [
    "logit.fit(X, y)"
   ]
  },
  {
   "cell_type": "code",
   "execution_count": 13,
   "metadata": {
    "scrolled": true
   },
   "outputs": [
    {
     "data": {
      "text/plain": [
       "array([0, 0, 0, 0, 0, 0, 0, 0, 0, 0, 0, 0, 0, 0, 0, 0, 0, 0, 0, 0, 0, 0, 0,\n",
       "       0, 0, 0, 0, 0, 0, 0, 0, 0, 0, 0, 0, 0, 0, 0, 0, 0, 0, 0, 0, 0, 0, 0,\n",
       "       0, 0, 0, 0, 2, 2, 2, 1, 2, 1, 2, 1, 2, 1, 1, 1, 1, 1, 1, 2, 1, 1, 1,\n",
       "       1, 2, 1, 1, 1, 2, 2, 2, 2, 1, 1, 1, 1, 1, 1, 1, 2, 2, 1, 1, 1, 1, 2,\n",
       "       1, 1, 1, 1, 1, 2, 1, 1, 2, 1, 2, 2, 2, 2, 1, 2, 2, 2, 2, 2, 2, 1, 1,\n",
       "       2, 2, 2, 2, 1, 2, 1, 2, 1, 2, 2, 1, 2, 2, 2, 2, 2, 2, 2, 1, 2, 2, 2,\n",
       "       1, 2, 2, 2, 1, 2, 2, 2, 1, 2, 2, 1])"
      ]
     },
     "execution_count": 13,
     "metadata": {},
     "output_type": "execute_result"
    }
   ],
   "source": [
    "training_preds = logit.predict(X)\n",
    "training_preds"
   ]
  },
  {
   "cell_type": "code",
   "execution_count": 14,
   "metadata": {
    "scrolled": false
   },
   "outputs": [
    {
     "data": {
      "text/plain": [
       "array([[  9.05823905e-01,   6.81672013e-02,   2.60088939e-02],\n",
       "       [  7.64631786e-01,   2.16376590e-01,   1.89916235e-02],\n",
       "       [  8.46908157e-01,   1.42190177e-01,   1.09016662e-02],\n",
       "       [  8.15654921e-01,   1.75608861e-01,   8.73621791e-03],\n",
       "       [  9.29624966e-01,   5.11184180e-02,   1.92566160e-02],\n",
       "       [  9.35726243e-01,   2.14566456e-02,   4.28171113e-02],\n",
       "       [  9.06375214e-01,   8.58410376e-02,   7.78374790e-03],\n",
       "       [  8.90004223e-01,   8.86750246e-02,   2.13207520e-02],\n",
       "       [  7.44055159e-01,   2.50433077e-01,   5.51176369e-03],\n",
       "       [  8.02826805e-01,   1.78629207e-01,   1.85439881e-02],\n",
       "       [  9.12881392e-01,   3.90028926e-02,   4.81157159e-02],\n",
       "       [  8.99673219e-01,   8.73972775e-02,   1.29295031e-02],\n",
       "       [  7.69594524e-01,   2.15588498e-01,   1.48169774e-02],\n",
       "       [  7.86468274e-01,   2.09354239e-01,   4.17748690e-03],\n",
       "       [  8.85195466e-01,   1.56532847e-02,   9.91512491e-02],\n",
       "       [  9.32634691e-01,   4.55482910e-03,   6.28104799e-02],\n",
       "       [  9.35726243e-01,   2.14566456e-02,   4.28171113e-02],\n",
       "       [  9.05823905e-01,   6.81672013e-02,   2.60088939e-02],\n",
       "       [  8.81775462e-01,   2.88045719e-02,   8.94199658e-02],\n",
       "       [  9.49486589e-01,   2.85752663e-02,   2.19381451e-02],\n",
       "       [  8.54552240e-01,   8.97543407e-02,   5.56934189e-02],\n",
       "       [  9.38192573e-01,   3.84987122e-02,   2.33087152e-02],\n",
       "       [  9.43795525e-01,   4.92109497e-02,   6.99352520e-03],\n",
       "       [  8.56761685e-01,   1.14824908e-01,   2.84134063e-02],\n",
       "       [  8.99673219e-01,   8.73972775e-02,   1.29295031e-02],\n",
       "       [  7.58705901e-01,   2.17008582e-01,   2.42855166e-02],\n",
       "       [  8.90004223e-01,   8.86750246e-02,   2.13207520e-02],\n",
       "       [  8.98331697e-01,   6.84864517e-02,   3.31818511e-02],\n",
       "       [  8.75765839e-01,   8.94880130e-02,   3.47461479e-02],\n",
       "       [  8.46908157e-01,   1.42190177e-01,   1.09016662e-02],\n",
       "       [  8.07768520e-01,   1.77773939e-01,   1.44575408e-02],\n",
       "       [  8.54552240e-01,   8.97543407e-02,   5.56934189e-02],\n",
       "       [  9.65419251e-01,   1.14464175e-02,   2.31343318e-02],\n",
       "       [  9.46602696e-01,   8.51320169e-03,   4.48841019e-02],\n",
       "       [  8.02826805e-01,   1.78629207e-01,   1.85439881e-02],\n",
       "       [  8.32257392e-01,   1.44697291e-01,   2.30453165e-02],\n",
       "       [  8.64274530e-01,   6.87165294e-02,   6.70089405e-02],\n",
       "       [  8.02826805e-01,   1.78629207e-01,   1.85439881e-02],\n",
       "       [  7.83804870e-01,   2.10802074e-01,   5.39305589e-03],\n",
       "       [  8.83578139e-01,   8.91540136e-02,   2.72678469e-02],\n",
       "       [  9.11942320e-01,   6.77418370e-02,   2.03158428e-02],\n",
       "       [  5.48424664e-01,   4.43106994e-01,   8.46834185e-03],\n",
       "       [  8.56145337e-01,   1.38772958e-01,   5.08170440e-03],\n",
       "       [  9.11942320e-01,   6.77418370e-02,   2.03158428e-02],\n",
       "       [  9.49486589e-01,   2.85752663e-02,   2.19381451e-02],\n",
       "       [  7.69594524e-01,   2.15588498e-01,   1.48169774e-02],\n",
       "       [  9.49486589e-01,   2.85752663e-02,   2.19381451e-02],\n",
       "       [  8.50418487e-01,   1.41119103e-01,   8.46240963e-03],\n",
       "       [  9.23125527e-01,   3.89138100e-02,   3.79606633e-02],\n",
       "       [  8.63440513e-01,   1.14319744e-01,   2.22397430e-02],\n",
       "       [  8.72446141e-22,   2.06253776e-01,   7.93746224e-01],\n",
       "       [  1.20934054e-13,   2.81057482e-01,   7.18942518e-01],\n",
       "       [  1.15300958e-21,   2.52869938e-01,   7.47130062e-01],\n",
       "       [  1.42866352e-12,   8.25492553e-01,   1.74507447e-01],\n",
       "       [  5.89709250e-20,   4.24870776e-01,   5.75129224e-01],\n",
       "       [  4.50765015e-09,   7.04165933e-01,   2.95834062e-01],\n",
       "       [  4.96959832e-11,   2.61017276e-01,   7.38982724e-01],\n",
       "       [  2.69053427e-03,   9.47686199e-01,   4.96232672e-02],\n",
       "       [  4.47639838e-20,   3.69771096e-01,   6.30228904e-01],\n",
       "       [  1.41418505e-03,   8.87461330e-01,   1.11124485e-01],\n",
       "       [  1.63611250e-09,   9.33261505e-01,   6.67384936e-02],\n",
       "       [  2.78261580e-09,   5.49481304e-01,   4.50518694e-01],\n",
       "       [  1.52052633e-20,   6.57200887e-01,   3.42799113e-01],\n",
       "       [  2.83933702e-13,   5.04830477e-01,   4.95169523e-01],\n",
       "       [  1.88638798e-06,   7.21065096e-01,   2.78933018e-01],\n",
       "       [  5.78618140e-19,   2.72309750e-01,   7.27690250e-01],\n",
       "       [  3.51070102e-05,   6.90184309e-01,   3.09780583e-01],\n",
       "       [  1.10229617e-11,   6.84441718e-01,   3.15558282e-01],\n",
       "       [  3.02272560e-23,   5.98870805e-01,   4.01129195e-01],\n",
       "       [  1.84558320e-11,   7.86340742e-01,   2.13659258e-01],\n",
       "       [  9.27201624e-07,   4.57288512e-01,   5.42710561e-01],\n",
       "       [  1.60661034e-14,   5.39203926e-01,   4.60796074e-01],\n",
       "       [  6.11904144e-21,   5.46353327e-01,   4.53646673e-01],\n",
       "       [  1.60661034e-14,   5.39203926e-01,   4.60796074e-01],\n",
       "       [  2.30781136e-17,   4.10616104e-01,   5.89383896e-01],\n",
       "       [  7.66684770e-19,   3.29091849e-01,   6.70908151e-01],\n",
       "       [  5.29672579e-24,   3.80394515e-01,   6.19605485e-01],\n",
       "       [  3.39743786e-20,   3.14530076e-01,   6.85469924e-01],\n",
       "       [  6.60137150e-12,   5.44610769e-01,   4.55389231e-01],\n",
       "       [  1.42309095e-11,   7.40170024e-01,   2.59829976e-01],\n",
       "       [  2.40955232e-11,   8.24053957e-01,   1.75946043e-01],\n",
       "       [  2.40955232e-11,   8.24053957e-01,   1.75946043e-01],\n",
       "       [  1.10229617e-11,   6.84441718e-01,   3.15558282e-01],\n",
       "       [  2.10446283e-14,   6.04311053e-01,   3.95688947e-01],\n",
       "       [  1.79354147e-02,   7.62565871e-01,   2.19498715e-01],\n",
       "       [  1.24863700e-05,   3.12007700e-01,   6.87979814e-01],\n",
       "       [  5.78618140e-19,   2.72309750e-01,   7.27690250e-01],\n",
       "       [  2.21823877e-23,   5.68910927e-01,   4.31089073e-01],\n",
       "       [  3.51070102e-05,   6.90184309e-01,   3.09780583e-01],\n",
       "       [  4.12997927e-10,   8.19852479e-01,   1.80147520e-01],\n",
       "       [  7.20885062e-09,   8.12294073e-01,   1.87705920e-01],\n",
       "       [  5.05527210e-12,   4.64632073e-01,   5.35367927e-01],\n",
       "       [  6.27749695e-13,   7.01424111e-01,   2.98575889e-01],\n",
       "       [  7.33159320e-06,   9.37593390e-01,   6.23992788e-02],\n",
       "       [  5.69236336e-09,   7.64125371e-01,   2.35874623e-01],\n",
       "       [  1.51678040e-06,   6.43404602e-01,   3.56593881e-01],\n",
       "       [  8.21751509e-08,   6.77081726e-01,   3.22918191e-01],\n",
       "       [  1.22391545e-14,   4.68960435e-01,   5.31039565e-01],\n",
       "       [  9.83269276e-05,   9.19490903e-01,   8.04107700e-02],\n",
       "       [  4.50765015e-09,   7.04165933e-01,   2.95834062e-01],\n",
       "       [  4.96959832e-11,   2.61017276e-01,   7.38982724e-01],\n",
       "       [  1.10229617e-11,   6.84441718e-01,   3.15558282e-01],\n",
       "       [  1.41207875e-25,   2.82760602e-01,   7.17239398e-01],\n",
       "       [  5.29862838e-16,   4.37505938e-01,   5.62494062e-01],\n",
       "       [  1.74519274e-17,   3.47307593e-01,   6.52692407e-01],\n",
       "       [  2.94210680e-32,   2.74531043e-01,   7.25468957e-01],\n",
       "       [  4.33321990e-02,   9.07896923e-01,   4.87708776e-02],\n",
       "       [  1.77959112e-29,   3.16490053e-01,   6.83509947e-01],\n",
       "       [  2.49807853e-26,   4.72571286e-01,   5.27428714e-01],\n",
       "       [  1.31170531e-19,   7.81040222e-02,   9.21895978e-01],\n",
       "       [  5.18426688e-15,   2.60338725e-01,   7.39661275e-01],\n",
       "       [  7.78730076e-20,   4.77984800e-01,   5.22015200e-01],\n",
       "       [  1.51803800e-21,   3.03099024e-01,   6.96900976e-01],\n",
       "       [  8.20655756e-13,   7.50427933e-01,   2.49572067e-01],\n",
       "       [  1.96667857e-10,   6.61484294e-01,   3.38515706e-01],\n",
       "       [  1.20934054e-13,   2.81057482e-01,   7.18942518e-01],\n",
       "       [  1.74519274e-17,   3.47307593e-01,   6.52692407e-01],\n",
       "       [  6.86592081e-24,   4.29391007e-02,   9.57060899e-01],\n",
       "       [  1.80977068e-38,   4.09142590e-01,   5.90857410e-01],\n",
       "       [  1.52052633e-20,   6.57200887e-01,   3.42799113e-01],\n",
       "       [  1.93902883e-20,   2.12184620e-01,   7.87815380e-01],\n",
       "       [  1.02761402e-07,   7.45542262e-01,   2.54457635e-01],\n",
       "       [  4.93494528e-36,   3.50087883e-01,   6.49912117e-01],\n",
       "       [  1.76431563e-18,   5.03684018e-01,   4.96315982e-01],\n",
       "       [  1.66173494e-16,   1.90749933e-01,   8.09250067e-01],\n",
       "       [  1.80239853e-24,   1.98855452e-01,   8.01144548e-01],\n",
       "       [  6.97994415e-16,   5.04278647e-01,   4.95721353e-01],\n",
       "       [  5.05527210e-12,   4.64632073e-01,   5.35367927e-01],\n",
       "       [  1.33551699e-18,   4.47050183e-01,   5.52949817e-01],\n",
       "       [  6.46809022e-27,   2.79286483e-01,   7.20713517e-01],\n",
       "       [  4.93239346e-32,   3.51497540e-01,   6.48502460e-01],\n",
       "       [  1.47501942e-26,   4.32647066e-02,   9.56735293e-01],\n",
       "       [  1.33551699e-18,   4.47050183e-01,   5.52949817e-01],\n",
       "       [  3.04465797e-17,   4.73491230e-01,   5.26508770e-01],\n",
       "       [  5.31861649e-17,   5.89057807e-01,   4.10942193e-01],\n",
       "       [  1.36586407e-33,   2.74761475e-01,   7.25238525e-01],\n",
       "       [  8.62336949e-10,   2.18205082e-01,   7.81794917e-01],\n",
       "       [  6.96657826e-15,   3.25817855e-01,   6.74182145e-01],\n",
       "       [  1.18608184e-10,   5.05307868e-01,   4.94692132e-01],\n",
       "       [  1.15300958e-21,   2.52869938e-01,   7.47130062e-01],\n",
       "       [  5.78618140e-19,   2.72309750e-01,   7.27690250e-01],\n",
       "       [  1.15300958e-21,   2.52869938e-01,   7.47130062e-01],\n",
       "       [  1.10229617e-11,   6.84441718e-01,   3.15558282e-01],\n",
       "       [  4.34524375e-19,   2.20087641e-01,   7.79912359e-01],\n",
       "       [  1.66173494e-16,   1.90749933e-01,   8.09250067e-01],\n",
       "       [  3.39743786e-20,   3.14530076e-01,   6.85469924e-01],\n",
       "       [  6.11904144e-21,   5.46353327e-01,   4.53646673e-01],\n",
       "       [  1.74519274e-17,   3.47307593e-01,   6.52692407e-01],\n",
       "       [  2.08841089e-08,   2.44263730e-01,   7.55736249e-01],\n",
       "       [  2.78261580e-09,   5.49481304e-01,   4.50518694e-01]])"
      ]
     },
     "execution_count": 14,
     "metadata": {},
     "output_type": "execute_result"
    }
   ],
   "source": [
    "training_probs = logit.predict_proba(X)\n",
    "training_probs"
   ]
  },
  {
   "cell_type": "code",
   "execution_count": 15,
   "metadata": {
    "scrolled": true
   },
   "outputs": [
    {
     "data": {
      "text/plain": [
       "(array([ 50,  51,  52,  54,  56,  58,  65,  70,  74,  75,  76,  77,  85,\n",
       "         86,  91,  97, 101, 106, 113, 114, 119, 121, 123, 126, 134, 138,\n",
       "        142, 146, 149]),)"
      ]
     },
     "execution_count": 15,
     "metadata": {},
     "output_type": "execute_result"
    }
   ],
   "source": [
    "np.where(training_preds!=y)"
   ]
  },
  {
   "cell_type": "code",
   "execution_count": 16,
   "metadata": {
    "scrolled": true
   },
   "outputs": [
    {
     "name": "stdout",
     "output_type": "stream",
     "text": [
      "1\n",
      "[  8.72446141e-22   2.06253776e-01   7.93746224e-01]\n"
     ]
    }
   ],
   "source": [
    "num = 50\n",
    "print(y[num])\n",
    "print(training_probs[num])"
   ]
  },
  {
   "cell_type": "markdown",
   "metadata": {},
   "source": [
    "### Evaluating the Classifier Performance"
   ]
  },
  {
   "cell_type": "markdown",
   "metadata": {},
   "source": [
    "At the very top, we imported several functions from sklearn.metrics ([http://scikit-learn.org/stable/modules/classes.html#module-sklearn.metrics](http://scikit-learn.org/stable/modules/classes.html#module-sklearn.metrics)):"
   ]
  },
  {
   "cell_type": "code",
   "execution_count": 17,
   "metadata": {
    "collapsed": true,
    "scrolled": true
   },
   "outputs": [],
   "source": [
    "?confusion_matrix"
   ]
  },
  {
   "cell_type": "code",
   "execution_count": 18,
   "metadata": {
    "scrolled": true
   },
   "outputs": [
    {
     "data": {
      "text/plain": [
       "array([[50,  0,  0],\n",
       "       [ 0, 34, 16],\n",
       "       [ 0, 13, 37]])"
      ]
     },
     "execution_count": 18,
     "metadata": {},
     "output_type": "execute_result"
    }
   ],
   "source": [
    "confusion_matrix(y, training_preds)"
   ]
  },
  {
   "cell_type": "markdown",
   "metadata": {},
   "source": [
    "We can also use the crosstab function in pandas, which has the advantage that it's clear which are rows and which are columns:"
   ]
  },
  {
   "cell_type": "code",
   "execution_count": 19,
   "metadata": {
    "scrolled": true
   },
   "outputs": [
    {
     "data": {
      "text/html": [
       "<div>\n",
       "<style>\n",
       "    .dataframe thead tr:only-child th {\n",
       "        text-align: right;\n",
       "    }\n",
       "\n",
       "    .dataframe thead th {\n",
       "        text-align: left;\n",
       "    }\n",
       "\n",
       "    .dataframe tbody tr th {\n",
       "        vertical-align: top;\n",
       "    }\n",
       "</style>\n",
       "<table border=\"1\" class=\"dataframe\">\n",
       "  <thead>\n",
       "    <tr style=\"text-align: right;\">\n",
       "      <th>Predicted</th>\n",
       "      <th>0</th>\n",
       "      <th>1</th>\n",
       "      <th>2</th>\n",
       "    </tr>\n",
       "    <tr>\n",
       "      <th>True</th>\n",
       "      <th></th>\n",
       "      <th></th>\n",
       "      <th></th>\n",
       "    </tr>\n",
       "  </thead>\n",
       "  <tbody>\n",
       "    <tr>\n",
       "      <th>0</th>\n",
       "      <td>50</td>\n",
       "      <td>0</td>\n",
       "      <td>0</td>\n",
       "    </tr>\n",
       "    <tr>\n",
       "      <th>1</th>\n",
       "      <td>0</td>\n",
       "      <td>34</td>\n",
       "      <td>16</td>\n",
       "    </tr>\n",
       "    <tr>\n",
       "      <th>2</th>\n",
       "      <td>0</td>\n",
       "      <td>13</td>\n",
       "      <td>37</td>\n",
       "    </tr>\n",
       "  </tbody>\n",
       "</table>\n",
       "</div>"
      ],
      "text/plain": [
       "Predicted   0   1   2\n",
       "True                 \n",
       "0          50   0   0\n",
       "1           0  34  16\n",
       "2           0  13  37"
      ]
     },
     "execution_count": 19,
     "metadata": {},
     "output_type": "execute_result"
    }
   ],
   "source": [
    "pd.crosstab(index=y, columns=training_preds, rownames=['True'], colnames=['Predicted'])"
   ]
  },
  {
   "cell_type": "code",
   "execution_count": 20,
   "metadata": {
    "scrolled": true
   },
   "outputs": [
    {
     "name": "stdout",
     "output_type": "stream",
     "text": [
      "0.806666666667\n"
     ]
    }
   ],
   "source": [
    "print(accuracy_score(y, training_preds))"
   ]
  },
  {
   "cell_type": "markdown",
   "metadata": {},
   "source": [
    "The `classification_report` function will easily give us some other metrics:"
   ]
  },
  {
   "cell_type": "code",
   "execution_count": 21,
   "metadata": {
    "scrolled": true
   },
   "outputs": [
    {
     "name": "stdout",
     "output_type": "stream",
     "text": [
      "             precision    recall  f1-score   support\n",
      "\n",
      "    class 0       1.00      1.00      1.00        50\n",
      "    class 1       0.72      0.68      0.70        50\n",
      "    class 2       0.70      0.74      0.72        50\n",
      "\n",
      "avg / total       0.81      0.81      0.81       150\n",
      "\n"
     ]
    }
   ],
   "source": [
    "print(classification_report(y, training_preds, labels=[0,1,2], target_names=['class 0', 'class 1', 'class 2']))"
   ]
  },
  {
   "cell_type": "markdown",
   "metadata": {},
   "source": [
    "To make an ROC curve, let's simplify things and train a binary version rather than a multi-class version of the classifier:"
   ]
  },
  {
   "cell_type": "code",
   "execution_count": 22,
   "metadata": {
    "collapsed": true,
    "scrolled": true
   },
   "outputs": [],
   "source": [
    "y_bin = (y==2).astype(\"int\")\n",
    "\n",
    "logit_binary = LogisticRegression(C=1e5)\n",
    "logit_binary.fit(X, y_bin)\n",
    "\n",
    "bin_preds = logit_binary.predict_proba(X)[:, 1]"
   ]
  },
  {
   "cell_type": "markdown",
   "metadata": {},
   "source": [
    "The `roc_curve` function returns three arrays.  One for the false positive rate, one for the true positive rate, and one for the probability thresholds that correspond to each point:"
   ]
  },
  {
   "cell_type": "code",
   "execution_count": 23,
   "metadata": {
    "collapsed": true,
    "scrolled": true
   },
   "outputs": [],
   "source": [
    "fpr, tpr, thresholds = roc_curve(y_bin, bin_preds)"
   ]
  },
  {
   "cell_type": "code",
   "execution_count": 24,
   "metadata": {
    "scrolled": true
   },
   "outputs": [
    {
     "data": {
      "text/plain": [
       "array([ 0.98049838,  0.86671432,  0.83873714,  0.81196618,  0.80620055,\n",
       "        0.75549093,  0.73427835,  0.71952174,  0.69644247,  0.6885596 ,\n",
       "        0.65574497,  0.62144653,  0.62137407,  0.61262609,  0.59484136,\n",
       "        0.5858889 ,  0.58581417,  0.57672897,  0.53087141,  0.52164216,\n",
       "        0.4658706 ,  0.44742542,  0.43829153,  0.4200795 ,  0.40200848,\n",
       "        0.3842727 ,  0.36683938,  0.35828393,  0.3247944 ,  0.30870657,\n",
       "        0.26317598,  0.25606043,  0.24907224,  0.24901464,  0.23537189,\n",
       "        0.22877468,  0.22872034,  0.21586985,  0.19176287,  0.16456859,\n",
       "        0.15950055,  0.15459995,  0.14056012,  0.1361472 ,  0.06734736,\n",
       "        0.06502151,  0.04741599,  0.04575816,  0.03693718,  0.03562144,\n",
       "        0.0308607 ,  0.02871297,  0.02396299,  0.02395579,  0.02309832,\n",
       "        0.02227755,  0.02071439,  0.01925294,  0.01490073,  0.01287231,\n",
       "        0.0053117 ])"
      ]
     },
     "execution_count": 24,
     "metadata": {},
     "output_type": "execute_result"
    }
   ],
   "source": [
    "thresholds"
   ]
  },
  {
   "cell_type": "code",
   "execution_count": 25,
   "metadata": {
    "scrolled": true
   },
   "outputs": [
    {
     "data": {
      "image/png": "[encoded data removed]",
      "text/plain": [
       "<matplotlib.figure.Figure at 0x110449ef0>"
      ]
     },
     "metadata": {},
     "output_type": "display_data"
    }
   ],
   "source": [
    "# we want to draw the random baseline ROC line too\n",
    "fpr_rand = tpr_rand = np.linspace(0, 1, 10)\n",
    "\n",
    "plt.plot(fpr, tpr)\n",
    "plt.plot(fpr_rand, tpr_rand, linestyle='--')\n",
    "plt.show()"
   ]
  },
  {
   "cell_type": "markdown",
   "metadata": {},
   "source": [
    "And we can easily calculate the AUC:"
   ]
  },
  {
   "cell_type": "code",
   "execution_count": 26,
   "metadata": {
    "scrolled": true
   },
   "outputs": [
    {
     "data": {
      "text/plain": [
       "0.88730000000000009"
      ]
     },
     "execution_count": 26,
     "metadata": {},
     "output_type": "execute_result"
    }
   ],
   "source": [
    "roc_auc_score(y_bin, bin_preds)"
   ]
  },
  {
   "cell_type": "markdown",
   "metadata": {},
   "source": [
    "We can also plot cumulative gains and lift curves, though we have to calculate them by hand:"
   ]
  },
  {
   "cell_type": "code",
   "execution_count": 27,
   "metadata": {
    "collapsed": true,
    "scrolled": true
   },
   "outputs": [],
   "source": [
    "# get scores ordered from highest to lowest\n",
    "order = np.argsort(bin_preds)\n",
    "# this notation means go from beginning to end by -1, which is reverse order\n",
    "decreasing_order = order[::-1]"
   ]
  },
  {
   "cell_type": "code",
   "execution_count": 28,
   "metadata": {
    "scrolled": true
   },
   "outputs": [
    {
     "data": {
      "text/plain": [
       "array([ 0.98049838,  0.97744239,  0.97392025,  0.97197219,  0.9664242 ,\n",
       "        0.95370779,  0.95201752,  0.93419726,  0.91038171,  0.8974869 ,\n",
       "        0.8867466 ,  0.86671432,  0.83873714,  0.81196618,  0.81196618,\n",
       "        0.81196618,  0.80620055,  0.80035083,  0.80030161,  0.78190662,\n",
       "        0.75549093,  0.73427835,  0.73427835,  0.71952174,  0.71952174,\n",
       "        0.71952174,  0.69644247,  0.6885596 ,  0.6885596 ,  0.68049895,\n",
       "        0.65574497,  0.62144653,  0.62144653,  0.62144653,  0.62137407,\n",
       "        0.61262609,  0.59484136,  0.59484136,  0.5858889 ,  0.58581417,\n",
       "        0.58581417,  0.57680416,  0.57672897,  0.54933675,  0.5401561 ,\n",
       "        0.53087141,  0.52164216,  0.52164216,  0.51232115,  0.4658706 ,\n",
       "        0.44742542,  0.44734927,  0.44734927,  0.43829153,  0.43829153,\n",
       "        0.4382157 ,  0.4200795 ,  0.40200848,  0.40200848,  0.3842727 ,\n",
       "        0.36683938,  0.36683938,  0.35828393,  0.35821311,  0.3247944 ,\n",
       "        0.30870657,  0.26317598,  0.25606043,  0.25606043,  0.24907224,\n",
       "        0.24901464,  0.24901464,  0.24901464,  0.24901464,  0.23537189,\n",
       "        0.22877468,  0.22872034,  0.21586985,  0.19176287,  0.19176287,\n",
       "        0.18604385,  0.18050286,  0.16976515,  0.16972174,  0.16456859,\n",
       "        0.15950055,  0.15950055,  0.15459995,  0.14978386,  0.14513026,\n",
       "        0.14056012,  0.1361472 ,  0.1361472 ,  0.11200697,  0.10137136,\n",
       "        0.08561337,  0.07728785,  0.06734736,  0.06502151,  0.06502151,\n",
       "        0.06500279,  0.06498407,  0.05853624,  0.05270749,  0.05267674,\n",
       "        0.04741599,  0.04575816,  0.04575816,  0.04112189,  0.03967496,\n",
       "        0.03826557,  0.03693718,  0.03562144,  0.0331636 ,  0.03198735,\n",
       "        0.0308607 ,  0.02871297,  0.02871297,  0.02769006,  0.02575712,\n",
       "        0.02484428,  0.02483682,  0.02396299,  0.02395579,  0.02395579,\n",
       "        0.02310527,  0.02310527,  0.02310527,  0.02309832,  0.02309832,\n",
       "        0.02309832,  0.02227755,  0.02227755,  0.02071439,  0.01925294,\n",
       "        0.01925294,  0.01789812,  0.01490073,  0.01437133,  0.01437133,\n",
       "        0.01287231,  0.01287231,  0.01071068,  0.00995088,  0.00858778,\n",
       "        0.00741   ,  0.00740774,  0.00688061,  0.00593556,  0.0053117 ])"
      ]
     },
     "execution_count": 28,
     "metadata": {},
     "output_type": "execute_result"
    }
   ],
   "source": [
    "bin_preds[decreasing_order]"
   ]
  },
  {
   "cell_type": "code",
   "execution_count": 29,
   "metadata": {
    "scrolled": true
   },
   "outputs": [
    {
     "name": "stdout",
     "output_type": "stream",
     "text": [
      "We have 50 total 1's out of 150 training examples.\n"
     ]
    }
   ],
   "source": [
    "total_ones = y_bin.sum()\n",
    "num_examples = len(y_bin)\n",
    "percent_ones = float(total_ones)/float(num_examples)\n",
    "print(\"We have %s total 1's out of %s training examples.\" % (total_ones, num_examples))\n",
    "\n",
    "percent_targeted = np.linspace(0, 1, 100)\n",
    "\n",
    "rands, cums = [], []\n",
    "for p in percent_targeted:\n",
    "    # for random targeting, we just get a constant fraction\n",
    "    rands.append(p*percent_ones)\n",
    "    \n",
    "    # for a real model, we take the p percent highest scorers\n",
    "    # and see how many ones there are\n",
    "    n_ones = y_bin[decreasing_order[:int(p*num_examples)]].sum()\n",
    "    cums.append(float(n_ones)/float(num_examples))\n",
    "    \n",
    "# when we're done, calculate lift too\n",
    "lifts = np.array(cums)/np.array(rands)"
   ]
  },
  {
   "cell_type": "code",
   "execution_count": 30,
   "metadata": {
    "scrolled": true
   },
   "outputs": [
    {
     "data": {
      "text/plain": [
       "<function matplotlib.pyplot.show>"
      ]
     },
     "execution_count": 30,
     "metadata": {},
     "output_type": "execute_result"
    },
    {
     "data": {
      "image/png": "[encoded data removed]",
      "text/plain": [
       "<matplotlib.figure.Figure at 0x10e35de80>"
      ]
     },
     "metadata": {},
     "output_type": "display_data"
    }
   ],
   "source": [
    "plt.plot(percent_targeted, cums)\n",
    "plt.plot(percent_targeted, rands, linestyle='--')\n",
    "plt.xlabel('Percent Targeted')\n",
    "plt.ylabel('Cumulative Gain')\n",
    "plt.show"
   ]
  },
  {
   "cell_type": "code",
   "execution_count": 31,
   "metadata": {
    "scrolled": true
   },
   "outputs": [
    {
     "data": {
      "text/plain": [
       "<function matplotlib.pyplot.show>"
      ]
     },
     "execution_count": 31,
     "metadata": {},
     "output_type": "execute_result"
    },
    {
     "data": {
      "image/png": "[encoded data removed]",
      "text/plain": [
       "<matplotlib.figure.Figure at 0x10e47d748>"
      ]
     },
     "metadata": {},
     "output_type": "display_data"
    }
   ],
   "source": [
    "plt.plot(percent_targeted, lifts)\n",
    "plt.plot(percent_targeted, np.ones(percent_targeted.shape), linestyle='--')\n",
    "plt.ylim(0, 3)\n",
    "plt.xlabel('Percent Targeted')\n",
    "plt.ylabel('Lift')\n",
    "plt.show"
   ]
  },
  {
   "cell_type": "markdown",
   "metadata": {},
   "source": [
    "### Visualizing the Decision Boundary"
   ]
  },
  {
   "cell_type": "markdown",
   "metadata": {},
   "source": [
    "Let's visualize what the logistic regression classifier is doing by constructing a fine 2-D mesh in the 2-D feature space and predicting the output at each value:"
   ]
  },
  {
   "cell_type": "code",
   "execution_count": 32,
   "metadata": {
    "collapsed": true,
    "scrolled": true
   },
   "outputs": [],
   "source": [
    "# step size of the mesh\n",
    "h = .02\n",
    "# range of the mesh\n",
    "x0_min, x0_max = X[:, 0].min() - .5, X[:, 0].max() + .5\n",
    "\n",
    "x1_min, x1_max = X[:, 1].min() - .5, X[:, 1].max() + .5\n",
    "xx0, xx1 = np.meshgrid(np.arange(x0_min, x0_max, h), np.arange(x1_min, x1_max, h))"
   ]
  },
  {
   "cell_type": "code",
   "execution_count": 33,
   "metadata": {
    "collapsed": true,
    "scrolled": true
   },
   "outputs": [],
   "source": [
    "# ravel is the same as reshape(-1), which we saw last week\n",
    "all_preds = logit.predict(np.column_stack((xx0.ravel(), xx1.ravel())))"
   ]
  },
  {
   "cell_type": "code",
   "execution_count": 34,
   "metadata": {
    "collapsed": true,
    "scrolled": true
   },
   "outputs": [],
   "source": [
    "grid_preds = all_preds.reshape(xx0.shape)"
   ]
  },
  {
   "cell_type": "code",
   "execution_count": 35,
   "metadata": {
    "scrolled": true
   },
   "outputs": [
    {
     "data": {
      "image/png": "[encoded data removed]",
      "text/plain": [
       "<matplotlib.figure.Figure at 0x10e55f9e8>"
      ]
     },
     "metadata": {},
     "output_type": "display_data"
    }
   ],
   "source": [
    "plt.pcolormesh(xx0, xx1, grid_preds, cmap=plt.cm.Paired)\n",
    "\n",
    "plt.scatter(X[:, 0], X[:, 1], c=y, edgecolors='k', cmap=plt.cm.Paired)\n",
    "plt.xlabel('Sepal length')\n",
    "plt.ylabel('Sepal width')\n",
    "\n",
    "plt.xlim(xx0.min(), xx0.max())\n",
    "plt.ylim(xx1.min(), xx1.max())\n",
    "plt.xticks(())\n",
    "plt.yticks(())\n",
    "\n",
    "plt.show()"
   ]
  },
  {
   "cell_type": "markdown",
   "metadata": {},
   "source": [
    "Let's see what happens if we add quadratic features and an interaction term:"
   ]
  },
  {
   "cell_type": "code",
   "execution_count": 36,
   "metadata": {
    "scrolled": false
   },
   "outputs": [
    {
     "data": {
      "text/plain": [
       "array([[  5.1 ,   3.5 ,  26.01,  12.25,  17.85],\n",
       "       [  4.9 ,   3.  ,  24.01,   9.  ,  14.7 ],\n",
       "       [  4.7 ,   3.2 ,  22.09,  10.24,  15.04],\n",
       "       [  4.6 ,   3.1 ,  21.16,   9.61,  14.26],\n",
       "       [  5.  ,   3.6 ,  25.  ,  12.96,  18.  ],\n",
       "       [  5.4 ,   3.9 ,  29.16,  15.21,  21.06],\n",
       "       [  4.6 ,   3.4 ,  21.16,  11.56,  15.64],\n",
       "       [  5.  ,   3.4 ,  25.  ,  11.56,  17.  ],\n",
       "       [  4.4 ,   2.9 ,  19.36,   8.41,  12.76],\n",
       "       [  4.9 ,   3.1 ,  24.01,   9.61,  15.19],\n",
       "       [  5.4 ,   3.7 ,  29.16,  13.69,  19.98],\n",
       "       [  4.8 ,   3.4 ,  23.04,  11.56,  16.32],\n",
       "       [  4.8 ,   3.  ,  23.04,   9.  ,  14.4 ],\n",
       "       [  4.3 ,   3.  ,  18.49,   9.  ,  12.9 ],\n",
       "       [  5.8 ,   4.  ,  33.64,  16.  ,  23.2 ],\n",
       "       [  5.7 ,   4.4 ,  32.49,  19.36,  25.08],\n",
       "       [  5.4 ,   3.9 ,  29.16,  15.21,  21.06],\n",
       "       [  5.1 ,   3.5 ,  26.01,  12.25,  17.85],\n",
       "       [  5.7 ,   3.8 ,  32.49,  14.44,  21.66],\n",
       "       [  5.1 ,   3.8 ,  26.01,  14.44,  19.38],\n",
       "       [  5.4 ,   3.4 ,  29.16,  11.56,  18.36],\n",
       "       [  5.1 ,   3.7 ,  26.01,  13.69,  18.87],\n",
       "       [  4.6 ,   3.6 ,  21.16,  12.96,  16.56],\n",
       "       [  5.1 ,   3.3 ,  26.01,  10.89,  16.83],\n",
       "       [  4.8 ,   3.4 ,  23.04,  11.56,  16.32],\n",
       "       [  5.  ,   3.  ,  25.  ,   9.  ,  15.  ],\n",
       "       [  5.  ,   3.4 ,  25.  ,  11.56,  17.  ],\n",
       "       [  5.2 ,   3.5 ,  27.04,  12.25,  18.2 ],\n",
       "       [  5.2 ,   3.4 ,  27.04,  11.56,  17.68],\n",
       "       [  4.7 ,   3.2 ,  22.09,  10.24,  15.04],\n",
       "       [  4.8 ,   3.1 ,  23.04,   9.61,  14.88],\n",
       "       [  5.4 ,   3.4 ,  29.16,  11.56,  18.36],\n",
       "       [  5.2 ,   4.1 ,  27.04,  16.81,  21.32],\n",
       "       [  5.5 ,   4.2 ,  30.25,  17.64,  23.1 ],\n",
       "       [  4.9 ,   3.1 ,  24.01,   9.61,  15.19],\n",
       "       [  5.  ,   3.2 ,  25.  ,  10.24,  16.  ],\n",
       "       [  5.5 ,   3.5 ,  30.25,  12.25,  19.25],\n",
       "       [  4.9 ,   3.1 ,  24.01,   9.61,  15.19],\n",
       "       [  4.4 ,   3.  ,  19.36,   9.  ,  13.2 ],\n",
       "       [  5.1 ,   3.4 ,  26.01,  11.56,  17.34],\n",
       "       [  5.  ,   3.5 ,  25.  ,  12.25,  17.5 ],\n",
       "       [  4.5 ,   2.3 ,  20.25,   5.29,  10.35],\n",
       "       [  4.4 ,   3.2 ,  19.36,  10.24,  14.08],\n",
       "       [  5.  ,   3.5 ,  25.  ,  12.25,  17.5 ],\n",
       "       [  5.1 ,   3.8 ,  26.01,  14.44,  19.38],\n",
       "       [  4.8 ,   3.  ,  23.04,   9.  ,  14.4 ],\n",
       "       [  5.1 ,   3.8 ,  26.01,  14.44,  19.38],\n",
       "       [  4.6 ,   3.2 ,  21.16,  10.24,  14.72],\n",
       "       [  5.3 ,   3.7 ,  28.09,  13.69,  19.61],\n",
       "       [  5.  ,   3.3 ,  25.  ,  10.89,  16.5 ],\n",
       "       [  7.  ,   3.2 ,  49.  ,  10.24,  22.4 ],\n",
       "       [  6.4 ,   3.2 ,  40.96,  10.24,  20.48],\n",
       "       [  6.9 ,   3.1 ,  47.61,   9.61,  21.39],\n",
       "       [  5.5 ,   2.3 ,  30.25,   5.29,  12.65],\n",
       "       [  6.5 ,   2.8 ,  42.25,   7.84,  18.2 ],\n",
       "       [  5.7 ,   2.8 ,  32.49,   7.84,  15.96],\n",
       "       [  6.3 ,   3.3 ,  39.69,  10.89,  20.79],\n",
       "       [  4.9 ,   2.4 ,  24.01,   5.76,  11.76],\n",
       "       [  6.6 ,   2.9 ,  43.56,   8.41,  19.14],\n",
       "       [  5.2 ,   2.7 ,  27.04,   7.29,  14.04],\n",
       "       [  5.  ,   2.  ,  25.  ,   4.  ,  10.  ],\n",
       "       [  5.9 ,   3.  ,  34.81,   9.  ,  17.7 ],\n",
       "       [  6.  ,   2.2 ,  36.  ,   4.84,  13.2 ],\n",
       "       [  6.1 ,   2.9 ,  37.21,   8.41,  17.69],\n",
       "       [  5.6 ,   2.9 ,  31.36,   8.41,  16.24],\n",
       "       [  6.7 ,   3.1 ,  44.89,   9.61,  20.77],\n",
       "       [  5.6 ,   3.  ,  31.36,   9.  ,  16.8 ],\n",
       "       [  5.8 ,   2.7 ,  33.64,   7.29,  15.66],\n",
       "       [  6.2 ,   2.2 ,  38.44,   4.84,  13.64],\n",
       "       [  5.6 ,   2.5 ,  31.36,   6.25,  14.  ],\n",
       "       [  5.9 ,   3.2 ,  34.81,  10.24,  18.88],\n",
       "       [  6.1 ,   2.8 ,  37.21,   7.84,  17.08],\n",
       "       [  6.3 ,   2.5 ,  39.69,   6.25,  15.75],\n",
       "       [  6.1 ,   2.8 ,  37.21,   7.84,  17.08],\n",
       "       [  6.4 ,   2.9 ,  40.96,   8.41,  18.56],\n",
       "       [  6.6 ,   3.  ,  43.56,   9.  ,  19.8 ],\n",
       "       [  6.8 ,   2.8 ,  46.24,   7.84,  19.04],\n",
       "       [  6.7 ,   3.  ,  44.89,   9.  ,  20.1 ],\n",
       "       [  6.  ,   2.9 ,  36.  ,   8.41,  17.4 ],\n",
       "       [  5.7 ,   2.6 ,  32.49,   6.76,  14.82],\n",
       "       [  5.5 ,   2.4 ,  30.25,   5.76,  13.2 ],\n",
       "       [  5.5 ,   2.4 ,  30.25,   5.76,  13.2 ],\n",
       "       [  5.8 ,   2.7 ,  33.64,   7.29,  15.66],\n",
       "       [  6.  ,   2.7 ,  36.  ,   7.29,  16.2 ],\n",
       "       [  5.4 ,   3.  ,  29.16,   9.  ,  16.2 ],\n",
       "       [  6.  ,   3.4 ,  36.  ,  11.56,  20.4 ],\n",
       "       [  6.7 ,   3.1 ,  44.89,   9.61,  20.77],\n",
       "       [  6.3 ,   2.3 ,  39.69,   5.29,  14.49],\n",
       "       [  5.6 ,   3.  ,  31.36,   9.  ,  16.8 ],\n",
       "       [  5.5 ,   2.5 ,  30.25,   6.25,  13.75],\n",
       "       [  5.5 ,   2.6 ,  30.25,   6.76,  14.3 ],\n",
       "       [  6.1 ,   3.  ,  37.21,   9.  ,  18.3 ],\n",
       "       [  5.8 ,   2.6 ,  33.64,   6.76,  15.08],\n",
       "       [  5.  ,   2.3 ,  25.  ,   5.29,  11.5 ],\n",
       "       [  5.6 ,   2.7 ,  31.36,   7.29,  15.12],\n",
       "       [  5.7 ,   3.  ,  32.49,   9.  ,  17.1 ],\n",
       "       [  5.7 ,   2.9 ,  32.49,   8.41,  16.53],\n",
       "       [  6.2 ,   2.9 ,  38.44,   8.41,  17.98],\n",
       "       [  5.1 ,   2.5 ,  26.01,   6.25,  12.75],\n",
       "       [  5.7 ,   2.8 ,  32.49,   7.84,  15.96],\n",
       "       [  6.3 ,   3.3 ,  39.69,  10.89,  20.79],\n",
       "       [  5.8 ,   2.7 ,  33.64,   7.29,  15.66],\n",
       "       [  7.1 ,   3.  ,  50.41,   9.  ,  21.3 ],\n",
       "       [  6.3 ,   2.9 ,  39.69,   8.41,  18.27],\n",
       "       [  6.5 ,   3.  ,  42.25,   9.  ,  19.5 ],\n",
       "       [  7.6 ,   3.  ,  57.76,   9.  ,  22.8 ],\n",
       "       [  4.9 ,   2.5 ,  24.01,   6.25,  12.25],\n",
       "       [  7.3 ,   2.9 ,  53.29,   8.41,  21.17],\n",
       "       [  6.7 ,   2.5 ,  44.89,   6.25,  16.75],\n",
       "       [  7.2 ,   3.6 ,  51.84,  12.96,  25.92],\n",
       "       [  6.5 ,   3.2 ,  42.25,  10.24,  20.8 ],\n",
       "       [  6.4 ,   2.7 ,  40.96,   7.29,  17.28],\n",
       "       [  6.8 ,   3.  ,  46.24,   9.  ,  20.4 ],\n",
       "       [  5.7 ,   2.5 ,  32.49,   6.25,  14.25],\n",
       "       [  5.8 ,   2.8 ,  33.64,   7.84,  16.24],\n",
       "       [  6.4 ,   3.2 ,  40.96,  10.24,  20.48],\n",
       "       [  6.5 ,   3.  ,  42.25,   9.  ,  19.5 ],\n",
       "       [  7.7 ,   3.8 ,  59.29,  14.44,  29.26],\n",
       "       [  7.7 ,   2.6 ,  59.29,   6.76,  20.02],\n",
       "       [  6.  ,   2.2 ,  36.  ,   4.84,  13.2 ],\n",
       "       [  6.9 ,   3.2 ,  47.61,  10.24,  22.08],\n",
       "       [  5.6 ,   2.8 ,  31.36,   7.84,  15.68],\n",
       "       [  7.7 ,   2.8 ,  59.29,   7.84,  21.56],\n",
       "       [  6.3 ,   2.7 ,  39.69,   7.29,  17.01],\n",
       "       [  6.7 ,   3.3 ,  44.89,  10.89,  22.11],\n",
       "       [  7.2 ,   3.2 ,  51.84,  10.24,  23.04],\n",
       "       [  6.2 ,   2.8 ,  38.44,   7.84,  17.36],\n",
       "       [  6.1 ,   3.  ,  37.21,   9.  ,  18.3 ],\n",
       "       [  6.4 ,   2.8 ,  40.96,   7.84,  17.92],\n",
       "       [  7.2 ,   3.  ,  51.84,   9.  ,  21.6 ],\n",
       "       [  7.4 ,   2.8 ,  54.76,   7.84,  20.72],\n",
       "       [  7.9 ,   3.8 ,  62.41,  14.44,  30.02],\n",
       "       [  6.4 ,   2.8 ,  40.96,   7.84,  17.92],\n",
       "       [  6.3 ,   2.8 ,  39.69,   7.84,  17.64],\n",
       "       [  6.1 ,   2.6 ,  37.21,   6.76,  15.86],\n",
       "       [  7.7 ,   3.  ,  59.29,   9.  ,  23.1 ],\n",
       "       [  6.3 ,   3.4 ,  39.69,  11.56,  21.42],\n",
       "       [  6.4 ,   3.1 ,  40.96,   9.61,  19.84],\n",
       "       [  6.  ,   3.  ,  36.  ,   9.  ,  18.  ],\n",
       "       [  6.9 ,   3.1 ,  47.61,   9.61,  21.39],\n",
       "       [  6.7 ,   3.1 ,  44.89,   9.61,  20.77],\n",
       "       [  6.9 ,   3.1 ,  47.61,   9.61,  21.39],\n",
       "       [  5.8 ,   2.7 ,  33.64,   7.29,  15.66],\n",
       "       [  6.8 ,   3.2 ,  46.24,  10.24,  21.76],\n",
       "       [  6.7 ,   3.3 ,  44.89,  10.89,  22.11],\n",
       "       [  6.7 ,   3.  ,  44.89,   9.  ,  20.1 ],\n",
       "       [  6.3 ,   2.5 ,  39.69,   6.25,  15.75],\n",
       "       [  6.5 ,   3.  ,  42.25,   9.  ,  19.5 ],\n",
       "       [  6.2 ,   3.4 ,  38.44,  11.56,  21.08],\n",
       "       [  5.9 ,   3.  ,  34.81,   9.  ,  17.7 ]])"
      ]
     },
     "execution_count": 36,
     "metadata": {},
     "output_type": "execute_result"
    }
   ],
   "source": [
    "X_expanded = np.column_stack((X, X**2, X[:, 0]*X[:, 1]))\n",
    "X_expanded"
   ]
  },
  {
   "cell_type": "code",
   "execution_count": 37,
   "metadata": {
    "collapsed": true,
    "scrolled": true
   },
   "outputs": [],
   "source": [
    "logit2 = LogisticRegression(C=1e5)\n",
    "logit2.fit(X_expanded, y)\n",
    "training_preds_2 = logit2.predict(X_expanded)\n",
    "\n",
    "x0_flat = xx0.ravel()\n",
    "x1_flat = xx1.ravel()\n",
    "stacked = np.column_stack((x0_flat, x1_flat, x0_flat**2, x1_flat**2, x0_flat*x1_flat))\n",
    "\n",
    "all_preds_2 = logit2.predict(stacked)\n",
    "grid_preds_2 = all_preds_2.reshape(xx0.shape)"
   ]
  },
  {
   "cell_type": "code",
   "execution_count": 38,
   "metadata": {
    "scrolled": true
   },
   "outputs": [
    {
     "data": {
      "image/png": "[encoded data removed]",
      "text/plain": [
       "<matplotlib.figure.Figure at 0x10e5d4860>"
      ]
     },
     "metadata": {},
     "output_type": "display_data"
    }
   ],
   "source": [
    "plt.pcolormesh(xx0, xx1, grid_preds_2, cmap=plt.cm.Paired)\n",
    "\n",
    "plt.scatter(X[:, 0], X[:, 1], c=y, edgecolors='k', cmap=plt.cm.Paired)\n",
    "plt.xlabel('Sepal length')\n",
    "plt.ylabel('Sepal width')\n",
    "\n",
    "plt.xlim(xx0.min(), xx0.max())\n",
    "plt.ylim(xx1.min(), xx1.max())\n",
    "plt.xticks(())\n",
    "plt.yticks(())\n",
    "\n",
    "plt.show()"
   ]
  },
  {
   "cell_type": "markdown",
   "metadata": {},
   "source": [
    "In terms of training set accuracy, we do a little bit better, but it's unlikely this quadratic decision boundary would be better on an independent training set:"
   ]
  },
  {
   "cell_type": "code",
   "execution_count": 39,
   "metadata": {
    "scrolled": true
   },
   "outputs": [
    {
     "name": "stdout",
     "output_type": "stream",
     "text": [
      "0.806666666667\n",
      "0.813333333333\n"
     ]
    }
   ],
   "source": [
    "print(accuracy_score(y, training_preds))\n",
    "print(accuracy_score(y, training_preds_2))"
   ]
  },
  {
   "cell_type": "code",
   "execution_count": 40,
   "metadata": {
    "scrolled": true
   },
   "outputs": [
    {
     "data": {
      "text/html": [
       "<div>\n",
       "<table border=\"1\" class=\"dataframe\">\n",
       "  <thead>\n",
       "    <tr style=\"text-align: right;\">\n",
       "      <th>Predicted</th>\n",
       "      <th>0</th>\n",
       "      <th>1</th>\n",
       "      <th>2</th>\n",
       "    </tr>\n",
       "    <tr>\n",
       "      <th>True</th>\n",
       "      <th></th>\n",
       "      <th></th>\n",
       "      <th></th>\n",
       "    </tr>\n",
       "  </thead>\n",
       "  <tbody>\n",
       "    <tr>\n",
       "      <th>0</th>\n",
       "      <td>50</td>\n",
       "      <td>0</td>\n",
       "      <td>0</td>\n",
       "    </tr>\n",
       "    <tr>\n",
       "      <th>1</th>\n",
       "      <td>0</td>\n",
       "      <td>34</td>\n",
       "      <td>16</td>\n",
       "    </tr>\n",
       "    <tr>\n",
       "      <th>2</th>\n",
       "      <td>0</td>\n",
       "      <td>13</td>\n",
       "      <td>37</td>\n",
       "    </tr>\n",
       "  </tbody>\n",
       "</table>\n",
       "</div>"
      ],
      "text/plain": [
       "Predicted   0   1   2\n",
       "True                 \n",
       "0          50   0   0\n",
       "1           0  34  16\n",
       "2           0  13  37"
      ]
     },
     "execution_count": 40,
     "metadata": {},
     "output_type": "execute_result"
    }
   ],
   "source": [
    "pd.crosstab(index=y, columns=training_preds, rownames=['True'], colnames=['Predicted'])"
   ]
  },
  {
   "cell_type": "code",
   "execution_count": 41,
   "metadata": {
    "scrolled": true
   },
   "outputs": [
    {
     "data": {
      "text/html": [
       "<div>\n",
       "<table border=\"1\" class=\"dataframe\">\n",
       "  <thead>\n",
       "    <tr style=\"text-align: right;\">\n",
       "      <th>Predicted</th>\n",
       "      <th>0</th>\n",
       "      <th>1</th>\n",
       "      <th>2</th>\n",
       "    </tr>\n",
       "    <tr>\n",
       "      <th>True</th>\n",
       "      <th></th>\n",
       "      <th></th>\n",
       "      <th></th>\n",
       "    </tr>\n",
       "  </thead>\n",
       "  <tbody>\n",
       "    <tr>\n",
       "      <th>0</th>\n",
       "      <td>50</td>\n",
       "      <td>0</td>\n",
       "      <td>0</td>\n",
       "    </tr>\n",
       "    <tr>\n",
       "      <th>1</th>\n",
       "      <td>0</td>\n",
       "      <td>38</td>\n",
       "      <td>12</td>\n",
       "    </tr>\n",
       "    <tr>\n",
       "      <th>2</th>\n",
       "      <td>0</td>\n",
       "      <td>16</td>\n",
       "      <td>34</td>\n",
       "    </tr>\n",
       "  </tbody>\n",
       "</table>\n",
       "</div>"
      ],
      "text/plain": [
       "Predicted   0   1   2\n",
       "True                 \n",
       "0          50   0   0\n",
       "1           0  38  12\n",
       "2           0  16  34"
      ]
     },
     "execution_count": 41,
     "metadata": {},
     "output_type": "execute_result"
    }
   ],
   "source": [
    "pd.crosstab(index=y, columns=training_preds_2, rownames=['True'], colnames=['Predicted'])"
   ]
  },
  {
   "cell_type": "markdown",
   "metadata": {},
   "source": [
    "## Statsmodels"
   ]
  },
  {
   "cell_type": "markdown",
   "metadata": {},
   "source": [
    "### Using A Formula to Fit to a Pandas Dataframe"
   ]
  },
  {
   "cell_type": "markdown",
   "metadata": {},
   "source": [
    "[http://statsmodels.sourceforge.net/devel/examples/notebooks/generated/glm_formula.html](http://statsmodels.sourceforge.net/devel/examples/notebooks/generated/glm_formula.html)"
   ]
  },
  {
   "cell_type": "code",
   "execution_count": 42,
   "metadata": {
    "collapsed": true,
    "scrolled": true
   },
   "outputs": [],
   "source": [
    "import statsmodels.api as sm\n",
    "import statsmodels.formula.api as smf"
   ]
  },
  {
   "cell_type": "markdown",
   "metadata": {},
   "source": [
    "The Star98 dataset is an educational dataset from California counties.  The column `NABOVE` represents \"the number of 9th graders scoring over the national median value on the mathematics exam.\""
   ]
  },
  {
   "cell_type": "markdown",
   "metadata": {},
   "source": [
    "[http://statsmodels.sourceforge.net/0.6.0/datasets/generated/star98.html](http://statsmodels.sourceforge.net/0.6.0/datasets/generated/star98.html)"
   ]
  },
  {
   "cell_type": "code",
   "execution_count": 43,
   "metadata": {
    "collapsed": true,
    "scrolled": true
   },
   "outputs": [],
   "source": [
    "star98 = sm.datasets.star98.load_pandas().data"
   ]
  },
  {
   "cell_type": "code",
   "execution_count": 44,
   "metadata": {
    "scrolled": true
   },
   "outputs": [
    {
     "data": {
      "text/html": [
       "<div>\n",
       "<table border=\"1\" class=\"dataframe\">\n",
       "  <thead>\n",
       "    <tr style=\"text-align: right;\">\n",
       "      <th></th>\n",
       "      <th>NABOVE</th>\n",
       "      <th>NBELOW</th>\n",
       "      <th>LOWINC</th>\n",
       "      <th>PERASIAN</th>\n",
       "      <th>PERBLACK</th>\n",
       "      <th>PERHISP</th>\n",
       "      <th>PERMINTE</th>\n",
       "      <th>AVYRSEXP</th>\n",
       "      <th>AVSALK</th>\n",
       "      <th>PERSPENK</th>\n",
       "      <th>...</th>\n",
       "      <th>PCTCHRT</th>\n",
       "      <th>PCTYRRND</th>\n",
       "      <th>PERMINTE_AVYRSEXP</th>\n",
       "      <th>PERMINTE_AVSAL</th>\n",
       "      <th>AVYRSEXP_AVSAL</th>\n",
       "      <th>PERSPEN_PTRATIO</th>\n",
       "      <th>PERSPEN_PCTAF</th>\n",
       "      <th>PTRATIO_PCTAF</th>\n",
       "      <th>PERMINTE_AVYRSEXP_AVSAL</th>\n",
       "      <th>PERSPEN_PTRATIO_PCTAF</th>\n",
       "    </tr>\n",
       "  </thead>\n",
       "  <tbody>\n",
       "    <tr>\n",
       "      <th>0</th>\n",
       "      <td>452.0</td>\n",
       "      <td>355.0</td>\n",
       "      <td>34.39730</td>\n",
       "      <td>23.299300</td>\n",
       "      <td>14.235280</td>\n",
       "      <td>11.411120</td>\n",
       "      <td>15.91837</td>\n",
       "      <td>14.70646</td>\n",
       "      <td>59.15732</td>\n",
       "      <td>4.445207</td>\n",
       "      <td>...</td>\n",
       "      <td>0.0</td>\n",
       "      <td>22.222220</td>\n",
       "      <td>234.102872</td>\n",
       "      <td>941.68811</td>\n",
       "      <td>869.9948</td>\n",
       "      <td>96.50656</td>\n",
       "      <td>253.52242</td>\n",
       "      <td>1238.1955</td>\n",
       "      <td>13848.8985</td>\n",
       "      <td>5504.0352</td>\n",
       "    </tr>\n",
       "    <tr>\n",
       "      <th>1</th>\n",
       "      <td>144.0</td>\n",
       "      <td>40.0</td>\n",
       "      <td>17.36507</td>\n",
       "      <td>29.328380</td>\n",
       "      <td>8.234897</td>\n",
       "      <td>9.314884</td>\n",
       "      <td>13.63636</td>\n",
       "      <td>16.08324</td>\n",
       "      <td>59.50397</td>\n",
       "      <td>5.267598</td>\n",
       "      <td>...</td>\n",
       "      <td>0.0</td>\n",
       "      <td>0.000000</td>\n",
       "      <td>219.316851</td>\n",
       "      <td>811.41756</td>\n",
       "      <td>957.0166</td>\n",
       "      <td>107.68435</td>\n",
       "      <td>340.40609</td>\n",
       "      <td>1321.0664</td>\n",
       "      <td>13050.2233</td>\n",
       "      <td>6958.8468</td>\n",
       "    </tr>\n",
       "    <tr>\n",
       "      <th>2</th>\n",
       "      <td>337.0</td>\n",
       "      <td>234.0</td>\n",
       "      <td>32.64324</td>\n",
       "      <td>9.226386</td>\n",
       "      <td>42.406310</td>\n",
       "      <td>13.543720</td>\n",
       "      <td>28.83436</td>\n",
       "      <td>14.59559</td>\n",
       "      <td>60.56992</td>\n",
       "      <td>5.482922</td>\n",
       "      <td>...</td>\n",
       "      <td>0.0</td>\n",
       "      <td>0.000000</td>\n",
       "      <td>420.854496</td>\n",
       "      <td>1746.49488</td>\n",
       "      <td>884.0537</td>\n",
       "      <td>103.92435</td>\n",
       "      <td>295.75929</td>\n",
       "      <td>1022.4252</td>\n",
       "      <td>25491.1232</td>\n",
       "      <td>5605.8777</td>\n",
       "    </tr>\n",
       "    <tr>\n",
       "      <th>3</th>\n",
       "      <td>395.0</td>\n",
       "      <td>178.0</td>\n",
       "      <td>11.90953</td>\n",
       "      <td>13.883090</td>\n",
       "      <td>3.796973</td>\n",
       "      <td>11.443110</td>\n",
       "      <td>11.11111</td>\n",
       "      <td>14.38939</td>\n",
       "      <td>58.33411</td>\n",
       "      <td>4.165093</td>\n",
       "      <td>...</td>\n",
       "      <td>0.0</td>\n",
       "      <td>7.142857</td>\n",
       "      <td>159.882095</td>\n",
       "      <td>648.15671</td>\n",
       "      <td>839.3923</td>\n",
       "      <td>90.11341</td>\n",
       "      <td>204.34375</td>\n",
       "      <td>1061.4545</td>\n",
       "      <td>9326.5797</td>\n",
       "      <td>4421.0568</td>\n",
       "    </tr>\n",
       "    <tr>\n",
       "      <th>4</th>\n",
       "      <td>8.0</td>\n",
       "      <td>57.0</td>\n",
       "      <td>36.88889</td>\n",
       "      <td>12.187500</td>\n",
       "      <td>76.875000</td>\n",
       "      <td>7.604167</td>\n",
       "      <td>43.58974</td>\n",
       "      <td>13.90568</td>\n",
       "      <td>63.15364</td>\n",
       "      <td>4.324902</td>\n",
       "      <td>...</td>\n",
       "      <td>0.0</td>\n",
       "      <td>0.000000</td>\n",
       "      <td>606.144976</td>\n",
       "      <td>2752.85075</td>\n",
       "      <td>878.1943</td>\n",
       "      <td>81.22097</td>\n",
       "      <td>226.54248</td>\n",
       "      <td>983.7059</td>\n",
       "      <td>38280.2616</td>\n",
       "      <td>4254.4314</td>\n",
       "    </tr>\n",
       "  </tbody>\n",
       "</table>\n",
       "<p>5 rows × 22 columns</p>\n",
       "</div>"
      ],
      "text/plain": [
       "   NABOVE  NBELOW    LOWINC   PERASIAN   PERBLACK    PERHISP  PERMINTE  \\\n",
       "0   452.0   355.0  34.39730  23.299300  14.235280  11.411120  15.91837   \n",
       "1   144.0    40.0  17.36507  29.328380   8.234897   9.314884  13.63636   \n",
       "2   337.0   234.0  32.64324   9.226386  42.406310  13.543720  28.83436   \n",
       "3   395.0   178.0  11.90953  13.883090   3.796973  11.443110  11.11111   \n",
       "4     8.0    57.0  36.88889  12.187500  76.875000   7.604167  43.58974   \n",
       "\n",
       "   AVYRSEXP    AVSALK  PERSPENK          ...            PCTCHRT   PCTYRRND  \\\n",
       "0  14.70646  59.15732  4.445207          ...                0.0  22.222220   \n",
       "1  16.08324  59.50397  5.267598          ...                0.0   0.000000   \n",
       "2  14.59559  60.56992  5.482922          ...                0.0   0.000000   \n",
       "3  14.38939  58.33411  4.165093          ...                0.0   7.142857   \n",
       "4  13.90568  63.15364  4.324902          ...                0.0   0.000000   \n",
       "\n",
       "   PERMINTE_AVYRSEXP  PERMINTE_AVSAL  AVYRSEXP_AVSAL  PERSPEN_PTRATIO  \\\n",
       "0         234.102872       941.68811        869.9948         96.50656   \n",
       "1         219.316851       811.41756        957.0166        107.68435   \n",
       "2         420.854496      1746.49488        884.0537        103.92435   \n",
       "3         159.882095       648.15671        839.3923         90.11341   \n",
       "4         606.144976      2752.85075        878.1943         81.22097   \n",
       "\n",
       "   PERSPEN_PCTAF  PTRATIO_PCTAF  PERMINTE_AVYRSEXP_AVSAL  \\\n",
       "0      253.52242      1238.1955               13848.8985   \n",
       "1      340.40609      1321.0664               13050.2233   \n",
       "2      295.75929      1022.4252               25491.1232   \n",
       "3      204.34375      1061.4545                9326.5797   \n",
       "4      226.54248       983.7059               38280.2616   \n",
       "\n",
       "   PERSPEN_PTRATIO_PCTAF  \n",
       "0              5504.0352  \n",
       "1              6958.8468  \n",
       "2              5605.8777  \n",
       "3              4421.0568  \n",
       "4              4254.4314  \n",
       "\n",
       "[5 rows x 22 columns]"
      ]
     },
     "execution_count": 44,
     "metadata": {},
     "output_type": "execute_result"
    }
   ],
   "source": [
    "star98.head()"
   ]
  },
  {
   "cell_type": "code",
   "execution_count": 45,
   "metadata": {
    "scrolled": true
   },
   "outputs": [
    {
     "data": {
      "text/html": [
       "<div>\n",
       "<table border=\"1\" class=\"dataframe\">\n",
       "  <thead>\n",
       "    <tr style=\"text-align: right;\">\n",
       "      <th></th>\n",
       "      <th>LOWINC</th>\n",
       "      <th>PERASIAN</th>\n",
       "      <th>PERBLACK</th>\n",
       "      <th>PERHISP</th>\n",
       "      <th>PCTCHRT</th>\n",
       "      <th>PCTYRRND</th>\n",
       "      <th>PERMINTE</th>\n",
       "      <th>AVYRSEXP</th>\n",
       "      <th>AVSALK</th>\n",
       "      <th>PERSPENK</th>\n",
       "      <th>PTRATIO</th>\n",
       "      <th>PCTAF</th>\n",
       "      <th>SUCCESS</th>\n",
       "    </tr>\n",
       "  </thead>\n",
       "  <tbody>\n",
       "    <tr>\n",
       "      <th>0</th>\n",
       "      <td>34.39730</td>\n",
       "      <td>23.299300</td>\n",
       "      <td>14.235280</td>\n",
       "      <td>11.411120</td>\n",
       "      <td>0.0</td>\n",
       "      <td>22.222220</td>\n",
       "      <td>15.91837</td>\n",
       "      <td>14.70646</td>\n",
       "      <td>59.15732</td>\n",
       "      <td>4.445207</td>\n",
       "      <td>21.71025</td>\n",
       "      <td>57.03276</td>\n",
       "      <td>1</td>\n",
       "    </tr>\n",
       "    <tr>\n",
       "      <th>1</th>\n",
       "      <td>17.36507</td>\n",
       "      <td>29.328380</td>\n",
       "      <td>8.234897</td>\n",
       "      <td>9.314884</td>\n",
       "      <td>0.0</td>\n",
       "      <td>0.000000</td>\n",
       "      <td>13.63636</td>\n",
       "      <td>16.08324</td>\n",
       "      <td>59.50397</td>\n",
       "      <td>5.267598</td>\n",
       "      <td>20.44278</td>\n",
       "      <td>64.62264</td>\n",
       "      <td>1</td>\n",
       "    </tr>\n",
       "    <tr>\n",
       "      <th>2</th>\n",
       "      <td>32.64324</td>\n",
       "      <td>9.226386</td>\n",
       "      <td>42.406310</td>\n",
       "      <td>13.543720</td>\n",
       "      <td>0.0</td>\n",
       "      <td>0.000000</td>\n",
       "      <td>28.83436</td>\n",
       "      <td>14.59559</td>\n",
       "      <td>60.56992</td>\n",
       "      <td>5.482922</td>\n",
       "      <td>18.95419</td>\n",
       "      <td>53.94191</td>\n",
       "      <td>1</td>\n",
       "    </tr>\n",
       "    <tr>\n",
       "      <th>3</th>\n",
       "      <td>11.90953</td>\n",
       "      <td>13.883090</td>\n",
       "      <td>3.796973</td>\n",
       "      <td>11.443110</td>\n",
       "      <td>0.0</td>\n",
       "      <td>7.142857</td>\n",
       "      <td>11.11111</td>\n",
       "      <td>14.38939</td>\n",
       "      <td>58.33411</td>\n",
       "      <td>4.165093</td>\n",
       "      <td>21.63539</td>\n",
       "      <td>49.06103</td>\n",
       "      <td>1</td>\n",
       "    </tr>\n",
       "    <tr>\n",
       "      <th>4</th>\n",
       "      <td>36.88889</td>\n",
       "      <td>12.187500</td>\n",
       "      <td>76.875000</td>\n",
       "      <td>7.604167</td>\n",
       "      <td>0.0</td>\n",
       "      <td>0.000000</td>\n",
       "      <td>43.58974</td>\n",
       "      <td>13.90568</td>\n",
       "      <td>63.15364</td>\n",
       "      <td>4.324902</td>\n",
       "      <td>18.77984</td>\n",
       "      <td>52.38095</td>\n",
       "      <td>0</td>\n",
       "    </tr>\n",
       "  </tbody>\n",
       "</table>\n",
       "</div>"
      ],
      "text/plain": [
       "     LOWINC   PERASIAN   PERBLACK    PERHISP  PCTCHRT   PCTYRRND  PERMINTE  \\\n",
       "0  34.39730  23.299300  14.235280  11.411120      0.0  22.222220  15.91837   \n",
       "1  17.36507  29.328380   8.234897   9.314884      0.0   0.000000  13.63636   \n",
       "2  32.64324   9.226386  42.406310  13.543720      0.0   0.000000  28.83436   \n",
       "3  11.90953  13.883090   3.796973  11.443110      0.0   7.142857  11.11111   \n",
       "4  36.88889  12.187500  76.875000   7.604167      0.0   0.000000  43.58974   \n",
       "\n",
       "   AVYRSEXP    AVSALK  PERSPENK   PTRATIO     PCTAF  SUCCESS  \n",
       "0  14.70646  59.15732  4.445207  21.71025  57.03276        1  \n",
       "1  16.08324  59.50397  5.267598  20.44278  64.62264        1  \n",
       "2  14.59559  60.56992  5.482922  18.95419  53.94191        1  \n",
       "3  14.38939  58.33411  4.165093  21.63539  49.06103        1  \n",
       "4  13.90568  63.15364  4.324902  18.77984  52.38095        0  "
      ]
     },
     "execution_count": 45,
     "metadata": {},
     "output_type": "execute_result"
    }
   ],
   "source": [
    "dta = star98[['NABOVE', 'NBELOW', 'LOWINC', 'PERASIAN', 'PERBLACK', 'PERHISP',\n",
    "              'PCTCHRT', 'PCTYRRND', 'PERMINTE', 'AVYRSEXP', 'AVSALK',\n",
    "              'PERSPENK', 'PTRATIO', 'PCTAF']]\n",
    "percent_above = dta['NABOVE'] / (dta['NABOVE'] + dta['NBELOW'])\n",
    "\n",
    "dta = dta.drop(['NABOVE', 'NBELOW'], axis=1, inplace=False)\n",
    "dta[\"SUCCESS\"] = percent_above>0.5\n",
    "dta[\"SUCCESS\"] = dta[\"SUCCESS\"].astype(\"int\")\n",
    "dta.head()"
   ]
  },
  {
   "cell_type": "code",
   "execution_count": 46,
   "metadata": {
    "collapsed": true,
    "scrolled": true
   },
   "outputs": [],
   "source": [
    "formula = 'SUCCESS ~ LOWINC + PERASIAN + PERBLACK + PERHISP + PCTCHRT + \\\n",
    "           PCTYRRND + PERMINTE*AVYRSEXP*AVSALK + PERSPENK*PTRATIO*PCTAF'"
   ]
  },
  {
   "cell_type": "code",
   "execution_count": 47,
   "metadata": {
    "scrolled": true
   },
   "outputs": [
    {
     "data": {
      "text/html": [
       "<table class=\"simpletable\">\n",
       "<caption>Generalized Linear Model Regression Results</caption>\n",
       "<tr>\n",
       "  <th>Dep. Variable:</th>       <td>SUCCESS</td>     <th>  No. Observations:  </th>  <td>   303</td> \n",
       "</tr>\n",
       "<tr>\n",
       "  <th>Model:</th>                 <td>GLM</td>       <th>  Df Residuals:      </th>  <td>   282</td> \n",
       "</tr>\n",
       "<tr>\n",
       "  <th>Model Family:</th>       <td>Binomial</td>     <th>  Df Model:          </th>  <td>    20</td> \n",
       "</tr>\n",
       "<tr>\n",
       "  <th>Link Function:</th>        <td>logit</td>      <th>  Scale:             </th>    <td>1.0</td>  \n",
       "</tr>\n",
       "<tr>\n",
       "  <th>Method:</th>               <td>IRLS</td>       <th>  Log-Likelihood:    </th> <td> -75.162</td>\n",
       "</tr>\n",
       "<tr>\n",
       "  <th>Date:</th>           <td>Sun, 06 Aug 2017</td> <th>  Deviance:          </th> <td>  150.32</td>\n",
       "</tr>\n",
       "<tr>\n",
       "  <th>Time:</th>               <td>09:23:21</td>     <th>  Pearson chi2:      </th>  <td>  167.</td> \n",
       "</tr>\n",
       "<tr>\n",
       "  <th>No. Iterations:</th>        <td>10</td>        <th>                     </th>     <td> </td>   \n",
       "</tr>\n",
       "</table>\n",
       "<table class=\"simpletable\">\n",
       "<tr>\n",
       "              <td></td>                <th>coef</th>     <th>std err</th>      <th>z</th>      <th>P>|z|</th> <th>[95.0% Conf. Int.]</th> \n",
       "</tr>\n",
       "<tr>\n",
       "  <th>Intercept</th>                <td>  103.2251</td> <td>   60.567</td> <td>    1.704</td> <td> 0.088</td> <td>  -15.484   221.934</td>\n",
       "</tr>\n",
       "<tr>\n",
       "  <th>LOWINC</th>                   <td>   -0.1344</td> <td>    0.025</td> <td>   -5.428</td> <td> 0.000</td> <td>   -0.183    -0.086</td>\n",
       "</tr>\n",
       "<tr>\n",
       "  <th>PERASIAN</th>                 <td>    0.1567</td> <td>    0.043</td> <td>    3.662</td> <td> 0.000</td> <td>    0.073     0.241</td>\n",
       "</tr>\n",
       "<tr>\n",
       "  <th>PERBLACK</th>                 <td>   -0.1568</td> <td>    0.051</td> <td>   -3.069</td> <td> 0.002</td> <td>   -0.257    -0.057</td>\n",
       "</tr>\n",
       "<tr>\n",
       "  <th>PERHISP</th>                  <td>   -0.0460</td> <td>    0.021</td> <td>   -2.138</td> <td> 0.033</td> <td>   -0.088    -0.004</td>\n",
       "</tr>\n",
       "<tr>\n",
       "  <th>PCTCHRT</th>                  <td>   -0.0255</td> <td>    0.035</td> <td>   -0.723</td> <td> 0.470</td> <td>   -0.094     0.044</td>\n",
       "</tr>\n",
       "<tr>\n",
       "  <th>PCTYRRND</th>                 <td>   -0.0119</td> <td>    0.012</td> <td>   -1.025</td> <td> 0.306</td> <td>   -0.035     0.011</td>\n",
       "</tr>\n",
       "<tr>\n",
       "  <th>PERMINTE</th>                 <td>   -3.9382</td> <td>    4.239</td> <td>   -0.929</td> <td> 0.353</td> <td>  -12.246     4.369</td>\n",
       "</tr>\n",
       "<tr>\n",
       "  <th>AVYRSEXP</th>                 <td>   -2.6731</td> <td>    3.176</td> <td>   -0.842</td> <td> 0.400</td> <td>   -8.898     3.552</td>\n",
       "</tr>\n",
       "<tr>\n",
       "  <th>PERMINTE:AVYRSEXP</th>        <td>    0.2827</td> <td>    0.294</td> <td>    0.960</td> <td> 0.337</td> <td>   -0.294     0.860</td>\n",
       "</tr>\n",
       "<tr>\n",
       "  <th>AVSALK</th>                   <td>   -0.6330</td> <td>    0.820</td> <td>   -0.772</td> <td> 0.440</td> <td>   -2.240     0.974</td>\n",
       "</tr>\n",
       "<tr>\n",
       "  <th>PERMINTE:AVSALK</th>          <td>    0.0720</td> <td>    0.073</td> <td>    0.981</td> <td> 0.326</td> <td>   -0.072     0.216</td>\n",
       "</tr>\n",
       "<tr>\n",
       "  <th>AVYRSEXP:AVSALK</th>          <td>    0.0492</td> <td>    0.056</td> <td>    0.876</td> <td> 0.381</td> <td>   -0.061     0.159</td>\n",
       "</tr>\n",
       "<tr>\n",
       "  <th>PERMINTE:AVYRSEXP:AVSALK</th> <td>   -0.0052</td> <td>    0.005</td> <td>   -1.021</td> <td> 0.307</td> <td>   -0.015     0.005</td>\n",
       "</tr>\n",
       "<tr>\n",
       "  <th>PERSPENK</th>                 <td>  -18.6489</td> <td>   11.248</td> <td>   -1.658</td> <td> 0.097</td> <td>  -40.694     3.396</td>\n",
       "</tr>\n",
       "<tr>\n",
       "  <th>PTRATIO</th>                  <td>   -2.8709</td> <td>    2.303</td> <td>   -1.247</td> <td> 0.213</td> <td>   -7.385     1.643</td>\n",
       "</tr>\n",
       "<tr>\n",
       "  <th>PERSPENK:PTRATIO</th>         <td>    0.8320</td> <td>    0.539</td> <td>    1.544</td> <td> 0.123</td> <td>   -0.224     1.888</td>\n",
       "</tr>\n",
       "<tr>\n",
       "  <th>PCTAF</th>                    <td>   -1.8809</td> <td>    1.305</td> <td>   -1.441</td> <td> 0.150</td> <td>   -4.440     0.678</td>\n",
       "</tr>\n",
       "<tr>\n",
       "  <th>PERSPENK:PCTAF</th>           <td>    0.5528</td> <td>    0.304</td> <td>    1.816</td> <td> 0.069</td> <td>   -0.044     1.149</td>\n",
       "</tr>\n",
       "<tr>\n",
       "  <th>PTRATIO:PCTAF</th>            <td>    0.0838</td> <td>    0.061</td> <td>    1.369</td> <td> 0.171</td> <td>   -0.036     0.204</td>\n",
       "</tr>\n",
       "<tr>\n",
       "  <th>PERSPENK:PTRATIO:PCTAF</th>   <td>   -0.0244</td> <td>    0.015</td> <td>   -1.678</td> <td> 0.093</td> <td>   -0.053     0.004</td>\n",
       "</tr>\n",
       "</table>"
      ],
      "text/plain": [
       "<class 'statsmodels.iolib.summary.Summary'>\n",
       "\"\"\"\n",
       "                 Generalized Linear Model Regression Results                  \n",
       "==============================================================================\n",
       "Dep. Variable:                SUCCESS   No. Observations:                  303\n",
       "Model:                            GLM   Df Residuals:                      282\n",
       "Model Family:                Binomial   Df Model:                           20\n",
       "Link Function:                  logit   Scale:                             1.0\n",
       "Method:                          IRLS   Log-Likelihood:                -75.162\n",
       "Date:                Sun, 06 Aug 2017   Deviance:                       150.32\n",
       "Time:                        09:23:21   Pearson chi2:                     167.\n",
       "No. Iterations:                    10                                         \n",
       "============================================================================================\n",
       "                               coef    std err          z      P>|z|      [95.0% Conf. Int.]\n",
       "--------------------------------------------------------------------------------------------\n",
       "Intercept                  103.2251     60.567      1.704      0.088       -15.484   221.934\n",
       "LOWINC                      -0.1344      0.025     -5.428      0.000        -0.183    -0.086\n",
       "PERASIAN                     0.1567      0.043      3.662      0.000         0.073     0.241\n",
       "PERBLACK                    -0.1568      0.051     -3.069      0.002        -0.257    -0.057\n",
       "PERHISP                     -0.0460      0.021     -2.138      0.033        -0.088    -0.004\n",
       "PCTCHRT                     -0.0255      0.035     -0.723      0.470        -0.094     0.044\n",
       "PCTYRRND                    -0.0119      0.012     -1.025      0.306        -0.035     0.011\n",
       "PERMINTE                    -3.9382      4.239     -0.929      0.353       -12.246     4.369\n",
       "AVYRSEXP                    -2.6731      3.176     -0.842      0.400        -8.898     3.552\n",
       "PERMINTE:AVYRSEXP            0.2827      0.294      0.960      0.337        -0.294     0.860\n",
       "AVSALK                      -0.6330      0.820     -0.772      0.440        -2.240     0.974\n",
       "PERMINTE:AVSALK              0.0720      0.073      0.981      0.326        -0.072     0.216\n",
       "AVYRSEXP:AVSALK              0.0492      0.056      0.876      0.381        -0.061     0.159\n",
       "PERMINTE:AVYRSEXP:AVSALK    -0.0052      0.005     -1.021      0.307        -0.015     0.005\n",
       "PERSPENK                   -18.6489     11.248     -1.658      0.097       -40.694     3.396\n",
       "PTRATIO                     -2.8709      2.303     -1.247      0.213        -7.385     1.643\n",
       "PERSPENK:PTRATIO             0.8320      0.539      1.544      0.123        -0.224     1.888\n",
       "PCTAF                       -1.8809      1.305     -1.441      0.150        -4.440     0.678\n",
       "PERSPENK:PCTAF               0.5528      0.304      1.816      0.069        -0.044     1.149\n",
       "PTRATIO:PCTAF                0.0838      0.061      1.369      0.171        -0.036     0.204\n",
       "PERSPENK:PTRATIO:PCTAF      -0.0244      0.015     -1.678      0.093        -0.053     0.004\n",
       "============================================================================================\n",
       "\"\"\""
      ]
     },
     "execution_count": 47,
     "metadata": {},
     "output_type": "execute_result"
    }
   ],
   "source": [
    "mod1 = smf.glm(formula=formula, data=dta, family=sm.families.Binomial()).fit()\n",
    "mod1.summary()"
   ]
  },
  {
   "cell_type": "code",
   "execution_count": 48,
   "metadata": {
    "scrolled": true
   },
   "outputs": [
    {
     "name": "stdout",
     "output_type": "stream",
     "text": [
      "Intercept                   103.225061\n",
      "LOWINC                       -0.134375\n",
      "PERASIAN                      0.156722\n",
      "PERBLACK                     -0.156807\n",
      "PERHISP                      -0.045952\n",
      "PCTCHRT                      -0.025470\n",
      "PCTYRRND                     -0.011937\n",
      "PERMINTE                     -3.938244\n",
      "AVYRSEXP                     -2.673062\n",
      "PERMINTE:AVYRSEXP             0.282675\n",
      "AVSALK                       -0.632951\n",
      "PERMINTE:AVSALK               0.072025\n",
      "AVYRSEXP:AVSALK               0.049215\n",
      "PERMINTE:AVYRSEXP:AVSALK     -0.005188\n",
      "PERSPENK                    -18.648906\n",
      "PTRATIO                      -2.870892\n",
      "PERSPENK:PTRATIO              0.832023\n",
      "PCTAF                        -1.880869\n",
      "PERSPENK:PCTAF                0.552780\n",
      "PTRATIO:PCTAF                 0.083849\n",
      "PERSPENK:PTRATIO:PCTAF       -0.024427\n",
      "dtype: float64\n"
     ]
    }
   ],
   "source": [
    "print(mod1.params)"
   ]
  },
  {
   "cell_type": "code",
   "execution_count": null,
   "metadata": {
    "collapsed": true,
    "scrolled": true
   },
   "outputs": [],
   "source": []
  }
 ],
 "metadata": {
  "kernelspec": {
   "display_name": "Python 3",
   "language": "python",
   "name": "python3"
  },
  "language_info": {
   "codemirror_mode": {
    "name": "ipython",
    "version": 3
   },
   "file_extension": ".py",
   "mimetype": "text/x-python",
   "name": "python",
   "nbconvert_exporter": "python",
   "pygments_lexer": "ipython3",
   "version": "3.6.2"
  },
  "widgets": {
   "state": {},
   "version": "1.1.2"
  }
 },
 "nbformat": 4,
 "nbformat_minor": 1
}
