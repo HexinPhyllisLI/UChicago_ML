{
 "cells": [
  {
   "cell_type": "markdown",
   "metadata": {},
   "source": [
    "# Lecture 7: Dimension Reduction and Clustering"
   ]
  },
  {
   "cell_type": "code",
   "execution_count": 1,
   "metadata": {},
   "outputs": [],
   "source": [
    "%matplotlib inline"
   ]
  },
  {
   "cell_type": "code",
   "execution_count": 2,
   "metadata": {},
   "outputs": [],
   "source": [
    "import numpy as np\n",
    "import pandas as pd\n",
    "import matplotlib.pyplot as plt\n",
    "import seaborn as sns\n",
    "from sklearn.datasets import fetch_20newsgroups, load_digits\n",
    "from sklearn.feature_extraction.text import TfidfVectorizer\n",
    "\n",
    "# these are new imports for dimensionality reduction\n",
    "from sklearn.preprocessing import scale\n",
    "from sklearn.decomposition import PCA, TruncatedSVD\n",
    "from sklearn.manifold import TSNE\n",
    "# these are new imports for clustering\n",
    "from sklearn.cluster import KMeans, MiniBatchKMeans\n",
    "from sklearn.metrics import silhouette_score\n",
    "from scipy.cluster.hierarchy import linkage, dendrogram"
   ]
  },
  {
   "cell_type": "markdown",
   "metadata": {},
   "source": [
    "## Dimension Reduction"
   ]
  },
  {
   "cell_type": "markdown",
   "metadata": {},
   "source": [
    "### PCA"
   ]
  },
  {
   "cell_type": "markdown",
   "metadata": {},
   "source": [
    "The R package [`cluster.datasets`](http://cran.r-project.org/web/packages/cluster.datasets/cluster.datasets.pdf) has some good datasets for experimenting with unsupervised learning techniques like dimensionality reduction and clustering.  Here, we'll use the `cake.ingredients.1961` dataset of cake recipes, which I've exported to a CSV."
   ]
  },
  {
   "cell_type": "code",
   "execution_count": 3,
   "metadata": {},
   "outputs": [
    {
     "data": {
      "text/html": [
       "<div>\n",
       "<style>\n",
       "    .dataframe thead tr:only-child th {\n",
       "        text-align: right;\n",
       "    }\n",
       "\n",
       "    .dataframe thead th {\n",
       "        text-align: left;\n",
       "    }\n",
       "\n",
       "    .dataframe tbody tr th {\n",
       "        vertical-align: top;\n",
       "    }\n",
       "</style>\n",
       "<table border=\"1\" class=\"dataframe\">\n",
       "  <thead>\n",
       "    <tr style=\"text-align: right;\">\n",
       "      <th></th>\n",
       "      <th>Cake</th>\n",
       "      <th>AE</th>\n",
       "      <th>BM</th>\n",
       "      <th>BP</th>\n",
       "      <th>BR</th>\n",
       "      <th>BS</th>\n",
       "      <th>CA</th>\n",
       "      <th>CC</th>\n",
       "      <th>CE</th>\n",
       "      <th>CI</th>\n",
       "      <th>...</th>\n",
       "      <th>SA</th>\n",
       "      <th>SC</th>\n",
       "      <th>SG</th>\n",
       "      <th>SR</th>\n",
       "      <th>SS</th>\n",
       "      <th>ST</th>\n",
       "      <th>VE</th>\n",
       "      <th>WR</th>\n",
       "      <th>YT</th>\n",
       "      <th>ZH</th>\n",
       "    </tr>\n",
       "  </thead>\n",
       "  <tbody>\n",
       "    <tr>\n",
       "      <th>0</th>\n",
       "      <td>Angel</td>\n",
       "      <td>0.25</td>\n",
       "      <td>0</td>\n",
       "      <td>0.0</td>\n",
       "      <td>0.00</td>\n",
       "      <td>0</td>\n",
       "      <td>0.0</td>\n",
       "      <td>0.0</td>\n",
       "      <td>0</td>\n",
       "      <td>0</td>\n",
       "      <td>...</td>\n",
       "      <td>0.0</td>\n",
       "      <td>0</td>\n",
       "      <td>0.0</td>\n",
       "      <td>1.50</td>\n",
       "      <td>0</td>\n",
       "      <td>0.25</td>\n",
       "      <td>1</td>\n",
       "      <td>0.00</td>\n",
       "      <td>0.0</td>\n",
       "      <td>0</td>\n",
       "    </tr>\n",
       "    <tr>\n",
       "      <th>1</th>\n",
       "      <td>Babas au Rhum</td>\n",
       "      <td>0.00</td>\n",
       "      <td>0</td>\n",
       "      <td>0.0</td>\n",
       "      <td>0.25</td>\n",
       "      <td>0</td>\n",
       "      <td>0.0</td>\n",
       "      <td>0.0</td>\n",
       "      <td>0</td>\n",
       "      <td>0</td>\n",
       "      <td>...</td>\n",
       "      <td>0.0</td>\n",
       "      <td>0</td>\n",
       "      <td>0.0</td>\n",
       "      <td>0.25</td>\n",
       "      <td>0</td>\n",
       "      <td>0.00</td>\n",
       "      <td>0</td>\n",
       "      <td>0.25</td>\n",
       "      <td>0.6</td>\n",
       "      <td>0</td>\n",
       "    </tr>\n",
       "    <tr>\n",
       "      <th>2</th>\n",
       "      <td>Sweet Chocolate</td>\n",
       "      <td>0.00</td>\n",
       "      <td>0</td>\n",
       "      <td>0.0</td>\n",
       "      <td>1.00</td>\n",
       "      <td>0</td>\n",
       "      <td>0.0</td>\n",
       "      <td>0.0</td>\n",
       "      <td>4</td>\n",
       "      <td>0</td>\n",
       "      <td>...</td>\n",
       "      <td>1.0</td>\n",
       "      <td>0</td>\n",
       "      <td>0.0</td>\n",
       "      <td>2.00</td>\n",
       "      <td>0</td>\n",
       "      <td>0.50</td>\n",
       "      <td>1</td>\n",
       "      <td>0.50</td>\n",
       "      <td>0.0</td>\n",
       "      <td>0</td>\n",
       "    </tr>\n",
       "    <tr>\n",
       "      <th>3</th>\n",
       "      <td>Buche de Noel</td>\n",
       "      <td>0.00</td>\n",
       "      <td>0</td>\n",
       "      <td>0.0</td>\n",
       "      <td>0.00</td>\n",
       "      <td>0</td>\n",
       "      <td>0.0</td>\n",
       "      <td>0.0</td>\n",
       "      <td>0</td>\n",
       "      <td>0</td>\n",
       "      <td>...</td>\n",
       "      <td>0.0</td>\n",
       "      <td>0</td>\n",
       "      <td>0.0</td>\n",
       "      <td>1.30</td>\n",
       "      <td>0</td>\n",
       "      <td>0.50</td>\n",
       "      <td>1</td>\n",
       "      <td>0.00</td>\n",
       "      <td>0.0</td>\n",
       "      <td>0</td>\n",
       "    </tr>\n",
       "    <tr>\n",
       "      <th>4</th>\n",
       "      <td>Cheesecake</td>\n",
       "      <td>0.00</td>\n",
       "      <td>0</td>\n",
       "      <td>0.0</td>\n",
       "      <td>0.25</td>\n",
       "      <td>0</td>\n",
       "      <td>0.0</td>\n",
       "      <td>1.5</td>\n",
       "      <td>0</td>\n",
       "      <td>0</td>\n",
       "      <td>...</td>\n",
       "      <td>0.0</td>\n",
       "      <td>1</td>\n",
       "      <td>0.0</td>\n",
       "      <td>1.00</td>\n",
       "      <td>0</td>\n",
       "      <td>0.25</td>\n",
       "      <td>0</td>\n",
       "      <td>0.00</td>\n",
       "      <td>0.0</td>\n",
       "      <td>6</td>\n",
       "    </tr>\n",
       "  </tbody>\n",
       "</table>\n",
       "<p>5 rows × 35 columns</p>\n",
       "</div>"
      ],
      "text/plain": [
       "              Cake    AE  BM   BP    BR  BS   CA   CC  CE  CI ...   SA  SC  \\\n",
       "0            Angel  0.25   0  0.0  0.00   0  0.0  0.0   0   0 ...  0.0   0   \n",
       "1    Babas au Rhum  0.00   0  0.0  0.25   0  0.0  0.0   0   0 ...  0.0   0   \n",
       "2  Sweet Chocolate  0.00   0  0.0  1.00   0  0.0  0.0   4   0 ...  1.0   0   \n",
       "3    Buche de Noel  0.00   0  0.0  0.00   0  0.0  0.0   0   0 ...  0.0   0   \n",
       "4       Cheesecake  0.00   0  0.0  0.25   0  0.0  1.5   0   0 ...  0.0   1   \n",
       "\n",
       "    SG    SR  SS    ST  VE    WR   YT  ZH  \n",
       "0  0.0  1.50   0  0.25   1  0.00  0.0   0  \n",
       "1  0.0  0.25   0  0.00   0  0.25  0.6   0  \n",
       "2  0.0  2.00   0  0.50   1  0.50  0.0   0  \n",
       "3  0.0  1.30   0  0.50   1  0.00  0.0   0  \n",
       "4  0.0  1.00   0  0.25   0  0.00  0.0   6  \n",
       "\n",
       "[5 rows x 35 columns]"
      ]
     },
     "execution_count": 3,
     "metadata": {},
     "output_type": "execute_result"
    }
   ],
   "source": [
    "cakes = pd.read_csv(\"./cakes.csv\")\n",
    "# strip trailing whitespace in the names\n",
    "cakes[\"Cake\"] = cakes.Cake.str.strip()\n",
    "cakes.head()"
   ]
  },
  {
   "cell_type": "markdown",
   "metadata": {},
   "source": [
    "Let's store a dictionary of the ingredient abbreviations so we can look them up:"
   ]
  },
  {
   "cell_type": "code",
   "execution_count": 4,
   "metadata": {},
   "outputs": [],
   "source": [
    "ingredients_dict = {\n",
    "    \"AE\": \"Almond essence\",\n",
    "    \"BM\": \"Buttermilk\",\n",
    "    \"BP\": \"Baking powder\",\n",
    "    \"BR\": \"Butter\",\n",
    "    \"BS\": \"Bananas\",\n",
    "    \"CA\": \"Cocoa\",\n",
    "    \"CC\": \"Cottage Cheese\",\n",
    "    \"CE\": \"Chocolate\",\n",
    "    \"CI\": \"Crushed Ice\",\n",
    "    \"CS\": \"Crumbs\",\n",
    "    \"CT\": \"Cream of tartar\",\n",
    "    \"DC\": \"Dried currants\",\n",
    "    \"EG\": \"Eggs\",\n",
    "    \"EY\": \"Egg white\",\n",
    "    \"EW\": \"Egg yolk\",\n",
    "    \"FR\": \"Sifted flour\",\n",
    "    \"GN\": \"Gelatin\",\n",
    "    \"HC\": \"Heavy cream\",\n",
    "    \"LJ\": \"Lemon juice\",\n",
    "    \"LR\": \"Lemon\",\n",
    "    \"MK\": \"Milk\",\n",
    "    \"NG\": \"Nutmeg\",\n",
    "    \"NS\": \"Nuts\",\n",
    "    \"RM\": \"Rum\",\n",
    "    \"SA\": \"Soda\",\n",
    "    \"SC\": \"Sour cream\",\n",
    "    \"SG\": \"Shortening\",\n",
    "    \"SR\": \"Granulated sugar\",\n",
    "    \"SS\": \"Strawberries\",\n",
    "    \"ST\": \"Salt\",\n",
    "    \"VE\": \"Vanilla extract\",\n",
    "    \"WR\": \"Water\",\n",
    "    \"YT\": \"Yeast\",\n",
    "    \"ZH\": \"Zwiebach\"\n",
    "}"
   ]
  },
  {
   "cell_type": "markdown",
   "metadata": {},
   "source": [
    "Get rid of the column of cake names so that we have a numeric only dataframe:"
   ]
  },
  {
   "cell_type": "code",
   "execution_count": 5,
   "metadata": {},
   "outputs": [
    {
     "data": {
      "text/html": [
       "<div>\n",
       "<style>\n",
       "    .dataframe thead tr:only-child th {\n",
       "        text-align: right;\n",
       "    }\n",
       "\n",
       "    .dataframe thead th {\n",
       "        text-align: left;\n",
       "    }\n",
       "\n",
       "    .dataframe tbody tr th {\n",
       "        vertical-align: top;\n",
       "    }\n",
       "</style>\n",
       "<table border=\"1\" class=\"dataframe\">\n",
       "  <thead>\n",
       "    <tr style=\"text-align: right;\">\n",
       "      <th></th>\n",
       "      <th>AE</th>\n",
       "      <th>BM</th>\n",
       "      <th>BP</th>\n",
       "      <th>BR</th>\n",
       "      <th>BS</th>\n",
       "      <th>CA</th>\n",
       "      <th>CC</th>\n",
       "      <th>CE</th>\n",
       "      <th>CI</th>\n",
       "      <th>CS</th>\n",
       "      <th>...</th>\n",
       "      <th>SA</th>\n",
       "      <th>SC</th>\n",
       "      <th>SG</th>\n",
       "      <th>SR</th>\n",
       "      <th>SS</th>\n",
       "      <th>ST</th>\n",
       "      <th>VE</th>\n",
       "      <th>WR</th>\n",
       "      <th>YT</th>\n",
       "      <th>ZH</th>\n",
       "    </tr>\n",
       "  </thead>\n",
       "  <tbody>\n",
       "    <tr>\n",
       "      <th>0</th>\n",
       "      <td>0.25</td>\n",
       "      <td>0</td>\n",
       "      <td>0.0</td>\n",
       "      <td>0.00</td>\n",
       "      <td>0</td>\n",
       "      <td>0.0</td>\n",
       "      <td>0.0</td>\n",
       "      <td>0</td>\n",
       "      <td>0</td>\n",
       "      <td>0.0</td>\n",
       "      <td>...</td>\n",
       "      <td>0.0</td>\n",
       "      <td>0</td>\n",
       "      <td>0.0</td>\n",
       "      <td>1.50</td>\n",
       "      <td>0</td>\n",
       "      <td>0.25</td>\n",
       "      <td>1</td>\n",
       "      <td>0.00</td>\n",
       "      <td>0.0</td>\n",
       "      <td>0</td>\n",
       "    </tr>\n",
       "    <tr>\n",
       "      <th>1</th>\n",
       "      <td>0.00</td>\n",
       "      <td>0</td>\n",
       "      <td>0.0</td>\n",
       "      <td>0.25</td>\n",
       "      <td>0</td>\n",
       "      <td>0.0</td>\n",
       "      <td>0.0</td>\n",
       "      <td>0</td>\n",
       "      <td>0</td>\n",
       "      <td>0.0</td>\n",
       "      <td>...</td>\n",
       "      <td>0.0</td>\n",
       "      <td>0</td>\n",
       "      <td>0.0</td>\n",
       "      <td>0.25</td>\n",
       "      <td>0</td>\n",
       "      <td>0.00</td>\n",
       "      <td>0</td>\n",
       "      <td>0.25</td>\n",
       "      <td>0.6</td>\n",
       "      <td>0</td>\n",
       "    </tr>\n",
       "    <tr>\n",
       "      <th>2</th>\n",
       "      <td>0.00</td>\n",
       "      <td>0</td>\n",
       "      <td>0.0</td>\n",
       "      <td>1.00</td>\n",
       "      <td>0</td>\n",
       "      <td>0.0</td>\n",
       "      <td>0.0</td>\n",
       "      <td>4</td>\n",
       "      <td>0</td>\n",
       "      <td>0.0</td>\n",
       "      <td>...</td>\n",
       "      <td>1.0</td>\n",
       "      <td>0</td>\n",
       "      <td>0.0</td>\n",
       "      <td>2.00</td>\n",
       "      <td>0</td>\n",
       "      <td>0.50</td>\n",
       "      <td>1</td>\n",
       "      <td>0.50</td>\n",
       "      <td>0.0</td>\n",
       "      <td>0</td>\n",
       "    </tr>\n",
       "    <tr>\n",
       "      <th>3</th>\n",
       "      <td>0.00</td>\n",
       "      <td>0</td>\n",
       "      <td>0.0</td>\n",
       "      <td>0.00</td>\n",
       "      <td>0</td>\n",
       "      <td>0.0</td>\n",
       "      <td>0.0</td>\n",
       "      <td>0</td>\n",
       "      <td>0</td>\n",
       "      <td>0.0</td>\n",
       "      <td>...</td>\n",
       "      <td>0.0</td>\n",
       "      <td>0</td>\n",
       "      <td>0.0</td>\n",
       "      <td>1.30</td>\n",
       "      <td>0</td>\n",
       "      <td>0.50</td>\n",
       "      <td>1</td>\n",
       "      <td>0.00</td>\n",
       "      <td>0.0</td>\n",
       "      <td>0</td>\n",
       "    </tr>\n",
       "    <tr>\n",
       "      <th>4</th>\n",
       "      <td>0.00</td>\n",
       "      <td>0</td>\n",
       "      <td>0.0</td>\n",
       "      <td>0.25</td>\n",
       "      <td>0</td>\n",
       "      <td>0.0</td>\n",
       "      <td>1.5</td>\n",
       "      <td>0</td>\n",
       "      <td>0</td>\n",
       "      <td>0.0</td>\n",
       "      <td>...</td>\n",
       "      <td>0.0</td>\n",
       "      <td>1</td>\n",
       "      <td>0.0</td>\n",
       "      <td>1.00</td>\n",
       "      <td>0</td>\n",
       "      <td>0.25</td>\n",
       "      <td>0</td>\n",
       "      <td>0.00</td>\n",
       "      <td>0.0</td>\n",
       "      <td>6</td>\n",
       "    </tr>\n",
       "  </tbody>\n",
       "</table>\n",
       "<p>5 rows × 34 columns</p>\n",
       "</div>"
      ],
      "text/plain": [
       "     AE  BM   BP    BR  BS   CA   CC  CE  CI   CS ...   SA  SC   SG    SR  SS  \\\n",
       "0  0.25   0  0.0  0.00   0  0.0  0.0   0   0  0.0 ...  0.0   0  0.0  1.50   0   \n",
       "1  0.00   0  0.0  0.25   0  0.0  0.0   0   0  0.0 ...  0.0   0  0.0  0.25   0   \n",
       "2  0.00   0  0.0  1.00   0  0.0  0.0   4   0  0.0 ...  1.0   0  0.0  2.00   0   \n",
       "3  0.00   0  0.0  0.00   0  0.0  0.0   0   0  0.0 ...  0.0   0  0.0  1.30   0   \n",
       "4  0.00   0  0.0  0.25   0  0.0  1.5   0   0  0.0 ...  0.0   1  0.0  1.00   0   \n",
       "\n",
       "     ST  VE    WR   YT  ZH  \n",
       "0  0.25   1  0.00  0.0   0  \n",
       "1  0.00   0  0.25  0.6   0  \n",
       "2  0.50   1  0.50  0.0   0  \n",
       "3  0.50   1  0.00  0.0   0  \n",
       "4  0.25   0  0.00  0.0   6  \n",
       "\n",
       "[5 rows x 34 columns]"
      ]
     },
     "execution_count": 5,
     "metadata": {},
     "output_type": "execute_result"
    }
   ],
   "source": [
    "X = cakes.iloc[:, 1:]\n",
    "X.head()"
   ]
  },
  {
   "cell_type": "code",
   "execution_count": 6,
   "metadata": {},
   "outputs": [
    {
     "data": {
      "text/plain": [
       "(18, 34)"
      ]
     },
     "execution_count": 6,
     "metadata": {},
     "output_type": "execute_result"
    }
   ],
   "source": [
    "X.shape"
   ]
  },
  {
   "cell_type": "markdown",
   "metadata": {},
   "source": [
    "First, we'll run a simple PCA using the [scikit-learn class](http://scikit-learn.org/stable/modules/generated/sklearn.decomposition.PCA.html).  If we don't specify `n_components` or set it to `None`, it will use the maximum number of principal components:"
   ]
  },
  {
   "cell_type": "code",
   "execution_count": 7,
   "metadata": {},
   "outputs": [
    {
     "data": {
      "text/plain": [
       "PCA(copy=True, iterated_power='auto', n_components=None, random_state=None,\n",
       "  svd_solver='auto', tol=0.0, whiten=False)"
      ]
     },
     "execution_count": 7,
     "metadata": {},
     "output_type": "execute_result"
    }
   ],
   "source": [
    "pca = PCA(n_components=None)\n",
    "pca.fit(X)"
   ]
  },
  {
   "cell_type": "markdown",
   "metadata": {},
   "source": [
    "Let's take a look at the explained variance of each of the principal components:"
   ]
  },
  {
   "cell_type": "code",
   "execution_count": 8,
   "metadata": {},
   "outputs": [
    {
     "data": {
      "text/plain": [
       "array([  3.56345001e-01,   2.06756842e-01,   1.25227711e-01,\n",
       "         7.81013137e-02,   6.98928608e-02,   4.38913593e-02,\n",
       "         3.02923250e-02,   2.34056834e-02,   1.68109617e-02,\n",
       "         1.41984207e-02,   1.04171472e-02,   7.37776655e-03,\n",
       "         6.55105678e-03,   4.10397685e-03,   3.89357841e-03,\n",
       "         2.02709411e-03,   7.06900749e-04,   4.42942814e-33])"
      ]
     },
     "execution_count": 8,
     "metadata": {},
     "output_type": "execute_result"
    }
   ],
   "source": [
    "pca.explained_variance_ratio_"
   ]
  },
  {
   "cell_type": "markdown",
   "metadata": {},
   "source": [
    "And plot it:"
   ]
  },
  {
   "cell_type": "code",
   "execution_count": 9,
   "metadata": {},
   "outputs": [
    {
     "data": {
      "image/png": "[encoded data removed]",
      "text/plain": [
       "<matplotlib.figure.Figure at 0x116cf1fd0>"
      ]
     },
     "metadata": {},
     "output_type": "display_data"
    }
   ],
   "source": [
    "plt.plot(range(len(pca.explained_variance_ratio_)), pca.explained_variance_ratio_)\n",
    "plt.scatter(range(len(pca.explained_variance_ratio_)), pca.explained_variance_ratio_)\n",
    "plt.xlabel(\"Principal Components Number\")\n",
    "plt.ylabel(\"Percentage of Variance Explained\")\n",
    "plt.show()"
   ]
  },
  {
   "cell_type": "code",
   "execution_count": 10,
   "metadata": {},
   "outputs": [
    {
     "data": {
      "image/png": "[encoded data removed]",
      "text/plain": [
       "<matplotlib.figure.Figure at 0x116cf30b8>"
      ]
     },
     "metadata": {},
     "output_type": "display_data"
    }
   ],
   "source": [
    "cumsum = np.cumsum(pca.explained_variance_ratio_)\n",
    "plt.plot(range(len(pca.explained_variance_ratio_)), cumsum)\n",
    "plt.scatter(range(len(pca.explained_variance_ratio_)), cumsum)\n",
    "plt.xlabel(\"Principal Components Number\")\n",
    "plt.ylabel(\"Cumulative Percentage of Variance Explained\")\n",
    "plt.show()"
   ]
  },
  {
   "cell_type": "markdown",
   "metadata": {},
   "source": [
    "If we're looking for an \"elbow\", it looks like roughly 6 or 7 principal components would be enough.  To actually get each row transformed into the principal component space, we can call `transform` on an already fit `PCA` object, or we can do both at once with `fit_transform`:"
   ]
  },
  {
   "cell_type": "code",
   "execution_count": 11,
   "metadata": {},
   "outputs": [
    {
     "data": {
      "text/plain": [
       "array([[ -1.50568324,   9.53055632],\n",
       "       [ -0.92346393,   0.44023955],\n",
       "       [ -0.90010965,  -1.28050028],\n",
       "       [ -0.9430527 ,  -1.01120791],\n",
       "       [ -1.53564448,  -3.12957904],\n",
       "       [ -1.0411153 ,  -0.22569156],\n",
       "       [ -0.9798937 ,   0.77981059],\n",
       "       [ 13.38359758,   0.31850903],\n",
       "       [ -0.16863051,  -0.0920444 ],\n",
       "       [ -0.64169389,  -0.26988973],\n",
       "       [ -0.42621606,  -0.58364195],\n",
       "       [  0.1065548 ,  -1.14854257],\n",
       "       [ -0.99839962,  -1.55844712],\n",
       "       [ -0.91579385,  -1.07415157],\n",
       "       [ -0.95508625,  -0.62761024],\n",
       "       [ -0.2288374 ,   0.77766523],\n",
       "       [ -0.46004306,   0.25090663],\n",
       "       [ -0.86648873,  -1.09638097]])"
      ]
     },
     "execution_count": 11,
     "metadata": {},
     "output_type": "execute_result"
    }
   ],
   "source": [
    "pca = PCA(n_components=2)\n",
    "X_trans = pca.fit_transform(X)\n",
    "X_trans"
   ]
  },
  {
   "cell_type": "markdown",
   "metadata": {},
   "source": [
    "Next, let's define a function for plotting:"
   ]
  },
  {
   "cell_type": "code",
   "execution_count": 12,
   "metadata": {},
   "outputs": [],
   "source": [
    "def plot_PCA(pca, X, print_row_labels, row_labels, col_labels, biplot=False, y_scale=(None, None), font_size=None):\n",
    "    # transform our data to PCA space\n",
    "    X_trans = pca.fit_transform(X)\n",
    "\n",
    "    # handle the scaling of the plot\n",
    "    xmin, xmax = min(X_trans[:, 0]), max(X_trans[:, 0])\n",
    "    if y_scale == (None, None):\n",
    "        ymin, ymax = min(X_trans[:, 1]), max(X_trans[:, 1])\n",
    "        xpad, ypad = 5, 5\n",
    "    else:\n",
    "        ymin, ymax = y_scale\n",
    "        xpad, ypad = 5, 1\n",
    "        \n",
    "    plt.xlim(xmin - xpad, xmax + xpad)\n",
    "    plt.ylim(ymin - ypad, ymax + ypad)\n",
    "\n",
    "    # plot words instead of points\n",
    "    if print_row_labels:\n",
    "        for x, y, label in zip(X_trans[:, 0], X_trans[:, 1], row_labels):\n",
    "            if font_size is None:\n",
    "                plt.text(x, y, label)\n",
    "            else:\n",
    "                plt.text(x, y, label, size=font_size)\n",
    "    else:\n",
    "        for x, y in zip(X_trans[:, 0], X_trans[:, 1]):\n",
    "            plt.scatter(x, y)\n",
    "    plt.xlabel(\"PC 1\")\n",
    "    plt.ylabel(\"PC 2\")\n",
    "\n",
    "    # if we want a biplot, get the loading and plot\n",
    "    # axes with labels\n",
    "    if biplot:\n",
    "        eigenvectors = pca.components_.transpose()\n",
    "        for i, col in enumerate(col_labels):\n",
    "            x, y = 10*eigenvectors[i][0], 10*eigenvectors[i][1]\n",
    "            plt.arrow(0, 0, x, y, color='r', width=0.002, head_width=0.05)\n",
    "            plt.text(x* 1.4, y * 1.4, col, color='r', ha='center', va='center')\n",
    "    \n",
    "    plt.show()"
   ]
  },
  {
   "cell_type": "code",
   "execution_count": 13,
   "metadata": {},
   "outputs": [
    {
     "data": {
      "image/png": "[encoded data removed]",
      "text/plain": [
       "<matplotlib.figure.Figure at 0x116cf3320>"
      ]
     },
     "metadata": {},
     "output_type": "display_data"
    }
   ],
   "source": [
    "pca = PCA(n_components=2)\n",
    "plot_PCA(pca, X, True, cakes.Cake, X.columns, biplot=True)"
   ]
  },
  {
   "cell_type": "markdown",
   "metadata": {},
   "source": [
    "Here, we ran PCA on a totally unscaled version of the dataset, so we see that we're influenced by two large outliers.  The first principal component is dominated by \"cocoa\" and \"shortening\" because the \"One Bowl Chocolate\" cake has a huge amount of these.  The second principal component is dominated by \"egg whites\" because of the \"Angel\" foodcake recipe."
   ]
  },
  {
   "cell_type": "code",
   "execution_count": 14,
   "metadata": {},
   "outputs": [
    {
     "data": {
      "text/html": [
       "<div>\n",
       "<style>\n",
       "    .dataframe thead tr:only-child th {\n",
       "        text-align: right;\n",
       "    }\n",
       "\n",
       "    .dataframe thead th {\n",
       "        text-align: left;\n",
       "    }\n",
       "\n",
       "    .dataframe tbody tr th {\n",
       "        vertical-align: top;\n",
       "    }\n",
       "</style>\n",
       "<table border=\"1\" class=\"dataframe\">\n",
       "  <thead>\n",
       "    <tr style=\"text-align: right;\">\n",
       "      <th></th>\n",
       "      <th>7</th>\n",
       "    </tr>\n",
       "  </thead>\n",
       "  <tbody>\n",
       "    <tr>\n",
       "      <th>Cake</th>\n",
       "      <td>One Bowl Chocolate</td>\n",
       "    </tr>\n",
       "    <tr>\n",
       "      <th>AE</th>\n",
       "      <td>0</td>\n",
       "    </tr>\n",
       "    <tr>\n",
       "      <th>BM</th>\n",
       "      <td>0</td>\n",
       "    </tr>\n",
       "    <tr>\n",
       "      <th>BP</th>\n",
       "      <td>2</td>\n",
       "    </tr>\n",
       "    <tr>\n",
       "      <th>BR</th>\n",
       "      <td>0</td>\n",
       "    </tr>\n",
       "    <tr>\n",
       "      <th>BS</th>\n",
       "      <td>0</td>\n",
       "    </tr>\n",
       "    <tr>\n",
       "      <th>CA</th>\n",
       "      <td>10</td>\n",
       "    </tr>\n",
       "    <tr>\n",
       "      <th>CC</th>\n",
       "      <td>0</td>\n",
       "    </tr>\n",
       "    <tr>\n",
       "      <th>CE</th>\n",
       "      <td>0</td>\n",
       "    </tr>\n",
       "    <tr>\n",
       "      <th>CI</th>\n",
       "      <td>0</td>\n",
       "    </tr>\n",
       "    <tr>\n",
       "      <th>CS</th>\n",
       "      <td>0</td>\n",
       "    </tr>\n",
       "    <tr>\n",
       "      <th>CT</th>\n",
       "      <td>0</td>\n",
       "    </tr>\n",
       "    <tr>\n",
       "      <th>DC</th>\n",
       "      <td>0</td>\n",
       "    </tr>\n",
       "    <tr>\n",
       "      <th>EG</th>\n",
       "      <td>2</td>\n",
       "    </tr>\n",
       "    <tr>\n",
       "      <th>EY</th>\n",
       "      <td>0</td>\n",
       "    </tr>\n",
       "    <tr>\n",
       "      <th>EW</th>\n",
       "      <td>0</td>\n",
       "    </tr>\n",
       "    <tr>\n",
       "      <th>FR</th>\n",
       "      <td>2</td>\n",
       "    </tr>\n",
       "    <tr>\n",
       "      <th>GN</th>\n",
       "      <td>0</td>\n",
       "    </tr>\n",
       "    <tr>\n",
       "      <th>HC</th>\n",
       "      <td>0</td>\n",
       "    </tr>\n",
       "    <tr>\n",
       "      <th>LJ</th>\n",
       "      <td>0</td>\n",
       "    </tr>\n",
       "    <tr>\n",
       "      <th>LR</th>\n",
       "      <td>0</td>\n",
       "    </tr>\n",
       "    <tr>\n",
       "      <th>MK</th>\n",
       "      <td>0.7</td>\n",
       "    </tr>\n",
       "    <tr>\n",
       "      <th>NG</th>\n",
       "      <td>0</td>\n",
       "    </tr>\n",
       "    <tr>\n",
       "      <th>NS</th>\n",
       "      <td>0</td>\n",
       "    </tr>\n",
       "    <tr>\n",
       "      <th>RM</th>\n",
       "      <td>0</td>\n",
       "    </tr>\n",
       "    <tr>\n",
       "      <th>SA</th>\n",
       "      <td>0.5</td>\n",
       "    </tr>\n",
       "    <tr>\n",
       "      <th>SC</th>\n",
       "      <td>0</td>\n",
       "    </tr>\n",
       "    <tr>\n",
       "      <th>SG</th>\n",
       "      <td>10</td>\n",
       "    </tr>\n",
       "    <tr>\n",
       "      <th>SR</th>\n",
       "      <td>1.5</td>\n",
       "    </tr>\n",
       "    <tr>\n",
       "      <th>SS</th>\n",
       "      <td>0</td>\n",
       "    </tr>\n",
       "    <tr>\n",
       "      <th>ST</th>\n",
       "      <td>0.25</td>\n",
       "    </tr>\n",
       "    <tr>\n",
       "      <th>VE</th>\n",
       "      <td>1</td>\n",
       "    </tr>\n",
       "    <tr>\n",
       "      <th>WR</th>\n",
       "      <td>0.5</td>\n",
       "    </tr>\n",
       "    <tr>\n",
       "      <th>YT</th>\n",
       "      <td>0</td>\n",
       "    </tr>\n",
       "    <tr>\n",
       "      <th>ZH</th>\n",
       "      <td>0</td>\n",
       "    </tr>\n",
       "  </tbody>\n",
       "</table>\n",
       "</div>"
      ],
      "text/plain": [
       "                       7\n",
       "Cake  One Bowl Chocolate\n",
       "AE                     0\n",
       "BM                     0\n",
       "BP                     2\n",
       "BR                     0\n",
       "BS                     0\n",
       "CA                    10\n",
       "CC                     0\n",
       "CE                     0\n",
       "CI                     0\n",
       "CS                     0\n",
       "CT                     0\n",
       "DC                     0\n",
       "EG                     2\n",
       "EY                     0\n",
       "EW                     0\n",
       "FR                     2\n",
       "GN                     0\n",
       "HC                     0\n",
       "LJ                     0\n",
       "LR                     0\n",
       "MK                   0.7\n",
       "NG                     0\n",
       "NS                     0\n",
       "RM                     0\n",
       "SA                   0.5\n",
       "SC                     0\n",
       "SG                    10\n",
       "SR                   1.5\n",
       "SS                     0\n",
       "ST                  0.25\n",
       "VE                     1\n",
       "WR                   0.5\n",
       "YT                     0\n",
       "ZH                     0"
      ]
     },
     "execution_count": 14,
     "metadata": {},
     "output_type": "execute_result"
    }
   ],
   "source": [
    "cake = \"One Bowl Chocolate\"\n",
    "#cake = \"Angel\"\n",
    "cakes[cakes.Cake==cake].transpose()"
   ]
  },
  {
   "cell_type": "code",
   "execution_count": 15,
   "metadata": {},
   "outputs": [
    {
     "data": {
      "text/plain": [
       "0     10\n",
       "1      0\n",
       "2      0\n",
       "3      0\n",
       "4      0\n",
       "5      0\n",
       "6      0\n",
       "7      0\n",
       "8      0\n",
       "9      0\n",
       "10     0\n",
       "11     0\n",
       "12     0\n",
       "13     0\n",
       "14     0\n",
       "15     0\n",
       "16     0\n",
       "17     0\n",
       "Name: EW, dtype: int64"
      ]
     },
     "execution_count": 15,
     "metadata": {},
     "output_type": "execute_result"
    }
   ],
   "source": [
    "#cakes.CA\n",
    "#cakes.SG\n",
    "cakes.EW\n",
    "#cakes.EG"
   ]
  },
  {
   "cell_type": "markdown",
   "metadata": {},
   "source": [
    "Let's try mean-centering the columns first:"
   ]
  },
  {
   "cell_type": "code",
   "execution_count": 16,
   "metadata": {},
   "outputs": [
    {
     "data": {
      "image/png": "[encoded data removed]",
      "text/plain": [
       "<matplotlib.figure.Figure at 0x116cf3550>"
      ]
     },
     "metadata": {},
     "output_type": "display_data"
    }
   ],
   "source": [
    "pca = PCA(n_components=2)\n",
    "X_scaled = scale(X, with_mean=True, with_std=False)\n",
    "plot_PCA(pca, X_scaled, True, cakes.Cake, X.columns, biplot=True)"
   ]
  },
  {
   "cell_type": "markdown",
   "metadata": {},
   "source": [
    "And now both center and scale to unit variance:"
   ]
  },
  {
   "cell_type": "code",
   "execution_count": 17,
   "metadata": {},
   "outputs": [
    {
     "data": {
      "image/png": "[encoded data removed]",
      "text/plain": [
       "<matplotlib.figure.Figure at 0x11a50ee80>"
      ]
     },
     "metadata": {},
     "output_type": "display_data"
    }
   ],
   "source": [
    "pca = PCA(n_components=2)\n",
    "X_scaled = scale(X, with_mean=True, with_std=True)\n",
    "plot_PCA(pca, X_scaled, True, cakes.Cake, X.columns, biplot=True)"
   ]
  },
  {
   "cell_type": "markdown",
   "metadata": {},
   "source": [
    "Let's look at a zoomed in version:"
   ]
  },
  {
   "cell_type": "code",
   "execution_count": 18,
   "metadata": {},
   "outputs": [
    {
     "data": {
      "text/plain": [
       "array([[ 0.35112344,  0.        , -0.68751406, -0.63223504, -0.24253563,\n",
       "        -0.25014077, -0.49130368, -0.34956332, -0.24253563, -0.2670249 ,\n",
       "         4.12310563, -0.24253563, -1.50366322, -0.35355339,  4.12310563,\n",
       "        -0.42206661, -0.33333333, -0.41702883, -0.4472136 , -0.6       ,\n",
       "        -0.86010608, -0.24253563, -0.24253563, -0.33333333, -0.50767308,\n",
       "        -0.53452248, -0.2874733 ,  0.84047676, -0.35355339, -0.64888568,\n",
       "         0.57346234, -0.50504952, -0.34174306, -0.24253563],\n",
       "       [-0.35112344,  0.        , -0.68751406,  0.09354498, -0.24253563,\n",
       "        -0.25014077, -0.49130368, -0.34956332, -0.24253563, -0.2670249 ,\n",
       "        -0.24253563,  4.12310563, -0.9277922 ,  2.82842712, -0.24253563,\n",
       "         0.36385053, -0.33333333, -0.41702883, -0.4472136 ,  0.6       ,\n",
       "        -0.28242289, -0.24253563, -0.24253563,  3.66666667, -0.50767308,\n",
       "        -0.53452248, -0.2874733 , -1.40545282, -0.35355339, -1.37888208,\n",
       "        -0.90115511,  0.0297088 ,  1.96502261, -0.24253563],\n",
       "       [-0.35112344,  0.        , -0.68751406,  2.27088504, -0.24253563,\n",
       "        -0.25014077, -0.49130368,  3.2459451 , -0.24253563, -0.2670249 ,\n",
       "        -0.24253563, -0.24253563,  0.79982086, -0.35355339, -0.24253563,\n",
       "         1.14976767, -0.33333333, -0.41702883, -0.4472136 , -0.6       ,\n",
       "         1.45062667, -0.24253563, -0.24253563, -0.33333333,  1.92915771,\n",
       "        -0.53452248, -0.2874733 ,  1.73884858, -0.35355339,  0.08111071,\n",
       "         0.57346234,  0.56446712, -0.34174306, -0.24253563],\n",
       "       [-0.35112344,  0.        , -0.68751406, -0.63223504, -0.24253563,\n",
       "        -0.25014077, -0.49130368, -0.34956332, -0.24253563, -0.2670249 ,\n",
       "        -0.24253563, -0.24253563,  0.79982086, -0.35355339, -0.24253563,\n",
       "        -0.42206661, -0.33333333, -0.41702883, -0.4472136 , -0.6       ,\n",
       "        -0.86010608, -0.24253563, -0.24253563, -0.33333333, -0.50767308,\n",
       "        -0.53452248, -0.2874733 ,  0.48112802, -0.35355339,  0.08111071,\n",
       "         0.57346234, -0.50504952, -0.34174306, -0.24253563],\n",
       "       [-0.35112344,  0.        , -0.68751406,  0.09354498, -0.24253563,\n",
       "        -0.25014077,  2.66707714, -0.34956332, -0.24253563, -0.2670249 ,\n",
       "        -0.24253563, -0.24253563,  1.9515629 , -0.35355339, -0.24253563,\n",
       "        -1.20798375, -0.33333333, -0.41702883,  2.23606798,  1.8       ,\n",
       "        -0.86010608, -0.24253563, -0.24253563, -0.33333333, -0.50767308,\n",
       "         1.87082869, -0.2874733 , -0.05789507, -0.35355339, -0.64888568,\n",
       "        -0.90115511, -0.50504952, -0.34174306,  4.12310563],\n",
       "       [-0.35112344,  0.        , -0.68751406, -0.63223504, -0.24253563,\n",
       "        -0.25014077,  2.66707714, -0.34956332, -0.24253563, -0.2670249 ,\n",
       "        -0.24253563, -0.24253563, -0.35192118, -0.35355339, -0.24253563,\n",
       "        -1.46995613,  3.66666667,  1.4596009 ,  2.23606798,  1.8       ,\n",
       "         1.45062667, -0.24253563, -0.24253563,  1.66666667, -0.50767308,\n",
       "        -0.53452248, -0.2874733 , -0.05789507, -0.35355339, -0.64888568,\n",
       "        -0.90115511, -0.50504952, -0.34174306, -0.24253563],\n",
       "       [-0.35112344,  0.        , -0.68751406, -0.63223504, -0.24253563,\n",
       "        -0.25014077,  0.56148993, -0.34956332,  4.12310563,  0.16992494,\n",
       "        -0.24253563, -0.24253563, -1.50366322,  2.82842712, -0.24253563,\n",
       "        -1.46995613,  1.66666667, -0.41702883,  2.23606798,  1.8       ,\n",
       "        -0.86010608, -0.24253563, -0.24253563, -0.33333333, -0.50767308,\n",
       "         1.87082869, -0.2874733 , -1.85463873, -0.35355339, -1.37888208,\n",
       "        -0.90115511,  0.56446712, -0.34174306, -0.24253563],\n",
       "       [-0.35112344,  0.        ,  0.7901281 , -0.63223504, -0.24253563,\n",
       "         4.12125136, -0.49130368, -0.34956332, -0.24253563, -0.2670249 ,\n",
       "        -0.24253563, -0.24253563, -0.35192118, -0.35355339, -0.24253563,\n",
       "         0.62582291, -0.33333333, -0.41702883, -0.4472136 , -0.6       ,\n",
       "         0.75740684, -0.24253563, -0.24253563, -0.33333333,  0.71074232,\n",
       "        -0.53452248,  4.09771268,  0.84047676, -0.35355339, -0.64888568,\n",
       "         0.57346234,  0.56446712, -0.34174306, -0.24253563],\n",
       "       [-0.35112344,  0.        , -0.68751406, -0.63223504, -0.24253563,\n",
       "        -0.11899901, -0.49130368, -0.34956332, -0.24253563, -0.2670249 ,\n",
       "        -0.24253563, -0.24253563, -0.35192118, -0.35355339, -0.24253563,\n",
       "         0.36385053, -0.33333333, -0.41702883, -0.4472136 , -0.6       ,\n",
       "         1.45062667, -0.24253563, -0.24253563, -0.33333333,  2.53836541,\n",
       "        -0.53452248, -0.068214  ,  0.84047676, -0.35355339,  1.5411035 ,\n",
       "         0.57346234, -0.50504952, -0.34174306, -0.24253563],\n",
       "       [-0.35112344,  0.        , -0.68751406, -0.63223504, -0.24253563,\n",
       "        -0.25014077, -0.49130368,  2.347068  , -0.24253563, -0.2670249 ,\n",
       "        -0.24253563, -0.24253563, -0.35192118, -0.35355339, -0.24253563,\n",
       "         0.62582291, -0.33333333, -0.41702883, -0.4472136 , -0.6       ,\n",
       "        -0.86010608, -0.24253563, -0.24253563, -0.33333333,  1.92915771,\n",
       "         1.87082869, -0.15591772,  0.84047676, -0.35355339,  1.5411035 ,\n",
       "         0.57346234,  0.0297088 , -0.34174306, -0.24253563],\n",
       "       [ 3.86235786,  0.        ,  1.52894918, -0.63223504, -0.24253563,\n",
       "        -0.25014077, -0.49130368, -0.34956332, -0.24253563, -0.2670249 ,\n",
       "        -0.24253563, -0.24253563,  0.22394984, -0.35355339, -0.24253563,\n",
       "         1.67371242, -0.33333333,  3.33623062, -0.4472136 , -0.6       ,\n",
       "        -0.86010608, -0.24253563, -0.24253563, -0.33333333, -0.50767308,\n",
       "        -0.53452248, -0.2874733 ,  0.84047676, -0.35355339,  1.5411035 ,\n",
       "         2.0480798 , -0.50504952, -0.34174306, -0.24253563],\n",
       "       [-0.35112344,  0.        ,  1.52894918, -0.63223504, -0.24253563,\n",
       "        -0.25014077, -0.49130368, -0.34956332, -0.24253563,  4.10247349,\n",
       "        -0.24253563, -0.24253563,  0.79982086, -0.35355339, -0.24253563,\n",
       "        -1.46995613, -0.33333333, -0.41702883, -0.4472136 , -0.6       ,\n",
       "         1.45062667, -0.24253563,  4.12310563, -0.33333333, -0.50767308,\n",
       "        -0.53452248,  0.1510453 , -0.05789507, -0.35355339, -1.37888208,\n",
       "         2.0480798 , -0.50504952, -0.34174306, -0.24253563],\n",
       "       [-0.35112344,  0.        , -0.68751406,  2.27088504, -0.24253563,\n",
       "        -0.25014077, -0.49130368, -0.34956332, -0.24253563, -0.2670249 ,\n",
       "        -0.24253563, -0.24253563,  1.37569188, -0.35355339, -0.24253563,\n",
       "         0.62582291, -0.33333333, -0.41702883, -0.4472136 , -0.6       ,\n",
       "        -0.86010608,  4.12310563, -0.24253563, -0.33333333, -0.50767308,\n",
       "        -0.53452248, -0.2874733 ,  1.19982549, -0.35355339,  0.08111071,\n",
       "        -0.90115511, -0.50504952, -0.34174306, -0.24253563],\n",
       "       [-0.35112344,  0.        , -0.13339825, -0.63223504, -0.24253563,\n",
       "        -0.25014077,  0.56148993, -0.34956332, -0.24253563, -0.2670249 ,\n",
       "        -0.24253563, -0.24253563,  0.79982086, -0.35355339, -0.24253563,\n",
       "        -0.68403899, -0.33333333, -0.41702883, -0.4472136 , -0.6       ,\n",
       "        -0.86010608, -0.24253563, -0.24253563, -0.33333333, -0.50767308,\n",
       "        -0.53452248, -0.2874733 , -0.50708099,  2.82842712,  1.5411035 ,\n",
       "         0.57346234, -0.50504952, -0.34174306, -0.24253563],\n",
       "       [-0.35112344,  0.        , -0.68751406,  1.39994901, -0.24253563,\n",
       "        -0.25014077, -0.49130368, -0.34956332, -0.24253563, -0.2670249 ,\n",
       "        -0.24253563, -0.24253563,  0.22394984, -0.35355339, -0.24253563,\n",
       "         0.10187815, -0.33333333, -0.41702883, -0.4472136 ,  1.8       ,\n",
       "        -0.28242289, -0.24253563, -0.24253563, -0.33333333, -0.50767308,\n",
       "        -0.53452248, -0.2874733 , -0.77659254, -0.35355339,  0.08111071,\n",
       "        -0.90115511,  0.0297088 ,  3.5028664 , -0.24253563],\n",
       "       [-0.35112344,  0.        ,  2.26777026,  1.10963701,  4.12310563,\n",
       "        -0.25014077, -0.49130368, -0.34956332, -0.24253563, -0.2670249 ,\n",
       "        -0.24253563, -0.24253563, -1.50366322, -0.35355339, -0.24253563,\n",
       "         1.67371242, -0.33333333,  1.4596009 , -0.4472136 , -0.6       ,\n",
       "         1.45062667, -0.24253563, -0.24253563, -0.33333333, -0.50767308,\n",
       "        -0.53452248, -0.2874733 , -1.62106206, -0.35355339,  0.08111071,\n",
       "        -0.90115511, -0.50504952, -0.34174306, -0.24253563],\n",
       "       [-0.35112344,  0.        ,  1.52894918, -0.28386063, -0.24253563,\n",
       "        -0.25014077, -0.07018624, -0.34956332, -0.24253563, -0.2670249 ,\n",
       "        -0.24253563, -0.24253563, -0.9277922 , -0.35355339, -0.24253563,\n",
       "         0.62582291, -0.33333333, -0.41702883, -0.4472136 , -0.6       ,\n",
       "         0.2952603 , -0.24253563, -0.24253563, -0.33333333, -0.50767308,\n",
       "         1.87082869, -0.2874733 , -0.77659254,  2.82842712,  0.81110711,\n",
       "        -0.90115511, -0.50504952, -0.34174306, -0.24253563],\n",
       "       [ 1.05337032,  0.        ,  0.05130702, -0.63223504, -0.24253563,\n",
       "        -0.25014077, -0.49130368, -0.34956332, -0.24253563, -0.2670249 ,\n",
       "        -0.24253563, -0.24253563,  0.79982086, -0.35355339, -0.24253563,\n",
       "        -0.68403899, -0.33333333, -0.41702883, -0.4472136 , -0.6       ,\n",
       "        -0.86010608, -0.24253563, -0.24253563, -0.33333333, -0.50767308,\n",
       "        -0.53452248, -0.2874733 , -0.50708099, -0.35355339, -0.64888568,\n",
       "        -0.90115511,  3.77301703, -0.34174306, -0.24253563]])"
      ]
     },
     "execution_count": 18,
     "metadata": {},
     "output_type": "execute_result"
    }
   ],
   "source": [
    "X_scaled"
   ]
  },
  {
   "cell_type": "code",
   "execution_count": 19,
   "metadata": {},
   "outputs": [
    {
     "data": {
      "image/png": "[encoded data removed]",
      "text/plain": [
       "<matplotlib.figure.Figure at 0x11a53c048>"
      ]
     },
     "metadata": {},
     "output_type": "display_data"
    }
   ],
   "source": [
    "pca = PCA(n_components=2)\n",
    "X_scaled = scale(X, with_mean=True, with_std=True)\n",
    "plot_PCA(pca, X_scaled, True, cakes.Cake, X.columns, biplot=True, y_scale=(-1, 1))"
   ]
  },
  {
   "cell_type": "markdown",
   "metadata": {},
   "source": [
    "To me, it looks like cheesecakes are off to the right on the first principal component, and the second principal component is quantifying whether the cake has fruit or not..."
   ]
  },
  {
   "cell_type": "markdown",
   "metadata": {},
   "source": [
    "### t-SNE"
   ]
  },
  {
   "cell_type": "markdown",
   "metadata": {},
   "source": [
    "Let's switch for a moment to the handwritten digits dataset that we saw before in the notebook on k-nearest neighbors:"
   ]
  },
  {
   "cell_type": "code",
   "execution_count": 20,
   "metadata": {},
   "outputs": [],
   "source": [
    "digits = load_digits()\n",
    "digits_data = scale(digits.data)\n",
    "\n",
    "labels = digits.target"
   ]
  },
  {
   "cell_type": "code",
   "execution_count": 21,
   "metadata": {},
   "outputs": [
    {
     "data": {
      "text/plain": [
       "(1797, 64)"
      ]
     },
     "execution_count": 21,
     "metadata": {},
     "output_type": "execute_result"
    }
   ],
   "source": [
    "digits_data.shape"
   ]
  },
  {
   "cell_type": "code",
   "execution_count": 22,
   "metadata": {},
   "outputs": [],
   "source": [
    "pca = PCA(n_components=2)\n",
    "digits_trans = pca.fit_transform(digits_data)"
   ]
  },
  {
   "cell_type": "markdown",
   "metadata": {},
   "source": [
    "Let's make a plot of the first two principal components, colored and labeled by the true digit:"
   ]
  },
  {
   "cell_type": "code",
   "execution_count": 23,
   "metadata": {},
   "outputs": [
    {
     "data": {
      "image/png": "[encoded data removed]",
      "text/plain": [
       "<matplotlib.figure.Figure at 0x11a63ec18>"
      ]
     },
     "metadata": {},
     "output_type": "display_data"
    }
   ],
   "source": [
    "xmin, xmax = min(digits_trans[:, 0]), max(digits_trans[:, 0])\n",
    "ymin, ymax = min(digits_trans[:, 1]), max(digits_trans[:, 1])\n",
    "xpad, ypad = 5, 5\n",
    "plt.xlim(xmin - xpad, xmax + xpad)\n",
    "plt.ylim(ymin - ypad, ymax + ypad)\n",
    "\n",
    "for x, y, label in zip(digits_trans[:, 0], digits_trans[:, 1], labels):\n",
    "    plt.text(x, y, label, size=8, color=plt.cm.Set1(label/10.))\n",
    "\n",
    "plt.xlabel(\"PC 1\")\n",
    "plt.ylabel(\"PC 2\")\n",
    "\n",
    "plt.show()"
   ]
  },
  {
   "cell_type": "markdown",
   "metadata": {},
   "source": [
    "If our goal is visualizing the high dimensional dataset, the [t-SNE](http://lvdmaaten.github.io/tsne/) algorithm usually does a superior job of finding structure in the high-dimensional data that can be visualized in two dimensions.  There's a [scikit-learn class](http://scikit-learn.org/stable/modules/generated/sklearn.manifold.TSNE.html#sklearn.manifold.TSNE) for running t-SNE."
   ]
  },
  {
   "cell_type": "code",
   "execution_count": 24,
   "metadata": {},
   "outputs": [
    {
     "name": "stdout",
     "output_type": "stream",
     "text": [
      "[t-SNE] Computing pairwise distances...\n",
      "[t-SNE] Computing 91 nearest neighbors...\n",
      "[t-SNE] Computed conditional probabilities for sample 1000 / 1797\n",
      "[t-SNE] Computed conditional probabilities for sample 1797 / 1797\n",
      "[t-SNE] Mean sigma: 2.377622\n",
      "[t-SNE] KL divergence after 100 iterations with early exaggeration: 1.083374\n",
      "[t-SNE] Error after 225 iterations: 1.083374\n"
     ]
    }
   ],
   "source": [
    "tsne = TSNE(n_components=2, verbose=True)\n",
    "digits_trans = tsne.fit_transform(digits_data)"
   ]
  },
  {
   "cell_type": "code",
   "execution_count": 25,
   "metadata": {},
   "outputs": [
    {
     "data": {
      "image/png": "[encoded data removed]",
      "text/plain": [
       "<matplotlib.figure.Figure at 0x11a570828>"
      ]
     },
     "metadata": {},
     "output_type": "display_data"
    }
   ],
   "source": [
    "xmin, xmax = min(digits_trans[:, 0]), max(digits_trans[:, 0])\n",
    "ymin, ymax = min(digits_trans[:, 1]), max(digits_trans[:, 1])\n",
    "xpad, ypad = 5, 5\n",
    "plt.xlim(xmin - xpad, xmax + xpad)\n",
    "plt.ylim(ymin - ypad, ymax + ypad)\n",
    "\n",
    "#for x, y, label in zip(digits_trans[labels==6, 0], digits_trans[labels==6, 1], labels[labels==6]):\n",
    "for x, y, label in zip(digits_trans[:, 0], digits_trans[:, 1], labels):\n",
    "    plt.text(x, y, label, size=8, color=plt.cm.Set1(label/10.))\n",
    "\n",
    "plt.xlabel(\"Component 1\")\n",
    "plt.ylabel(\"Component 2\")\n",
    "\n",
    "plt.show()"
   ]
  },
  {
   "cell_type": "markdown",
   "metadata": {},
   "source": [
    "This clearly does a better job at finding the \"structure\" in the high-dimensional dataset.  Notice that 3, 5, and 9 end up near each other.  But there are some 1's that are closer to the 2's, and some 9's that are closer to the 7's and the 1's."
   ]
  },
  {
   "cell_type": "markdown",
   "metadata": {},
   "source": [
    "## Clustering"
   ]
  },
  {
   "cell_type": "markdown",
   "metadata": {},
   "source": [
    "### Hierarchical"
   ]
  },
  {
   "cell_type": "markdown",
   "metadata": {},
   "source": [
    "Now back to cakes.  We'll use some functions from scipy to run hierarchical clustering.  `linkage` calculates the distances and linkages, and `dendrogram` displays the actual tree dendrogram:"
   ]
  },
  {
   "cell_type": "code",
   "execution_count": 26,
   "metadata": {},
   "outputs": [],
   "source": [
    "clusters_single = linkage(scale(X), method='single', metric=\"euclidean\") # single, complete, average, and ward methods"
   ]
  },
  {
   "cell_type": "code",
   "execution_count": 27,
   "metadata": {},
   "outputs": [
    {
     "data": {
      "image/png": "[encoded data removed]",
      "text/plain": [
       "<matplotlib.figure.Figure at 0x11a43f978>"
      ]
     },
     "metadata": {},
     "output_type": "display_data"
    }
   ],
   "source": [
    "dendr = dendrogram(clusters_single, orientation=\"top\", labels=list(cakes.Cake))"
   ]
  },
  {
   "cell_type": "markdown",
   "metadata": {},
   "source": [
    "As ISLR says, single linkage tends to produce really unbalanced trees.  We can put the dendrogram on its side to make it easier to visualize:"
   ]
  },
  {
   "cell_type": "code",
   "execution_count": 28,
   "metadata": {},
   "outputs": [
    {
     "data": {
      "image/png": "[encoded data removed]",
      "text/plain": [
       "<matplotlib.figure.Figure at 0x11bdfda58>"
      ]
     },
     "metadata": {},
     "output_type": "display_data"
    }
   ],
   "source": [
    "dendr = dendrogram(clusters_single, orientation=\"right\", labels=list(cakes.Cake))"
   ]
  },
  {
   "cell_type": "code",
   "execution_count": 29,
   "metadata": {},
   "outputs": [],
   "source": [
    "clusters_complete = linkage(scale(X), method='complete', metric=\"euclidean\") # single, complete, average, and ward methods"
   ]
  },
  {
   "cell_type": "code",
   "execution_count": 30,
   "metadata": {},
   "outputs": [
    {
     "data": {
      "image/png": "[encoded data removed]",
      "text/plain": [
       "<matplotlib.figure.Figure at 0x11bef4438>"
      ]
     },
     "metadata": {},
     "output_type": "display_data"
    }
   ],
   "source": [
    "dendr = dendrogram(clusters_complete, orientation=\"top\", labels=list(cakes.Cake))"
   ]
  },
  {
   "cell_type": "code",
   "execution_count": 31,
   "metadata": {},
   "outputs": [
    {
     "data": {
      "image/png": "[encoded data removed]",
      "text/plain": [
       "<matplotlib.figure.Figure at 0x11bfa9748>"
      ]
     },
     "metadata": {},
     "output_type": "display_data"
    }
   ],
   "source": [
    "dendr = dendrogram(clusters_complete, orientation=\"right\", labels=list(cakes.Cake))"
   ]
  },
  {
   "cell_type": "code",
   "execution_count": 32,
   "metadata": {},
   "outputs": [],
   "source": [
    "clusters_ward = linkage(scale(X), method='ward', metric=\"euclidean\") # single, complete, average, and ward methods"
   ]
  },
  {
   "cell_type": "code",
   "execution_count": 33,
   "metadata": {},
   "outputs": [
    {
     "data": {
      "image/png": "[encoded data removed]",
      "text/plain": [
       "<matplotlib.figure.Figure at 0x11bedad68>"
      ]
     },
     "metadata": {},
     "output_type": "display_data"
    }
   ],
   "source": [
    "dendr = dendrogram(clusters_ward, orientation=\"top\", labels=list(cakes.Cake))"
   ]
  },
  {
   "cell_type": "code",
   "execution_count": 34,
   "metadata": {},
   "outputs": [
    {
     "data": {
      "image/png": "[encoded data removed]",
      "text/plain": [
       "<matplotlib.figure.Figure at 0x11c92b0f0>"
      ]
     },
     "metadata": {},
     "output_type": "display_data"
    }
   ],
   "source": [
    "dendr = dendrogram(clusters_ward, orientation=\"right\", labels=list(cakes.Cake))"
   ]
  },
  {
   "cell_type": "markdown",
   "metadata": {},
   "source": [
    "The clustering is doing something sensible: the cheesecakes group together and are on their own, the chocolate cakes are together (sour cream fudge, red devil's, sweet chocolate, and one bowl chocolate), etc."
   ]
  },
  {
   "cell_type": "markdown",
   "metadata": {},
   "source": [
    "### k-Means"
   ]
  },
  {
   "cell_type": "markdown",
   "metadata": {},
   "source": [
    "As a general resource, the [scikit-learn clustering page](http://scikit-learn.org/stable/modules/clustering.html) is great.  It has all the different kinds of clustering algorithms with their pros and cons.  Here, we'll focus on k-means."
   ]
  },
  {
   "cell_type": "code",
   "execution_count": 35,
   "metadata": {},
   "outputs": [],
   "source": [
    "# init can be k-means++ or random; k-means++ is just a smarter version of random that forces the\n",
    "# centers to be further apart\n",
    "kmeans = KMeans(n_clusters=10, init='k-means++', n_init=10, max_iter=300, verbose=True, n_jobs=1)"
   ]
  },
  {
   "cell_type": "code",
   "execution_count": 36,
   "metadata": {},
   "outputs": [
    {
     "name": "stdout",
     "output_type": "stream",
     "text": [
      "Initialization complete\n",
      "start iteration\n",
      "done sorting\n",
      "end inner loop\n",
      "Iteration 0, inertia 76524.8875112\n",
      "start iteration\n",
      "done sorting\n",
      "end inner loop\n",
      "Iteration 1, inertia 73467.0332294\n",
      "start iteration\n",
      "done sorting\n",
      "end inner loop\n",
      "Iteration 2, inertia 72768.487574\n",
      "start iteration\n",
      "done sorting\n",
      "end inner loop\n",
      "Iteration 3, inertia 72215.8167568\n",
      "start iteration\n",
      "done sorting\n",
      "end inner loop\n",
      "Iteration 4, inertia 71886.0303926\n",
      "start iteration\n",
      "done sorting\n",
      "end inner loop\n",
      "Iteration 5, inertia 71678.9494457\n",
      "start iteration\n",
      "done sorting\n",
      "end inner loop\n",
      "Iteration 6, inertia 71627.6595976\n",
      "start iteration\n",
      "done sorting\n",
      "end inner loop\n",
      "Iteration 7, inertia 71603.5760398\n",
      "start iteration\n",
      "done sorting\n",
      "end inner loop\n",
      "Iteration 8, inertia 71597.837858\n",
      "start iteration\n",
      "done sorting\n",
      "end inner loop\n",
      "Iteration 9, inertia 71590.6589883\n",
      "start iteration\n",
      "done sorting\n",
      "end inner loop\n",
      "Iteration 10, inertia 71586.3043777\n",
      "start iteration\n",
      "done sorting\n",
      "end inner loop\n",
      "Iteration 11, inertia 71582.1161684\n",
      "start iteration\n",
      "done sorting\n",
      "end inner loop\n",
      "Iteration 12, inertia 71576.7853104\n",
      "start iteration\n",
      "done sorting\n",
      "end inner loop\n",
      "Iteration 13, inertia 71570.9775345\n",
      "start iteration\n",
      "done sorting\n",
      "end inner loop\n",
      "Iteration 14, inertia 71559.6900352\n",
      "start iteration\n",
      "done sorting\n",
      "end inner loop\n",
      "Iteration 15, inertia 71555.4772176\n",
      "start iteration\n",
      "done sorting\n",
      "end inner loop\n",
      "Iteration 16, inertia 71554.0060959\n",
      "start iteration\n",
      "done sorting\n",
      "end inner loop\n",
      "Iteration 17, inertia 71554.0060959\n",
      "center shift 0.000000e+00 within tolerance 9.531250e-05\n",
      "Initialization complete\n",
      "start iteration\n",
      "done sorting\n",
      "end inner loop\n",
      "Iteration 0, inertia 77515.3845345\n",
      "start iteration\n",
      "done sorting\n",
      "end inner loop\n",
      "Iteration 1, inertia 73244.7272212\n",
      "start iteration\n",
      "done sorting\n",
      "end inner loop\n",
      "Iteration 2, inertia 71438.184174\n",
      "start iteration\n",
      "done sorting\n",
      "end inner loop\n",
      "Iteration 3, inertia 70713.5310455\n",
      "start iteration\n",
      "done sorting\n",
      "end inner loop\n",
      "Iteration 4, inertia 70259.0441944\n",
      "start iteration\n",
      "done sorting\n",
      "end inner loop\n",
      "Iteration 5, inertia 69927.2756347\n",
      "start iteration\n",
      "done sorting\n",
      "end inner loop\n",
      "Iteration 6, inertia 69821.9247719\n",
      "start iteration\n",
      "done sorting\n",
      "end inner loop\n",
      "Iteration 7, inertia 69766.0975356\n",
      "start iteration\n",
      "done sorting\n",
      "end inner loop\n",
      "Iteration 8, inertia 69728.342495\n",
      "start iteration\n",
      "done sorting\n",
      "end inner loop\n",
      "Iteration 9, inertia 69698.8685975\n",
      "start iteration\n",
      "done sorting\n",
      "end inner loop\n",
      "Iteration 10, inertia 69688.4735088\n",
      "start iteration\n",
      "done sorting\n",
      "end inner loop\n",
      "Iteration 11, inertia 69685.0195373\n",
      "start iteration\n",
      "done sorting\n",
      "end inner loop\n",
      "Iteration 12, inertia 69685.0195373\n",
      "center shift 0.000000e+00 within tolerance 9.531250e-05\n",
      "Initialization complete\n",
      "start iteration\n",
      "done sorting\n",
      "end inner loop\n",
      "Iteration 0, inertia 76226.5447409\n",
      "start iteration\n",
      "done sorting\n",
      "end inner loop\n",
      "Iteration 1, inertia 73481.7870911\n",
      "start iteration\n",
      "done sorting\n",
      "end inner loop\n",
      "Iteration 2, inertia 72651.9692683\n",
      "start iteration\n",
      "done sorting\n",
      "end inner loop\n",
      "Iteration 3, inertia 72136.9832395\n",
      "start iteration\n",
      "done sorting\n",
      "end inner loop\n",
      "Iteration 4, inertia 71802.7218569\n",
      "start iteration\n",
      "done sorting\n",
      "end inner loop\n",
      "Iteration 5, inertia 71654.2488368\n",
      "start iteration\n",
      "done sorting\n",
      "end inner loop\n",
      "Iteration 6, inertia 71545.7687897\n",
      "start iteration\n",
      "done sorting\n",
      "end inner loop\n",
      "Iteration 7, inertia 71512.0930819\n",
      "start iteration\n",
      "done sorting\n",
      "end inner loop\n",
      "Iteration 8, inertia 71508.4404321\n",
      "start iteration\n",
      "done sorting\n",
      "end inner loop\n",
      "Iteration 9, inertia 71507.0070685\n",
      "start iteration\n",
      "done sorting\n",
      "end inner loop\n",
      "Iteration 10, inertia 71505.9136615\n",
      "start iteration\n",
      "done sorting\n",
      "end inner loop\n",
      "Iteration 11, inertia 71502.3194897\n",
      "start iteration\n",
      "done sorting\n",
      "end inner loop\n",
      "Iteration 12, inertia 71501.0218058\n",
      "start iteration\n",
      "done sorting\n",
      "end inner loop\n",
      "Iteration 13, inertia 71500.528203\n",
      "start iteration\n",
      "done sorting\n",
      "end inner loop\n",
      "Iteration 14, inertia 71499.5957483\n",
      "start iteration\n",
      "done sorting\n",
      "end inner loop\n",
      "Iteration 15, inertia 71499.5957483\n",
      "center shift 0.000000e+00 within tolerance 9.531250e-05\n",
      "Initialization complete\n",
      "start iteration\n",
      "done sorting\n",
      "end inner loop\n",
      "Iteration 0, inertia 76769.1815943\n",
      "start iteration\n",
      "done sorting\n",
      "end inner loop\n",
      "Iteration 1, inertia 73943.7385391\n",
      "start iteration\n",
      "done sorting\n",
      "end inner loop\n",
      "Iteration 2, inertia 73368.6572205\n",
      "start iteration\n",
      "done sorting\n",
      "end inner loop\n",
      "Iteration 3, inertia 73073.0020082\n",
      "start iteration\n",
      "done sorting\n",
      "end inner loop\n",
      "Iteration 4, inertia 72769.5629137\n",
      "start iteration\n",
      "done sorting\n",
      "end inner loop\n",
      "Iteration 5, inertia 72590.2069725\n",
      "start iteration\n",
      "done sorting\n",
      "end inner loop\n",
      "Iteration 6, inertia 72474.3717674\n",
      "start iteration\n",
      "done sorting\n",
      "end inner loop\n",
      "Iteration 7, inertia 72396.4680987\n",
      "start iteration\n",
      "done sorting\n",
      "end inner loop\n",
      "Iteration 8, inertia 72359.5416214\n",
      "start iteration\n",
      "done sorting\n",
      "end inner loop\n",
      "Iteration 9, inertia 72341.485434\n",
      "start iteration\n",
      "done sorting\n",
      "end inner loop\n",
      "Iteration 10, inertia 72328.1236883\n",
      "start iteration\n",
      "done sorting\n",
      "end inner loop\n",
      "Iteration 11, inertia 72316.5757796\n",
      "start iteration\n",
      "done sorting\n",
      "end inner loop\n",
      "Iteration 12, inertia 72302.765481\n",
      "start iteration\n",
      "done sorting\n",
      "end inner loop\n",
      "Iteration 13, inertia 72293.9797874\n",
      "start iteration\n",
      "done sorting\n",
      "end inner loop\n",
      "Iteration 14, inertia 72287.9102156\n",
      "start iteration\n",
      "done sorting\n",
      "end inner loop\n",
      "Iteration 15, inertia 72282.026083\n",
      "start iteration\n",
      "done sorting\n",
      "end inner loop\n",
      "Iteration 16, inertia 72279.440577\n",
      "start iteration\n",
      "done sorting\n",
      "end inner loop\n",
      "Iteration 17, inertia 72277.1176172\n",
      "start iteration\n",
      "done sorting\n",
      "end inner loop\n",
      "Iteration 18, inertia 72273.905769\n",
      "start iteration\n",
      "done sorting\n",
      "end inner loop\n",
      "Iteration 19, inertia 72272.2020342\n",
      "start iteration\n",
      "done sorting\n",
      "end inner loop\n",
      "Iteration 20, inertia 72271.4344241\n",
      "start iteration\n",
      "done sorting\n",
      "end inner loop\n",
      "Iteration 21, inertia 72268.9759151\n",
      "start iteration\n",
      "done sorting\n",
      "end inner loop\n",
      "Iteration 22, inertia 72263.1850451\n",
      "start iteration\n",
      "done sorting\n",
      "end inner loop\n",
      "Iteration 23, inertia 72255.2379847\n",
      "start iteration\n",
      "done sorting\n",
      "end inner loop\n",
      "Iteration 24, inertia 72240.18027\n",
      "start iteration\n",
      "done sorting\n",
      "end inner loop\n",
      "Iteration 25, inertia 72210.3855854\n",
      "start iteration\n",
      "done sorting\n",
      "end inner loop\n",
      "Iteration 26, inertia 72179.4337108\n",
      "start iteration\n",
      "done sorting\n",
      "end inner loop\n",
      "Iteration 27, inertia 72118.4932427\n",
      "start iteration\n",
      "done sorting\n",
      "end inner loop\n",
      "Iteration 28, inertia 72032.3580574\n",
      "start iteration\n",
      "done sorting\n",
      "end inner loop\n",
      "Iteration 29, inertia 71851.9583477\n",
      "start iteration\n",
      "done sorting\n",
      "end inner loop\n",
      "Iteration 30, inertia 71597.1860523\n",
      "start iteration\n",
      "done sorting\n",
      "end inner loop\n",
      "Iteration 31, inertia 70822.4945411\n",
      "start iteration\n",
      "done sorting\n",
      "end inner loop\n",
      "Iteration 32, inertia 70404.9764942\n",
      "start iteration\n",
      "done sorting\n",
      "end inner loop\n",
      "Iteration 33, inertia 70344.947431\n",
      "start iteration\n",
      "done sorting\n",
      "end inner loop\n",
      "Iteration 34, inertia 70314.6807206\n",
      "start iteration\n",
      "done sorting\n",
      "end inner loop\n",
      "Iteration 35, inertia 70305.7950546\n",
      "start iteration\n",
      "done sorting\n",
      "end inner loop\n",
      "Iteration 36, inertia 70305.1187986\n",
      "start iteration\n",
      "done sorting\n",
      "end inner loop\n",
      "Iteration 37, inertia 70304.6990707\n",
      "start iteration\n",
      "done sorting\n",
      "end inner loop\n",
      "Iteration 38, inertia 70304.6990707\n",
      "center shift 0.000000e+00 within tolerance 9.531250e-05\n",
      "Initialization complete\n",
      "start iteration\n",
      "done sorting\n",
      "end inner loop\n",
      "Iteration 0, inertia 81087.7541287\n",
      "start iteration\n",
      "done sorting\n",
      "end inner loop\n",
      "Iteration 1, inertia 75893.5928452\n",
      "start iteration\n",
      "done sorting\n",
      "end inner loop\n",
      "Iteration 2, inertia 74723.1520357\n",
      "start iteration\n",
      "done sorting\n",
      "end inner loop\n",
      "Iteration 3, inertia 73758.9400229\n",
      "start iteration\n",
      "done sorting\n",
      "end inner loop\n",
      "Iteration 4, inertia 72506.6130392\n",
      "start iteration\n",
      "done sorting\n",
      "end inner loop\n",
      "Iteration 5, inertia 71765.8306077\n",
      "start iteration\n",
      "done sorting\n",
      "end inner loop\n",
      "Iteration 6, inertia 71210.6824026\n",
      "start iteration\n",
      "done sorting\n",
      "end inner loop\n",
      "Iteration 7, inertia 70793.9498782\n",
      "start iteration\n",
      "done sorting\n",
      "end inner loop\n",
      "Iteration 8, inertia 70713.3113143\n",
      "start iteration\n",
      "done sorting\n",
      "end inner loop\n",
      "Iteration 9, inertia 70703.6034621\n",
      "start iteration\n",
      "done sorting\n",
      "end inner loop\n",
      "Iteration 10, inertia 70699.0052817\n",
      "start iteration\n",
      "done sorting\n",
      "end inner loop\n",
      "Iteration 11, inertia 70695.5486808\n",
      "start iteration\n",
      "done sorting\n",
      "end inner loop\n",
      "Iteration 12, inertia 70691.3889548\n",
      "start iteration\n",
      "done sorting\n"
     ]
    },
    {
     "name": "stdout",
     "output_type": "stream",
     "text": [
      "end inner loop\n",
      "Iteration 13, inertia 70687.3316003\n",
      "start iteration\n",
      "done sorting\n",
      "end inner loop\n",
      "Iteration 14, inertia 70686.6911428\n",
      "start iteration\n",
      "done sorting\n",
      "end inner loop\n",
      "Iteration 15, inertia 70685.9151078\n",
      "start iteration\n",
      "done sorting\n",
      "end inner loop\n",
      "Iteration 16, inertia 70684.7240578\n",
      "start iteration\n",
      "done sorting\n",
      "end inner loop\n",
      "Iteration 17, inertia 70684.7240578\n",
      "center shift 0.000000e+00 within tolerance 9.531250e-05\n",
      "Initialization complete\n",
      "start iteration\n",
      "done sorting\n",
      "end inner loop\n",
      "Iteration 0, inertia 75327.1700876\n",
      "start iteration\n",
      "done sorting\n",
      "end inner loop\n",
      "Iteration 1, inertia 72105.7283024\n",
      "start iteration\n",
      "done sorting\n",
      "end inner loop\n",
      "Iteration 2, inertia 71625.0594404\n",
      "start iteration\n",
      "done sorting\n",
      "end inner loop\n",
      "Iteration 3, inertia 71549.224083\n",
      "start iteration\n",
      "done sorting\n",
      "end inner loop\n",
      "Iteration 4, inertia 71497.1799397\n",
      "start iteration\n",
      "done sorting\n",
      "end inner loop\n",
      "Iteration 5, inertia 71490.3178781\n",
      "start iteration\n",
      "done sorting\n",
      "end inner loop\n",
      "Iteration 6, inertia 71479.8212308\n",
      "start iteration\n",
      "done sorting\n",
      "end inner loop\n",
      "Iteration 7, inertia 71477.1038724\n",
      "start iteration\n",
      "done sorting\n",
      "end inner loop\n",
      "Iteration 8, inertia 71476.1740693\n",
      "start iteration\n",
      "done sorting\n",
      "end inner loop\n",
      "Iteration 9, inertia 71475.2526895\n",
      "start iteration\n",
      "done sorting\n",
      "end inner loop\n",
      "Iteration 10, inertia 71475.2526895\n",
      "center shift 0.000000e+00 within tolerance 9.531250e-05\n",
      "Initialization complete\n",
      "start iteration\n",
      "done sorting\n",
      "end inner loop\n",
      "Iteration 0, inertia 81237.8949572\n",
      "start iteration\n",
      "done sorting\n",
      "end inner loop\n",
      "Iteration 1, inertia 76479.2216001\n",
      "start iteration\n",
      "done sorting\n",
      "end inner loop\n",
      "Iteration 2, inertia 74568.3352747\n",
      "start iteration\n",
      "done sorting\n",
      "end inner loop\n",
      "Iteration 3, inertia 72750.523114\n",
      "start iteration\n",
      "done sorting\n",
      "end inner loop\n",
      "Iteration 4, inertia 71748.6632953\n",
      "start iteration\n",
      "done sorting\n",
      "end inner loop\n",
      "Iteration 5, inertia 71302.9629148\n",
      "start iteration\n",
      "done sorting\n",
      "end inner loop\n",
      "Iteration 6, inertia 70995.2100125\n",
      "start iteration\n",
      "done sorting\n",
      "end inner loop\n",
      "Iteration 7, inertia 70842.5113042\n",
      "start iteration\n",
      "done sorting\n",
      "end inner loop\n",
      "Iteration 8, inertia 70785.2063643\n",
      "start iteration\n",
      "done sorting\n",
      "end inner loop\n",
      "Iteration 9, inertia 70741.2979466\n",
      "start iteration\n",
      "done sorting\n",
      "end inner loop\n",
      "Iteration 10, inertia 70722.4932537\n",
      "start iteration\n",
      "done sorting\n",
      "end inner loop\n",
      "Iteration 11, inertia 70702.3923708\n",
      "start iteration\n",
      "done sorting\n",
      "end inner loop\n",
      "Iteration 12, inertia 70672.5049682\n",
      "start iteration\n",
      "done sorting\n",
      "end inner loop\n",
      "Iteration 13, inertia 70645.4164115\n",
      "start iteration\n",
      "done sorting\n",
      "end inner loop\n",
      "Iteration 14, inertia 70590.4630105\n",
      "start iteration\n",
      "done sorting\n",
      "end inner loop\n",
      "Iteration 15, inertia 70495.7693956\n",
      "start iteration\n",
      "done sorting\n",
      "end inner loop\n",
      "Iteration 16, inertia 70339.1135516\n",
      "start iteration\n",
      "done sorting\n",
      "end inner loop\n",
      "Iteration 17, inertia 70215.7074749\n",
      "start iteration\n",
      "done sorting\n",
      "end inner loop\n",
      "Iteration 18, inertia 70155.5222526\n",
      "start iteration\n",
      "done sorting\n",
      "end inner loop\n",
      "Iteration 19, inertia 70126.2766391\n",
      "start iteration\n",
      "done sorting\n",
      "end inner loop\n",
      "Iteration 20, inertia 70092.3205402\n",
      "start iteration\n",
      "done sorting\n",
      "end inner loop\n",
      "Iteration 21, inertia 70057.6704751\n",
      "start iteration\n",
      "done sorting\n",
      "end inner loop\n",
      "Iteration 22, inertia 70011.8780355\n",
      "start iteration\n",
      "done sorting\n",
      "end inner loop\n",
      "Iteration 23, inertia 69942.2489854\n",
      "start iteration\n",
      "done sorting\n",
      "end inner loop\n",
      "Iteration 24, inertia 69875.8759044\n",
      "start iteration\n",
      "done sorting\n",
      "end inner loop\n",
      "Iteration 25, inertia 69804.7406641\n",
      "start iteration\n",
      "done sorting\n",
      "end inner loop\n",
      "Iteration 26, inertia 69757.4651145\n",
      "start iteration\n",
      "done sorting\n",
      "end inner loop\n",
      "Iteration 27, inertia 69737.765768\n",
      "start iteration\n",
      "done sorting\n",
      "end inner loop\n",
      "Iteration 28, inertia 69734.8795616\n",
      "start iteration\n",
      "done sorting\n",
      "end inner loop\n",
      "Iteration 29, inertia 69732.0391102\n",
      "start iteration\n",
      "done sorting\n",
      "end inner loop\n",
      "Iteration 30, inertia 69730.9129726\n",
      "start iteration\n",
      "done sorting\n",
      "end inner loop\n",
      "Iteration 31, inertia 69730.9129726\n",
      "center shift 0.000000e+00 within tolerance 9.531250e-05\n",
      "Initialization complete\n",
      "start iteration\n",
      "done sorting\n",
      "end inner loop\n",
      "Iteration 0, inertia 77660.4104261\n",
      "start iteration\n",
      "done sorting\n",
      "end inner loop\n",
      "Iteration 1, inertia 74076.4823172\n",
      "start iteration\n",
      "done sorting\n",
      "end inner loop\n",
      "Iteration 2, inertia 71732.2277613\n",
      "start iteration\n",
      "done sorting\n",
      "end inner loop\n",
      "Iteration 3, inertia 70569.0892316\n",
      "start iteration\n",
      "done sorting\n",
      "end inner loop\n",
      "Iteration 4, inertia 70239.4095291\n",
      "start iteration\n",
      "done sorting\n",
      "end inner loop\n",
      "Iteration 5, inertia 70018.5566767\n",
      "start iteration\n",
      "done sorting\n",
      "end inner loop\n",
      "Iteration 6, inertia 69978.8888276\n",
      "start iteration\n",
      "done sorting\n",
      "end inner loop\n",
      "Iteration 7, inertia 69956.5590004\n",
      "start iteration\n",
      "done sorting\n",
      "end inner loop\n",
      "Iteration 8, inertia 69947.5451989\n",
      "start iteration\n",
      "done sorting\n",
      "end inner loop\n",
      "Iteration 9, inertia 69946.0588623\n",
      "start iteration\n",
      "done sorting\n",
      "end inner loop\n",
      "Iteration 10, inertia 69945.6113617\n",
      "start iteration\n",
      "done sorting\n",
      "end inner loop\n",
      "Iteration 11, inertia 69945.6113617\n",
      "center shift 0.000000e+00 within tolerance 9.531250e-05\n",
      "Initialization complete\n",
      "start iteration\n",
      "done sorting\n",
      "end inner loop\n",
      "Iteration 0, inertia 76562.1051367\n",
      "start iteration\n",
      "done sorting\n",
      "end inner loop\n",
      "Iteration 1, inertia 73609.312613\n",
      "start iteration\n",
      "done sorting\n",
      "end inner loop\n",
      "Iteration 2, inertia 72631.2121724\n",
      "start iteration\n",
      "done sorting\n",
      "end inner loop\n",
      "Iteration 3, inertia 71642.3664618\n",
      "start iteration\n",
      "done sorting\n",
      "end inner loop\n",
      "Iteration 4, inertia 70723.6871411\n",
      "start iteration\n",
      "done sorting\n",
      "end inner loop\n",
      "Iteration 5, inertia 70288.3216991\n",
      "start iteration\n",
      "done sorting\n",
      "end inner loop\n",
      "Iteration 6, inertia 70145.1877534\n",
      "start iteration\n",
      "done sorting\n",
      "end inner loop\n",
      "Iteration 7, inertia 70052.2515305\n",
      "start iteration\n",
      "done sorting\n",
      "end inner loop\n",
      "Iteration 8, inertia 69952.2069687\n",
      "start iteration\n",
      "done sorting\n",
      "end inner loop\n",
      "Iteration 9, inertia 69820.4876375\n",
      "start iteration\n",
      "done sorting\n",
      "end inner loop\n",
      "Iteration 10, inertia 69799.1124603\n",
      "start iteration\n",
      "done sorting\n",
      "end inner loop\n",
      "Iteration 11, inertia 69785.6323069\n",
      "start iteration\n",
      "done sorting\n",
      "end inner loop\n",
      "Iteration 12, inertia 69778.8493575\n",
      "start iteration\n",
      "done sorting\n",
      "end inner loop\n",
      "Iteration 13, inertia 69769.5909132\n",
      "start iteration\n",
      "done sorting\n",
      "end inner loop\n",
      "Iteration 14, inertia 69759.1661568\n",
      "start iteration\n",
      "done sorting\n",
      "end inner loop\n",
      "Iteration 15, inertia 69757.5351553\n",
      "start iteration\n",
      "done sorting\n",
      "end inner loop\n",
      "Iteration 16, inertia 69757.5351553\n",
      "center shift 0.000000e+00 within tolerance 9.531250e-05\n",
      "Initialization complete\n",
      "start iteration\n",
      "done sorting\n",
      "end inner loop\n",
      "Iteration 0, inertia 80695.1171327\n",
      "start iteration\n",
      "done sorting\n",
      "end inner loop\n",
      "Iteration 1, inertia 77365.1273874\n",
      "start iteration\n",
      "done sorting\n",
      "end inner loop\n",
      "Iteration 2, inertia 76384.9101919\n",
      "start iteration\n",
      "done sorting\n",
      "end inner loop\n",
      "Iteration 3, inertia 75817.430409\n",
      "start iteration\n",
      "done sorting\n",
      "end inner loop\n",
      "Iteration 4, inertia 75315.3781338\n",
      "start iteration\n",
      "done sorting\n",
      "end inner loop\n",
      "Iteration 5, inertia 74871.534189\n",
      "start iteration\n",
      "done sorting\n",
      "end inner loop\n",
      "Iteration 6, inertia 74507.3182376\n",
      "start iteration\n",
      "done sorting\n",
      "end inner loop\n",
      "Iteration 7, inertia 73855.1989219\n",
      "start iteration\n",
      "done sorting\n",
      "end inner loop\n",
      "Iteration 8, inertia 73411.5722038\n",
      "start iteration\n",
      "done sorting\n",
      "end inner loop\n",
      "Iteration 9, inertia 73277.8296231\n",
      "start iteration\n",
      "done sorting\n",
      "end inner loop\n",
      "Iteration 10, inertia 73197.2047894\n",
      "start iteration\n",
      "done sorting\n",
      "end inner loop\n",
      "Iteration 11, inertia 73149.691877\n",
      "start iteration\n",
      "done sorting\n",
      "end inner loop\n",
      "Iteration 12, inertia 73091.2050596\n",
      "start iteration\n",
      "done sorting\n",
      "end inner loop\n",
      "Iteration 13, inertia 73006.9691364\n",
      "start iteration\n",
      "done sorting\n",
      "end inner loop\n",
      "Iteration 14, inertia 72886.1671714\n",
      "start iteration\n",
      "done sorting\n",
      "end inner loop\n",
      "Iteration 15, inertia 72767.7629518\n",
      "start iteration\n",
      "done sorting\n",
      "end inner loop\n",
      "Iteration 16, inertia 72678.6310259\n",
      "start iteration\n",
      "done sorting\n",
      "end inner loop\n",
      "Iteration 17, inertia 72633.5639188\n",
      "start iteration\n",
      "done sorting\n",
      "end inner loop\n",
      "Iteration 18, inertia 72613.4388358\n",
      "start iteration\n",
      "done sorting\n",
      "end inner loop\n",
      "Iteration 19, inertia 72593.8608474\n",
      "start iteration\n",
      "done sorting\n",
      "end inner loop\n",
      "Iteration 20, inertia 72575.5361801\n",
      "start iteration\n",
      "done sorting\n",
      "end inner loop\n",
      "Iteration 21, inertia 72550.4317211\n",
      "start iteration\n",
      "done sorting\n",
      "end inner loop\n",
      "Iteration 22, inertia 72522.8845384\n",
      "start iteration\n",
      "done sorting\n",
      "end inner loop\n",
      "Iteration 23, inertia 72493.1441362\n",
      "start iteration\n",
      "done sorting\n",
      "end inner loop\n",
      "Iteration 24, inertia 72401.9895557\n",
      "start iteration\n",
      "done sorting\n",
      "end inner loop\n",
      "Iteration 25, inertia 72288.6900372\n",
      "start iteration\n",
      "done sorting\n",
      "end inner loop\n",
      "Iteration 26, inertia 72130.0810159\n",
      "start iteration\n",
      "done sorting\n",
      "end inner loop\n",
      "Iteration 27, inertia 72079.9984804\n",
      "start iteration\n",
      "done sorting\n",
      "end inner loop\n",
      "Iteration 28, inertia 72063.9761769\n",
      "start iteration\n",
      "done sorting\n",
      "end inner loop\n",
      "Iteration 29, inertia 72052.9372886\n",
      "start iteration\n",
      "done sorting\n",
      "end inner loop\n",
      "Iteration 30, inertia 72045.99772\n",
      "start iteration\n",
      "done sorting\n",
      "end inner loop\n",
      "Iteration 31, inertia 72035.0572488\n",
      "start iteration\n",
      "done sorting\n",
      "end inner loop\n",
      "Iteration 32, inertia 72026.7060666\n",
      "start iteration\n",
      "done sorting\n",
      "end inner loop\n",
      "Iteration 33, inertia 72020.8276037\n",
      "start iteration\n",
      "done sorting\n",
      "end inner loop\n",
      "Iteration 34, inertia 72015.5878239\n",
      "start iteration\n",
      "done sorting\n",
      "end inner loop\n",
      "Iteration 35, inertia 72010.6885287\n",
      "start iteration\n",
      "done sorting\n",
      "end inner loop\n",
      "Iteration 36, inertia 72009.4159656\n",
      "start iteration\n",
      "done sorting\n",
      "end inner loop\n",
      "Iteration 37, inertia 72009.4159656\n",
      "center shift 0.000000e+00 within tolerance 9.531250e-05\n"
     ]
    },
    {
     "data": {
      "text/plain": [
       "KMeans(algorithm='auto', copy_x=True, init='k-means++', max_iter=300,\n",
       "    n_clusters=10, n_init=10, n_jobs=1, precompute_distances='auto',\n",
       "    random_state=None, tol=0.0001, verbose=True)"
      ]
     },
     "execution_count": 36,
     "metadata": {},
     "output_type": "execute_result"
    }
   ],
   "source": [
    "kmeans.fit(digits_data)"
   ]
  },
  {
   "cell_type": "markdown",
   "metadata": {},
   "source": [
    "We can see the assigned cluster or label of each data point:"
   ]
  },
  {
   "cell_type": "code",
   "execution_count": 37,
   "metadata": {},
   "outputs": [
    {
     "data": {
      "text/plain": [
       "array([1, 2, 2, ..., 2, 5, 5], dtype=int32)"
      ]
     },
     "execution_count": 37,
     "metadata": {},
     "output_type": "execute_result"
    }
   ],
   "source": [
    "kmeans.labels_"
   ]
  },
  {
   "cell_type": "markdown",
   "metadata": {},
   "source": [
    "And the cluster centers themselves:"
   ]
  },
  {
   "cell_type": "code",
   "execution_count": 38,
   "metadata": {},
   "outputs": [
    {
     "data": {
      "text/plain": [
       "(10, 64)"
      ]
     },
     "execution_count": 38,
     "metadata": {},
     "output_type": "execute_result"
    }
   ],
   "source": [
    "kmeans.cluster_centers_.shape"
   ]
  },
  {
   "cell_type": "markdown",
   "metadata": {},
   "source": [
    "The \"inertia\" tells us the within cluster sum-of-squares, or the \"sum of distances of samples to their closest cluster center.\""
   ]
  },
  {
   "cell_type": "code",
   "execution_count": 39,
   "metadata": {},
   "outputs": [
    {
     "data": {
      "text/plain": [
       "69685.019537303378"
      ]
     },
     "execution_count": 39,
     "metadata": {},
     "output_type": "execute_result"
    }
   ],
   "source": [
    "kmeans.inertia_"
   ]
  },
  {
   "cell_type": "markdown",
   "metadata": {},
   "source": [
    "Here, we make a plot where we color by the k-means label instead of the true label.  We can see that things are decent, but definitely more confused than with the true labels:"
   ]
  },
  {
   "cell_type": "code",
   "execution_count": 40,
   "metadata": {},
   "outputs": [
    {
     "data": {
      "image/png": "[encoded data removed]",
      "text/plain": [
       "<matplotlib.figure.Figure at 0x11cafed68>"
      ]
     },
     "metadata": {},
     "output_type": "display_data"
    }
   ],
   "source": [
    "xmin, xmax = min(digits_trans[:, 0]), max(digits_trans[:, 0])\n",
    "ymin, ymax = min(digits_trans[:, 1]), max(digits_trans[:, 1])\n",
    "xpad, ypad = 5, 5\n",
    "plt.xlim(xmin - xpad, xmax + xpad)\n",
    "plt.ylim(ymin - ypad, ymax + ypad)\n",
    "\n",
    "for x, y, true_label, kmeans_label in zip(digits_trans[:, 0], digits_trans[:, 1], labels, kmeans.labels_):\n",
    "    plt.text(x, y, true_label, size=8, color=plt.cm.Set1(kmeans_label/10.))\n",
    "\n",
    "plt.xlabel(\"Component 1\")\n",
    "plt.ylabel(\"Component 2\")\n",
    "\n",
    "plt.show()"
   ]
  },
  {
   "cell_type": "markdown",
   "metadata": {},
   "source": [
    "We can call the `predict` method, which will tell us which cluster center some new data is closest too:"
   ]
  },
  {
   "cell_type": "code",
   "execution_count": 41,
   "metadata": {},
   "outputs": [
    {
     "data": {
      "text/plain": [
       "array([1, 2, 2, ..., 2, 5, 5], dtype=int32)"
      ]
     },
     "execution_count": 41,
     "metadata": {},
     "output_type": "execute_result"
    }
   ],
   "source": [
    "kmeans.predict(digits_data)"
   ]
  },
  {
   "cell_type": "markdown",
   "metadata": {},
   "source": [
    "The `transform` method will transform data into the cluster distance space.  That is, how far the point is from each cluster center:"
   ]
  },
  {
   "cell_type": "code",
   "execution_count": 42,
   "metadata": {},
   "outputs": [
    {
     "data": {
      "text/plain": [
       "array([  8.03195609,   3.04464697,   8.24453176,   8.00838798,\n",
       "         8.00651952,   6.77430803,   9.45260551,  13.00687658,\n",
       "         8.7586939 ,   7.4447937 ])"
      ]
     },
     "execution_count": 42,
     "metadata": {},
     "output_type": "execute_result"
    }
   ],
   "source": [
    "transformed = kmeans.transform(digits_data)\n",
    "transformed[0, :]"
   ]
  },
  {
   "cell_type": "markdown",
   "metadata": {},
   "source": [
    "For very large datasets, there's a much faster implementation of k-means called [mini-batch k-means](http://www.eecs.tufts.edu/~dsculley/papers/fastkmeans.pdf), and a [scikit-learn class](http://scikit-learn.org/stable/modules/generated/sklearn.cluster.MiniBatchKMeans.html) for running it:"
   ]
  },
  {
   "cell_type": "code",
   "execution_count": 43,
   "metadata": {},
   "outputs": [],
   "source": [
    "mb_kmeans = MiniBatchKMeans(n_clusters=10, batch_size=100, init='k-means++', n_init=10, max_iter=300, verbose=True)"
   ]
  },
  {
   "cell_type": "code",
   "execution_count": 44,
   "metadata": {},
   "outputs": [
    {
     "name": "stdout",
     "output_type": "stream",
     "text": [
      "Init 1/10 with method: k-means++\n",
      "Inertia for init 1/10: 11605.278903\n",
      "Init 2/10 with method: k-means++\n",
      "Inertia for init 2/10: 12825.043606\n",
      "Init 3/10 with method: k-means++\n",
      "Inertia for init 3/10: 14949.432439\n",
      "Init 4/10 with method: k-means++\n",
      "Inertia for init 4/10: 14733.235979\n",
      "Init 5/10 with method: k-means++\n",
      "Inertia for init 5/10: 14229.469757\n",
      "Init 6/10 with method: k-means++\n",
      "Inertia for init 6/10: 15506.087850\n",
      "Init 7/10 with method: k-means++\n",
      "Inertia for init 7/10: 11928.813832\n",
      "Init 8/10 with method: k-means++\n",
      "Inertia for init 8/10: 14816.547064\n",
      "Init 9/10 with method: k-means++\n",
      "Inertia for init 9/10: 13837.704450\n",
      "Init 10/10 with method: k-means++\n",
      "Inertia for init 10/10: 13836.785811\n",
      "Minibatch iteration 1/5400: mean batch inertia: 38.758204, ewa inertia: 38.758204 \n",
      "Minibatch iteration 2/5400: mean batch inertia: 40.596816, ewa inertia: 38.962721 \n",
      "Minibatch iteration 3/5400: mean batch inertia: 36.155957, ewa inertia: 38.650512 \n",
      "Minibatch iteration 4/5400: mean batch inertia: 43.762882, ewa inertia: 39.219185 \n",
      "Minibatch iteration 5/5400: mean batch inertia: 54.686377, ewa inertia: 40.939673 \n",
      "Minibatch iteration 6/5400: mean batch inertia: 35.739244, ewa inertia: 40.361205 \n",
      "Minibatch iteration 7/5400: mean batch inertia: 42.776207, ewa inertia: 40.629837 \n",
      "Minibatch iteration 8/5400: mean batch inertia: 34.302064, ewa inertia: 39.925969 \n",
      "Minibatch iteration 9/5400: mean batch inertia: 40.274822, ewa inertia: 39.964774 \n",
      "Minibatch iteration 10/5400: mean batch inertia: 41.324152, ewa inertia: 40.115984 \n",
      "Minibatch iteration 11/5400: mean batch inertia: 40.515648, ewa inertia: 40.160440 \n",
      "Minibatch iteration 12/5400: mean batch inertia: 36.083017, ewa inertia: 39.706889 \n",
      "Minibatch iteration 13/5400: mean batch inertia: 45.452276, ewa inertia: 40.345976 \n",
      "Converged (lack of improvement in inertia) at iteration 13/5400\n",
      "Computing label assignment and total inertia\n"
     ]
    },
    {
     "data": {
      "text/plain": [
       "MiniBatchKMeans(batch_size=100, compute_labels=True, init='k-means++',\n",
       "        init_size=None, max_iter=300, max_no_improvement=10, n_clusters=10,\n",
       "        n_init=10, random_state=None, reassignment_ratio=0.01, tol=0.0,\n",
       "        verbose=True)"
      ]
     },
     "execution_count": 44,
     "metadata": {},
     "output_type": "execute_result"
    }
   ],
   "source": [
    "mb_kmeans.fit(digits_data)"
   ]
  },
  {
   "cell_type": "code",
   "execution_count": 45,
   "metadata": {},
   "outputs": [
    {
     "data": {
      "text/plain": [
       "array([1, 0, 0, ..., 0, 1, 2], dtype=int32)"
      ]
     },
     "execution_count": 45,
     "metadata": {},
     "output_type": "execute_result"
    }
   ],
   "source": [
    "mb_kmeans.labels_"
   ]
  },
  {
   "cell_type": "code",
   "execution_count": 46,
   "metadata": {},
   "outputs": [
    {
     "data": {
      "image/png": "[encoded data removed]",
      "text/plain": [
       "<matplotlib.figure.Figure at 0x11cb20c18>"
      ]
     },
     "metadata": {},
     "output_type": "display_data"
    }
   ],
   "source": [
    "xmin, xmax = min(digits_trans[:, 0]), max(digits_trans[:, 0])\n",
    "ymin, ymax = min(digits_trans[:, 1]), max(digits_trans[:, 1])\n",
    "xpad, ypad = 5, 5\n",
    "plt.xlim(xmin - xpad, xmax + xpad)\n",
    "plt.ylim(ymin - ypad, ymax + ypad)\n",
    "\n",
    "for x, y, true_label, kmeans_label in zip(digits_trans[:, 0], digits_trans[:, 1], labels, mb_kmeans.labels_):\n",
    "    plt.text(x, y, true_label, size=8, color=plt.cm.Set1(kmeans_label/10.))\n",
    "\n",
    "plt.xlabel(\"Component 1\")\n",
    "plt.ylabel(\"Component 2\")\n",
    "\n",
    "plt.show()"
   ]
  },
  {
   "cell_type": "markdown",
   "metadata": {},
   "source": [
    "Let's see if we can re-cover the \"correct\" number of clusters using the silhouette statistic:"
   ]
  },
  {
   "cell_type": "code",
   "execution_count": 48,
   "metadata": {},
   "outputs": [
    {
     "name": "stdout",
     "output_type": "stream",
     "text": [
      "Fitting 3 clusters...\n",
      "Fitting 5 clusters...\n",
      "Fitting 7 clusters...\n",
      "Fitting 9 clusters...\n",
      "Fitting 11 clusters...\n",
      "Fitting 13 clusters...\n",
      "Fitting 15 clusters...\n",
      "Fitting 17 clusters...\n",
      "Fitting 19 clusters...\n",
      "Fitting 21 clusters...\n",
      "Fitting 23 clusters...\n",
      "Fitting 25 clusters...\n",
      "Fitting 27 clusters...\n",
      "Fitting 29 clusters...\n",
      "Fitting 31 clusters...\n",
      "Fitting 33 clusters...\n",
      "Fitting 35 clusters...\n",
      "Fitting 37 clusters...\n",
      "Fitting 39 clusters...\n",
      "Fitting 41 clusters...\n",
      "Fitting 43 clusters...\n",
      "Fitting 45 clusters...\n",
      "Fitting 47 clusters...\n",
      "Fitting 49 clusters...\n",
      "Fitting 51 clusters...\n",
      "Fitting 53 clusters...\n",
      "Fitting 55 clusters...\n",
      "Fitting 57 clusters...\n",
      "Fitting 59 clusters...\n",
      "Fitting 61 clusters...\n",
      "Fitting 63 clusters...\n",
      "Fitting 65 clusters...\n",
      "Fitting 67 clusters...\n",
      "Fitting 69 clusters...\n"
     ]
    }
   ],
   "source": [
    "n_clusters = range(3, 70, 2)\n",
    "silhouette_stats = []\n",
    "for this_n_clusters in n_clusters:\n",
    "    print(\"Fitting %s clusters...\" % this_n_clusters)\n",
    "    kmeans = KMeans(n_clusters=this_n_clusters, init='k-means++', n_init=10, max_iter=300, verbose=False, n_jobs=1)\n",
    "    kmeans.fit(digits_data)\n",
    "    labels = kmeans.labels_\n",
    "    silhouette_stats.append(silhouette_score(digits_data, labels, metric='euclidean'))"
   ]
  },
  {
   "cell_type": "code",
   "execution_count": 49,
   "metadata": {},
   "outputs": [
    {
     "data": {
      "image/png": "[encoded data removed]",
      "text/plain": [
       "<matplotlib.figure.Figure at 0x11cbe7c50>"
      ]
     },
     "metadata": {},
     "output_type": "display_data"
    }
   ],
   "source": [
    "plt.plot(n_clusters, silhouette_stats)\n",
    "plt.show()"
   ]
  },
  {
   "cell_type": "markdown",
   "metadata": {},
   "source": [
    "## Text Data"
   ]
  },
  {
   "cell_type": "markdown",
   "metadata": {},
   "source": [
    "In this example, we'll do dimension reduction and clustering on some text data--the 20 newsgroups dataset from last week:"
   ]
  },
  {
   "cell_type": "code",
   "execution_count": 50,
   "metadata": {},
   "outputs": [],
   "source": [
    "data_train = fetch_20newsgroups(subset='train', categories=None,\n",
    "                                shuffle=True, random_state=42,\n",
    "                                remove=('headers', 'footers', 'quotes'))"
   ]
  },
  {
   "cell_type": "code",
   "execution_count": 51,
   "metadata": {},
   "outputs": [
    {
     "data": {
      "text/plain": [
       "['alt.atheism',\n",
       " 'comp.graphics',\n",
       " 'comp.os.ms-windows.misc',\n",
       " 'comp.sys.ibm.pc.hardware',\n",
       " 'comp.sys.mac.hardware',\n",
       " 'comp.windows.x',\n",
       " 'misc.forsale',\n",
       " 'rec.autos',\n",
       " 'rec.motorcycles',\n",
       " 'rec.sport.baseball',\n",
       " 'rec.sport.hockey',\n",
       " 'sci.crypt',\n",
       " 'sci.electronics',\n",
       " 'sci.med',\n",
       " 'sci.space',\n",
       " 'soc.religion.christian',\n",
       " 'talk.politics.guns',\n",
       " 'talk.politics.mideast',\n",
       " 'talk.politics.misc',\n",
       " 'talk.religion.misc']"
      ]
     },
     "execution_count": 51,
     "metadata": {},
     "output_type": "execute_result"
    }
   ],
   "source": [
    "data_train.target_names"
   ]
  },
  {
   "cell_type": "markdown",
   "metadata": {},
   "source": [
    "Let's only keep the 'rec.sport.baseball', 'rec.autos', 'sci.space', and 'talk.politics.guns' categories:"
   ]
  },
  {
   "cell_type": "code",
   "execution_count": 52,
   "metadata": {},
   "outputs": [
    {
     "data": {
      "text/plain": [
       "array([    0,     4,     5, ..., 11291, 11292, 11296])"
      ]
     },
     "execution_count": 52,
     "metadata": {},
     "output_type": "execute_result"
    }
   ],
   "source": [
    "to_keep = np.where([name in [9, 7, 14, 16] for name in data_train.target])[0]\n",
    "to_keep"
   ]
  },
  {
   "cell_type": "markdown",
   "metadata": {},
   "source": [
    "We turn the blobs of text into numeric features by using tfidf, which is basically a normalized version of the word counts:"
   ]
  },
  {
   "cell_type": "code",
   "execution_count": 53,
   "metadata": {},
   "outputs": [],
   "source": [
    "vectorizer = TfidfVectorizer(max_df=0.5, min_df=25, stop_words='english', use_idf=True)\n",
    "X_train = vectorizer.fit_transform(np.array(data_train.data)[to_keep])\n",
    "targets = data_train.target[to_keep]"
   ]
  },
  {
   "cell_type": "markdown",
   "metadata": {},
   "source": [
    "Our feature matrix has 2,213 postings and 1,107 features, in sparse matrix format:"
   ]
  },
  {
   "cell_type": "code",
   "execution_count": 54,
   "metadata": {},
   "outputs": [
    {
     "data": {
      "text/plain": [
       "<2330x1107 sparse matrix of type '<class 'numpy.float64'>'\n",
       "\twith 64501 stored elements in Compressed Sparse Row format>"
      ]
     },
     "execution_count": 54,
     "metadata": {},
     "output_type": "execute_result"
    }
   ],
   "source": [
    "X_train"
   ]
  },
  {
   "cell_type": "markdown",
   "metadata": {},
   "source": [
    "For sparse matrices, the `TruncatedSVD` class will perform PCA much, much faster than the regular `PCA` class:"
   ]
  },
  {
   "cell_type": "code",
   "execution_count": 55,
   "metadata": {},
   "outputs": [],
   "source": [
    "svd = TruncatedSVD(n_components=500)"
   ]
  },
  {
   "cell_type": "code",
   "execution_count": 56,
   "metadata": {},
   "outputs": [
    {
     "data": {
      "text/plain": [
       "(2330, 500)"
      ]
     },
     "execution_count": 56,
     "metadata": {},
     "output_type": "execute_result"
    }
   ],
   "source": [
    "X_train_trans = svd.fit_transform(X_train)\n",
    "X_train_trans.shape"
   ]
  },
  {
   "cell_type": "code",
   "execution_count": 57,
   "metadata": {},
   "outputs": [
    {
     "data": {
      "text/plain": [
       "0.81466775775682465"
      ]
     },
     "execution_count": 57,
     "metadata": {},
     "output_type": "execute_result"
    }
   ],
   "source": [
    "svd.explained_variance_ratio_.sum()"
   ]
  },
  {
   "cell_type": "markdown",
   "metadata": {},
   "source": [
    "Let's look for four clusters in the reduced dimensionality space:"
   ]
  },
  {
   "cell_type": "code",
   "execution_count": 58,
   "metadata": {},
   "outputs": [
    {
     "data": {
      "text/plain": [
       "MiniBatchKMeans(batch_size=1000, compute_labels=True, init='k-means++',\n",
       "        init_size=1000, max_iter=1000, max_no_improvement=10, n_clusters=4,\n",
       "        n_init=500, random_state=None, reassignment_ratio=0.01, tol=0.0,\n",
       "        verbose=0)"
      ]
     },
     "execution_count": 58,
     "metadata": {},
     "output_type": "execute_result"
    }
   ],
   "source": [
    "kmeans = MiniBatchKMeans(n_clusters=4, init_size=1000, batch_size=1000, init='k-means++', n_init=500, max_iter=1000)\n",
    "#kmeans = KMeans(n_clusters=4, init='k-means++', n_init=100, max_iter=1000)\n",
    "kmeans.fit(X_train)"
   ]
  },
  {
   "cell_type": "code",
   "execution_count": 59,
   "metadata": {},
   "outputs": [
    {
     "data": {
      "text/plain": [
       "array([3, 1, 1, ..., 1, 3, 1], dtype=int32)"
      ]
     },
     "execution_count": 59,
     "metadata": {},
     "output_type": "execute_result"
    }
   ],
   "source": [
    "kmeans.labels_"
   ]
  },
  {
   "cell_type": "code",
   "execution_count": 60,
   "metadata": {},
   "outputs": [
    {
     "data": {
      "text/plain": [
       "array([7, 4, 4, ..., 3, 1, 8])"
      ]
     },
     "execution_count": 60,
     "metadata": {},
     "output_type": "execute_result"
    }
   ],
   "source": [
    "data_train.target"
   ]
  },
  {
   "cell_type": "code",
   "execution_count": 61,
   "metadata": {},
   "outputs": [
    {
     "data": {
      "text/html": [
       "<div>\n",
       "<style>\n",
       "    .dataframe thead tr:only-child th {\n",
       "        text-align: right;\n",
       "    }\n",
       "\n",
       "    .dataframe thead th {\n",
       "        text-align: left;\n",
       "    }\n",
       "\n",
       "    .dataframe tbody tr th {\n",
       "        vertical-align: top;\n",
       "    }\n",
       "</style>\n",
       "<table border=\"1\" class=\"dataframe\">\n",
       "  <thead>\n",
       "    <tr style=\"text-align: right;\">\n",
       "      <th>Predicted</th>\n",
       "      <th>0</th>\n",
       "      <th>1</th>\n",
       "      <th>2</th>\n",
       "      <th>3</th>\n",
       "    </tr>\n",
       "    <tr>\n",
       "      <th>True</th>\n",
       "      <th></th>\n",
       "      <th></th>\n",
       "      <th></th>\n",
       "      <th></th>\n",
       "    </tr>\n",
       "  </thead>\n",
       "  <tbody>\n",
       "    <tr>\n",
       "      <th>7</th>\n",
       "      <td>30</td>\n",
       "      <td>306</td>\n",
       "      <td>0</td>\n",
       "      <td>258</td>\n",
       "    </tr>\n",
       "    <tr>\n",
       "      <th>9</th>\n",
       "      <td>459</td>\n",
       "      <td>138</td>\n",
       "      <td>0</td>\n",
       "      <td>0</td>\n",
       "    </tr>\n",
       "    <tr>\n",
       "      <th>14</th>\n",
       "      <td>44</td>\n",
       "      <td>326</td>\n",
       "      <td>221</td>\n",
       "      <td>2</td>\n",
       "    </tr>\n",
       "    <tr>\n",
       "      <th>16</th>\n",
       "      <td>10</td>\n",
       "      <td>532</td>\n",
       "      <td>3</td>\n",
       "      <td>1</td>\n",
       "    </tr>\n",
       "  </tbody>\n",
       "</table>\n",
       "</div>"
      ],
      "text/plain": [
       "Predicted    0    1    2    3\n",
       "True                         \n",
       "7           30  306    0  258\n",
       "9          459  138    0    0\n",
       "14          44  326  221    2\n",
       "16          10  532    3    1"
      ]
     },
     "execution_count": 61,
     "metadata": {},
     "output_type": "execute_result"
    }
   ],
   "source": [
    "pd.crosstab(index=targets, columns=kmeans.labels_, rownames=['True'], colnames=['Predicted'])"
   ]
  },
  {
   "cell_type": "markdown",
   "metadata": {},
   "source": [
    "Let's look at the cluster centers, and find the top 10 \"directions\" or terms that correspond to each:"
   ]
  },
  {
   "cell_type": "code",
   "execution_count": 62,
   "metadata": {},
   "outputs": [
    {
     "name": "stdout",
     "output_type": "stream",
     "text": [
      "Cluster 0:\n",
      " year\n",
      " team\n",
      " think\n",
      " game\n",
      " just\n",
      " good\n",
      " baseball\n",
      " games\n",
      " like\n",
      " time\n",
      "Cluster 1:\n",
      " people\n",
      " gun\n",
      " don\n",
      " like\n",
      " just\n",
      " right\n",
      " make\n",
      " guns\n",
      " think\n",
      " know\n",
      "Cluster 2:\n",
      " space\n",
      " nasa\n",
      " launch\n",
      " shuttle\n",
      " moon\n",
      " orbit\n",
      " earth\n",
      " lunar\n",
      " data\n",
      " station\n",
      "Cluster 3:\n",
      " car\n",
      " cars\n",
      " engine\n",
      " like\n",
      " price\n",
      " new\n",
      " dealer\n",
      " good\n",
      " just\n",
      " thanks\n"
     ]
    }
   ],
   "source": [
    "centroids = kmeans.cluster_centers_.argsort()[:, ::-1]\n",
    "terms = vectorizer.get_feature_names()\n",
    "for i in range(4):\n",
    "    print(\"Cluster %d:\" % i)\n",
    "    for ind in centroids[i, :10]:\n",
    "        print(' %s' % terms[ind])"
   ]
  },
  {
   "cell_type": "code",
   "execution_count": null,
   "metadata": {},
   "outputs": [],
   "source": []
  }
 ],
 "metadata": {
  "kernelspec": {
   "display_name": "Python 3",
   "language": "python",
   "name": "python3"
  },
  "language_info": {
   "codemirror_mode": {
    "name": "ipython",
    "version": 3
   },
   "file_extension": ".py",
   "mimetype": "text/x-python",
   "name": "python",
   "nbconvert_exporter": "python",
   "pygments_lexer": "ipython3",
   "version": "3.6.2"
  },
  "widgets": {
   "state": {},
   "version": "1.1.2"
  }
 },
 "nbformat": 4,
 "nbformat_minor": 1
}
