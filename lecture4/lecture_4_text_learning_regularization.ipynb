{
 "cells": [
  {
   "cell_type": "markdown",
   "metadata": {},
   "source": [
    "# Lecture 4: Text and High-Dimensional Learning\n",
    "\n",
    "Machine learning in high dimensions can be challenging, most notably because of the risk of overfitting.  Many of the datasets we work with in this class are already \"vectorized\", or set up so that the features are represented in vectors (aka rows in a matrix), but in this example we'll use text data.  Text data has to be explicitly vectorized, and when you vectorize it, it tends to be extremely high-dimensional because each word becomes a feature in the vector and there are usually hundreds or thousands of possible words in a corpus (a \"corpus\" is a body of many documents)."
   ]
  },
  {
   "cell_type": "code",
   "execution_count": 99,
   "metadata": {
    "collapsed": true
   },
   "outputs": [],
   "source": [
    "%matplotlib inline"
   ]
  },
  {
   "cell_type": "code",
   "execution_count": 106,
   "metadata": {
    "collapsed": true
   },
   "outputs": [],
   "source": [
    "import numpy as np\n",
    "import matplotlib.pyplot as plt\n",
    "import seaborn as sns\n",
    "\n",
    "import sklearn.datasets\n",
    "from sklearn.feature_extraction.text import CountVectorizer\n",
    "from sklearn.feature_extraction.text import TfidfVectorizer\n",
    "from sklearn.linear_model import LogisticRegression\n",
    "\n",
    "from sklearn.model_selection import cross_val_score"
   ]
  },
  {
   "cell_type": "markdown",
   "metadata": {},
   "source": [
    "The \"20 Newsgroups\" dataset is a corpus of documents that are classified by topic; there are 20 topics (read more about them [here](http://qwone.com/~jason/20Newsgroups/)) but we will just pull out two topics and build a classifier to discriminate between them."
   ]
  },
  {
   "cell_type": "code",
   "execution_count": 65,
   "metadata": {
    "collapsed": true
   },
   "outputs": [],
   "source": [
    "data = sklearn.datasets.fetch_20newsgroups(\n",
    "    categories = [\n",
    "    'alt.atheism',\n",
    "    'talk.religion.misc'], subset='train')"
   ]
  },
  {
   "cell_type": "code",
   "execution_count": 9,
   "metadata": {},
   "outputs": [
    {
     "data": {
      "text/plain": [
       "857"
      ]
     },
     "execution_count": 9,
     "metadata": {},
     "output_type": "execute_result"
    }
   ],
   "source": [
    "len(data.data)  # how many documents are there"
   ]
  },
  {
   "cell_type": "code",
   "execution_count": 5,
   "metadata": {},
   "outputs": [
    {
     "data": {
      "text/plain": [
       "['alt.atheism', 'talk.religion.misc']"
      ]
     },
     "execution_count": 5,
     "metadata": {},
     "output_type": "execute_result"
    }
   ],
   "source": [
    "data.target_names # quick check: what labels are present"
   ]
  },
  {
   "cell_type": "code",
   "execution_count": 14,
   "metadata": {},
   "outputs": [
    {
     "data": {
      "text/plain": [
       "\"From: kv07@IASTATE.EDU (Warren Vonroeschlaub)\\nSubject: Re: Albert Sabin\\nReply-To: kv07@IASTATE.EDU (Warren Vonroeschlaub)\\nOrganization: Ministry of Silly Walks\\nLines: 30\\n\\nIn article <1993Apr15.225657.17804@rambo.atlanta.dg.com>, wpr@atlanta.dg.com\\n(Bill Rawlins) writes:\\n>       Since you have referred to the Messiah, I assume you are referring\\n>        to the New Testament.  Please detail your complaints or e-mail if\\n>        you don't want to post.  First-century Greek is well-known and\\n>        well-understood.  Have you considered Josephus, the Jewish Historian,\\n>        who also wrote of Jesus?  In addition, the four gospel accounts\\n>        are very much in harmony.  \\n\\n  Bill, I find it rather remarkable that you managed to zero in on what is\\nprobably the weakest evidence.\\n\\n  What is probably the most convincing is the anti-Christian literature put out\\nby the Jewish councils in the second century.  There are enormous quantities of\\ndetailed arguments against Christianity, many of the arguments still being used\\ntoday.  Despite volumes of tracts attacking Christianity, not one denies the\\nexistance of Jesus, only of his activities.\\n\\n  I find this considerably more compelling than Josephus or the harmony of the\\ngospels (especially considering that Matthew and Luke probably used Mark as a\\nsource).\\n\\n |  __L__\\n-|-  ___  Warren Kurt vonRoeschlaub\\n |  | o | kv07@iastate.edu\\n |/ `---' Iowa State University\\n/|   ___  Math Department\\n |  |___| 400 Carver Hall\\n |  |___| Ames, IA  50011\\n J  _____\\n\""
      ]
     },
     "execution_count": 14,
     "metadata": {},
     "output_type": "execute_result"
    }
   ],
   "source": [
    "data.data[100] # let's look at a random document"
   ]
  },
  {
   "cell_type": "code",
   "execution_count": 66,
   "metadata": {},
   "outputs": [
    {
     "data": {
      "text/plain": [
       "1"
      ]
     },
     "execution_count": 66,
     "metadata": {},
     "output_type": "execute_result"
    }
   ],
   "source": [
    "data.target[100]  # and what was the corresponding label?"
   ]
  },
  {
   "cell_type": "markdown",
   "metadata": {},
   "source": [
    "Check the class balance.  A quick way to do this with binary problems, where all the target labels are encoded as 0 or 1, is to take the average of the list of the targets.  We're rounding the result for readability, otherwise it often stretches out for many digits."
   ]
  },
  {
   "cell_type": "code",
   "execution_count": 67,
   "metadata": {},
   "outputs": [
    {
     "data": {
      "text/plain": [
       "0.44"
      ]
     },
     "execution_count": 67,
     "metadata": {},
     "output_type": "execute_result"
    }
   ],
   "source": [
    "round(sum(data.target)/len(data.target),3)"
   ]
  },
  {
   "cell_type": "markdown",
   "metadata": {},
   "source": [
    "The dataset is 44% zeroes (articles on atheism) and 56% ones (articles on religion). Probably not a situation where we have to worry about imbalanced learning."
   ]
  },
  {
   "cell_type": "markdown",
   "metadata": {},
   "source": [
    "## Vectorization and learning\n",
    "\n",
    "Scikit-learn has a number of modules specialized for learning on text data.  A full treatment of text learning is beyond the scope of this course, but we'll use some of the most common tools.\n",
    "\n",
    "First up is `CountVectorizer()`, which is also commonly called a bag-of-words representation.  The vectorizer learns one feature for each word in the total vocabulary of the corpus and then one-hot encodes each document so that you get a matrix of `n_words` width by `n_documents` length.\n",
    "\n",
    "The `CountVectorizer()` we see here is a special type of scikit-learn object called a transformer.  Transformers are meant to change the representation of data, but do not themselves generally do \"machine learning\" proper.  Examples of transformers include PCA, SelectKBest, and CountVectorizer.  Besides transformers, the other main type of scikit-learn object is the estimator, which is a class of objects that includes most familiar supervised learning algorithms like LogisticRegression, DecisionTreeClassifier, and SVC (support vector classifier)."
   ]
  },
  {
   "cell_type": "code",
   "execution_count": 68,
   "metadata": {},
   "outputs": [],
   "source": [
    "bag_of_words = CountVectorizer()\n",
    "vect_data = bag_of_words.fit_transform(data.data)"
   ]
  },
  {
   "cell_type": "code",
   "execution_count": 24,
   "metadata": {},
   "outputs": [
    {
     "data": {
      "text/plain": [
       "18089"
      ]
     },
     "execution_count": 24,
     "metadata": {},
     "output_type": "execute_result"
    }
   ],
   "source": [
    "len(list(bag_of_words.vocabulary_.keys()))  # how big is the vocabulary?"
   ]
  },
  {
   "cell_type": "code",
   "execution_count": 92,
   "metadata": {},
   "outputs": [
    {
     "name": "stdout",
     "output_type": "stream",
     "text": [
      "[[ 0.  0.  0. ...,  0.  0.  0.]]\n"
     ]
    }
   ],
   "source": [
    "print(vect_data[100].toarray()) # can we see the words for document 100?"
   ]
  },
  {
   "cell_type": "code",
   "execution_count": 61,
   "metadata": {
    "collapsed": true
   },
   "outputs": [],
   "source": [
    "clf = LogisticRegression(C=1e5)  # build a logistic regression with regularization turned off"
   ]
  },
  {
   "cell_type": "markdown",
   "metadata": {},
   "source": [
    "In general, it's best to do proper cross-validation using scikit-learn's [KFold()](http://scikit-learn.org/stable/modules/generated/sklearn.model_selection.KFold.html) class, but as a shortcut during development I often use [cross_val_score](http://scikit-learn.org/stable/modules/generated/sklearn.model_selection.cross_val_score.html) as a shortcut.  This function takes your estimator (in this case, the `LogisticRegression` object), the training data, and optionally parameters for the number of folds and the [scoring function](http://scikit-learn.org/stable/modules/model_evaluation.html#scoring-parameter)."
   ]
  },
  {
   "cell_type": "code",
   "execution_count": 73,
   "metadata": {},
   "outputs": [
    {
     "name": "stdout",
     "output_type": "stream",
     "text": [
      "[ 0.97058532  0.9734127   0.96405   ]\n"
     ]
    }
   ],
   "source": [
    "print(cross_val_score(clf, vect_data, data.target, scoring='roc_auc'))"
   ]
  },
  {
   "cell_type": "code",
   "execution_count": 74,
   "metadata": {},
   "outputs": [
    {
     "data": {
      "text/plain": [
       "18089"
      ]
     },
     "execution_count": 74,
     "metadata": {},
     "output_type": "execute_result"
    }
   ],
   "source": [
    "clf.fit(vect_data, data.target)\n",
    "len(clf.coef_[0]) # once we've fit the classifier, we can get the coefficients back"
   ]
  },
  {
   "cell_type": "code",
   "execution_count": 64,
   "metadata": {},
   "outputs": [
    {
     "data": {
      "text/plain": [
       "array([ 0.05742861, -0.27298711, -0.00440943,  0.00417554, -0.00241909,\n",
       "       -0.0048393 ,  0.00209659, -0.21381893, -0.08680643, -0.00457778])"
      ]
     },
     "execution_count": 64,
     "metadata": {},
     "output_type": "execute_result"
    }
   ],
   "source": [
    "clf.coef_[0][:10]  # and we can inspect the values of some coefficients"
   ]
  },
  {
   "cell_type": "markdown",
   "metadata": {},
   "source": [
    "Now we'll turn on the regularization in `LogisticRegression` by turning the C value (which is inversely related to the regularization strength) to a lower value.  As it turns out, we already had a pretty good model and this won't help us out, but it's good to see the effect on the coefficients of the model (they get smaller)."
   ]
  },
  {
   "cell_type": "code",
   "execution_count": 96,
   "metadata": {},
   "outputs": [
    {
     "name": "stdout",
     "output_type": "stream",
     "text": [
      "[ 0.87331349  0.88050595  0.8741    ]\n"
     ]
    }
   ],
   "source": [
    "clf2 = LogisticRegression(C=0.001)\n",
    "print(cross_val_score(clf2, vect_data, data.target, scoring='roc_auc'))"
   ]
  },
  {
   "cell_type": "code",
   "execution_count": 76,
   "metadata": {},
   "outputs": [
    {
     "data": {
      "text/plain": [
       "18089"
      ]
     },
     "execution_count": 76,
     "metadata": {},
     "output_type": "execute_result"
    }
   ],
   "source": [
    "clf2.fit(vect_data, data.target)\n",
    "len(clf2.coef_[0])"
   ]
  },
  {
   "cell_type": "code",
   "execution_count": 77,
   "metadata": {},
   "outputs": [
    {
     "data": {
      "text/plain": [
       "array([ 0.00106547, -0.00608696,  0.0005937 ,  0.00035632, -0.00020432,\n",
       "       -0.00037431,  0.0002758 , -0.00122118, -0.00127799, -0.00025323])"
      ]
     },
     "execution_count": 77,
     "metadata": {},
     "output_type": "execute_result"
    }
   ],
   "source": [
    "clf2.coef_[0][:10]  #smaller coefficients than before"
   ]
  },
  {
   "cell_type": "markdown",
   "metadata": {},
   "source": [
    "A second way to vectorize the text is using a [TF-IDF transformer](http://scikit-learn.org/stable/modules/generated/sklearn.feature_extraction.text.TfidfVectorizer.html).  Where the CountVectorizer simply counted up the number of times each word occurs in each document, a TF-IDF vectorizer weights each word by the term frequency (TF), aka how often each word occurs in a given document, and by the inverse document frequency (IDF), aka how rarely each word occurs in the corpus as a whole.  The goal is to up-weight words that are rare, because they probably are more indicative of interesting content than more common words."
   ]
  },
  {
   "cell_type": "code",
   "execution_count": 94,
   "metadata": {},
   "outputs": [],
   "source": [
    "tf_idf = TfidfVectorizer()\n",
    "vect_data = tf_idf.fit_transform(data.data)"
   ]
  },
  {
   "cell_type": "code",
   "execution_count": 95,
   "metadata": {},
   "outputs": [
    {
     "data": {
      "text/plain": [
       "18089"
      ]
     },
     "execution_count": 95,
     "metadata": {},
     "output_type": "execute_result"
    }
   ],
   "source": [
    "len(list(tf_idf.vocabulary_.keys()))  # same size of vocabulary"
   ]
  },
  {
   "cell_type": "code",
   "execution_count": 98,
   "metadata": {},
   "outputs": [
    {
     "name": "stdout",
     "output_type": "stream",
     "text": [
      "[ 0.98303571  0.98546627  0.9792    ]\n"
     ]
    }
   ],
   "source": [
    "clf3 = LogisticRegression(C=1e5)\n",
    "print(cross_val_score(clf3, vect_data, data.target, scoring='roc_auc'))"
   ]
  },
  {
   "cell_type": "markdown",
   "metadata": {},
   "source": [
    "Interesting.  It looks like our un-regularized classifier is doing a *bit* better with the TF-IDF representation.  To know for sure, we would probably want to run each one several hundred times and histogram the ROC AUC values, to smooth out any noise."
   ]
  },
  {
   "cell_type": "markdown",
   "metadata": {},
   "source": [
    "# Visualizing the coeffients as the regularization changes\n",
    "\n",
    "Last, we'll look at several different values of the regularization parameter C, and how the logistic regression coefficients change."
   ]
  },
  {
   "cell_type": "code",
   "execution_count": 116,
   "metadata": {},
   "outputs": [
    {
     "data": {
      "image/png": "[encoded data removed]",
      "text/plain": [
       "<matplotlib.figure.Figure at 0x10d2f89b0>"
      ]
     },
     "metadata": {},
     "output_type": "display_data"
    }
   ],
   "source": [
    "n_alphas = 20\n",
    "alphas = np.logspace(-5, 5, n_alphas)\n",
    "\n",
    "coefs = []\n",
    "for c in alphas:\n",
    "    clf = LogisticRegression(C=c, penalty='l2')\n",
    "    clf.fit(vect_data, data.target)\n",
    "    coefs.append(clf.coef_[0][:10])\n",
    "    \n",
    "ax = plt.gca()\n",
    "\n",
    "ax.plot(alphas, coefs)\n",
    "ax.set_xscale('log')\n",
    "ax.set_xlim(ax.get_xlim()[::-1])  # reverse axis\n",
    "plt.xlabel('C')\n",
    "plt.ylabel('weights')\n",
    "plt.title('Ridge coefficients as a function of the regularization')\n",
    "plt.axis('tight')\n",
    "plt.show()"
   ]
  },
  {
   "cell_type": "code",
   "execution_count": null,
   "metadata": {
    "collapsed": true
   },
   "outputs": [],
   "source": []
  }
 ],
 "metadata": {
  "kernelspec": {
   "display_name": "Python 3",
   "language": "python",
   "name": "python3"
  },
  "language_info": {
   "codemirror_mode": {
    "name": "ipython",
    "version": 3
   },
   "file_extension": ".py",
   "mimetype": "text/x-python",
   "name": "python",
   "nbconvert_exporter": "python",
   "pygments_lexer": "ipython3",
   "version": "3.6.2"
  },
  "widgets": {
   "state": {},
   "version": "1.1.2"
  }
 },
 "nbformat": 4,
 "nbformat_minor": 2
}
