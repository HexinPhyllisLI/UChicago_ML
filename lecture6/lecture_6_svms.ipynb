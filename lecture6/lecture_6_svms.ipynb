{
 "cells": [
  {
   "cell_type": "markdown",
   "metadata": {},
   "source": [
    "# Lecture 6: Support Vector Machines"
   ]
  },
  {
   "cell_type": "markdown",
   "metadata": {},
   "source": [
    "The scikit-learn documentation has a nice write-up of support vector machines [here](http://scikit-learn.org/stable/modules/svm.html).  There are three different implementations: [SVC](http://scikit-learn.org/stable/modules/generated/sklearn.svm.SVC.html#sklearn.svm.SVC), which is the main one that we'll use, [NuSVC](http://scikit-learn.org/stable/modules/generated/sklearn.svm.NuSVC.html#sklearn.svm.NuSVC), which is a slightly different formulation, and [LinearSVC](http://scikit-learn.org/stable/modules/generated/sklearn.svm.LinearSVC.html#sklearn.svm.LinearSVC), which only supports linear kernels but is faster on large datasets.  "
   ]
  },
  {
   "cell_type": "code",
   "execution_count": 1,
   "metadata": {},
   "outputs": [],
   "source": [
    "%matplotlib inline"
   ]
  },
  {
   "cell_type": "code",
   "execution_count": 2,
   "metadata": {},
   "outputs": [
    {
     "name": "stderr",
     "output_type": "stream",
     "text": [
      "/Users/civisemployee/anaconda3/envs/civis/lib/python3.6/site-packages/sklearn/cross_validation.py:44: DeprecationWarning: This module was deprecated in version 0.18 in favor of the model_selection module into which all the refactored classes and functions are moved. Also note that the interface of the new CV iterators are different from that of this module. This module will be removed in 0.20.\n",
      "  \"This module will be removed in 0.20.\", DeprecationWarning)\n",
      "/Users/civisemployee/anaconda3/envs/civis/lib/python3.6/site-packages/sklearn/grid_search.py:43: DeprecationWarning: This module was deprecated in version 0.18 in favor of the model_selection module into which all the refactored classes and functions are moved. This module will be removed in 0.20.\n",
      "  DeprecationWarning)\n"
     ]
    }
   ],
   "source": [
    "import numpy as np\n",
    "import pandas as pd\n",
    "import matplotlib.pyplot as plt\n",
    "# this is a new import\n",
    "from sklearn.svm import SVC, LinearSVC\n",
    "from sklearn.metrics import confusion_matrix, accuracy_score, classification_report, roc_curve, roc_auc_score\n",
    "from sklearn.cross_validation import train_test_split\n",
    "from sklearn import datasets\n",
    "import seaborn as sns\n",
    "from sklearn.grid_search import GridSearchCV"
   ]
  },
  {
   "cell_type": "markdown",
   "metadata": {},
   "source": [
    "We're going to work with the by-now-nauseatingly-familiar iris dataset.  We'll build a binary model to predict species 2 vs species 3, using the first two features only, so that we can visualize it."
   ]
  },
  {
   "cell_type": "code",
   "execution_count": 3,
   "metadata": {},
   "outputs": [],
   "source": [
    "iris = datasets.load_iris()\n",
    "\n",
    "X = iris.data\n",
    "y = iris.target\n",
    "\n",
    "\n",
    "X = X[y != 0, :2]\n",
    "y = y[y != 0]"
   ]
  },
  {
   "cell_type": "code",
   "execution_count": 4,
   "metadata": {},
   "outputs": [],
   "source": [
    "X_train, X_test, y_train, y_test = train_test_split(X, y, train_size=0.9)"
   ]
  },
  {
   "cell_type": "markdown",
   "metadata": {},
   "source": [
    "Let's define a function that will train an SVM with a given kernel and a given value of the `C` and `gamma` parameters.  The function will return the trained model, the test predictions, and the test distances from the hyperplane."
   ]
  },
  {
   "cell_type": "code",
   "execution_count": 8,
   "metadata": {},
   "outputs": [],
   "source": [
    "def train_svm(kernel=\"linear\", C=1.0, gamma=0.1):\n",
    "\n",
    "    svm = SVC(kernel=kernel, degree=4, C=C, gamma=gamma)\n",
    "    svm.fit(X_train, y_train)\n",
    "\n",
    "    # predict on the test set\n",
    "    y_preds = svm.predict(X_test)\n",
    "    # get the distances from the hyperplane, the sign of which\n",
    "    # is the prediction above\n",
    "    y_dists = svm.decision_function(X_test)\n",
    "    \n",
    "    return (svm, y_preds, y_dists)"
   ]
  },
  {
   "cell_type": "markdown",
   "metadata": {},
   "source": [
    "Let's define a function that will take a trained SVM and plot the 2-dimensional decision function, along with the training and test points."
   ]
  },
  {
   "cell_type": "code",
   "execution_count": 9,
   "metadata": {},
   "outputs": [],
   "source": [
    "def plot_svm(svm, X, X_test):\n",
    "\n",
    "    # plot all of the data points\n",
    "    plt.scatter(X[:, 0], X[:, 1], c=y, zorder=10, cmap=plt.cm.Paired)\n",
    "    # put an extra circle on top of the test points\n",
    "    plt.scatter(X_test[:, 0], X_test[:, 1], s=80, facecolors='none', zorder=10)\n",
    "\n",
    "    # step size of the mesh\n",
    "    h = 0.01\n",
    "    # range of the mesh\n",
    "    x_min, x_max = X[:, 0].min() - .5, X[:, 0].max() + .5\n",
    "    y_min, y_max = X[:, 1].min() - .5, X[:, 1].max() + .5\n",
    "    xx, yy = np.meshgrid(np.arange(x_min, x_max, h), np.arange(y_min, y_max, h))\n",
    "\n",
    "    z = svm.decision_function(np.column_stack((xx.ravel(), yy.ravel())))\n",
    "\n",
    "    z = z.reshape(xx.shape)\n",
    "    plt.pcolormesh(xx, yy, z > 0, cmap=plt.cm.Paired)\n",
    "    # this will plot the contour lines of the decision function\n",
    "    plt.contour(xx, yy, z, colors=['k', 'k', 'k'], linestyles=['--', '-', '--'],\n",
    "    levels=[-.5, 0, .5])\n",
    "\n",
    "    plt.show()"
   ]
  },
  {
   "cell_type": "markdown",
   "metadata": {},
   "source": [
    "First we'll train a linear SVM."
   ]
  },
  {
   "cell_type": "code",
   "execution_count": 10,
   "metadata": {},
   "outputs": [],
   "source": [
    "svm_linear, y_preds_linear, y_dists_linear = train_svm(\"linear\", C=1.0)"
   ]
  },
  {
   "cell_type": "code",
   "execution_count": 11,
   "metadata": {},
   "outputs": [
    {
     "data": {
      "text/plain": [
       "array([1, 1, 2, 1, 1, 1, 1, 1, 1, 1])"
      ]
     },
     "execution_count": 11,
     "metadata": {},
     "output_type": "execute_result"
    }
   ],
   "source": [
    "y_preds_linear"
   ]
  },
  {
   "cell_type": "code",
   "execution_count": 12,
   "metadata": {},
   "outputs": [
    {
     "data": {
      "text/plain": [
       "array([-0.32954198, -0.27169575,  2.22569441, -0.47985   , -1.06923634,\n",
       "       -2.537701  , -0.54908114, -2.47985477, -0.96538964, -1.45092927])"
      ]
     },
     "execution_count": 12,
     "metadata": {},
     "output_type": "execute_result"
    }
   ],
   "source": [
    "y_dists_linear"
   ]
  },
  {
   "cell_type": "markdown",
   "metadata": {},
   "source": [
    "We can see how many support vectors there are.  That is, how many points are on or inside of the margin.  This will return the number of support vectors of each class:"
   ]
  },
  {
   "cell_type": "code",
   "execution_count": 13,
   "metadata": {},
   "outputs": [
    {
     "data": {
      "text/plain": [
       "array([31, 31], dtype=int32)"
      ]
     },
     "execution_count": 13,
     "metadata": {},
     "output_type": "execute_result"
    }
   ],
   "source": [
    "svm_linear.n_support_"
   ]
  },
  {
   "cell_type": "code",
   "execution_count": 14,
   "metadata": {},
   "outputs": [
    {
     "data": {
      "text/plain": [
       "array([ 0,  2,  3,  4, 14, 15, 18, 19, 20, 22, 27, 28, 29, 30, 37, 38, 44,\n",
       "       45, 48, 54, 55, 58, 65, 67, 74, 75, 77, 78, 79, 81, 88,  1,  6,  7,\n",
       "        8,  9, 11, 12, 13, 16, 24, 25, 32, 34, 36, 40, 41, 46, 49, 51, 53,\n",
       "       59, 60, 63, 64, 66, 69, 70, 71, 82, 84, 85], dtype=int32)"
      ]
     },
     "execution_count": 14,
     "metadata": {},
     "output_type": "execute_result"
    }
   ],
   "source": [
    "# indices of the support vectors\n",
    "svm_linear.support_"
   ]
  },
  {
   "cell_type": "code",
   "execution_count": 15,
   "metadata": {},
   "outputs": [
    {
     "data": {
      "text/plain": [
       "array([[ 6.6,  3. ],\n",
       "       [ 6.3,  3.3],\n",
       "       [ 6.6,  2.9],\n",
       "       [ 6. ,  3.4],\n",
       "       [ 5.8,  2.7]])"
      ]
     },
     "execution_count": 15,
     "metadata": {},
     "output_type": "execute_result"
    }
   ],
   "source": [
    "# the vectors themselves\n",
    "svm_linear.support_vectors_[0:5]"
   ]
  },
  {
   "cell_type": "code",
   "execution_count": 13,
   "metadata": {},
   "outputs": [
    {
     "data": {
      "image/png": "[encoded data removed]",
      "text/plain": [
       "<matplotlib.figure.Figure at 0x10ed20f50>"
      ]
     },
     "metadata": {},
     "output_type": "display_data"
    }
   ],
   "source": [
    "svm_linear, y_preds_linear, y_dists_linear = train_svm(\"linear\", C=1.0)\n",
    "plot_svm(svm_linear, X, X_test)"
   ]
  },
  {
   "cell_type": "markdown",
   "metadata": {},
   "source": [
    "Let's try increasing the C parameter, which is the opposite of how ISLR defines it.  In ISLR, C is the budget for how many points are allowed to violate the margin.  So larger C means more violations are allowed.  In scikit-learn, it's the opposite."
   ]
  },
  {
   "cell_type": "code",
   "execution_count": 16,
   "metadata": {},
   "outputs": [
    {
     "data": {
      "image/png": "[encoded data removed]",
      "text/plain": [
       "<matplotlib.figure.Figure at 0x1191116a0>"
      ]
     },
     "metadata": {},
     "output_type": "display_data"
    }
   ],
   "source": [
    "# C is the inverse of how ISLR defines it\n",
    "svm_linear, y_preds_linear, y_dists_linear = train_svm(\"linear\", C=1)\n",
    "plot_svm(svm_linear, X, X_test)"
   ]
  },
  {
   "cell_type": "code",
   "execution_count": 17,
   "metadata": {},
   "outputs": [
    {
     "data": {
      "text/plain": [
       "GridSearchCV(cv=5, error_score='raise',\n",
       "       estimator=SVC(C=1.0, cache_size=200, class_weight=None, coef0=0.0,\n",
       "  decision_function_shape=None, degree=3, gamma='auto', kernel='linear',\n",
       "  max_iter=-1, probability=False, random_state=None, shrinking=True,\n",
       "  tol=0.001, verbose=False),\n",
       "       fit_params={}, iid=True, n_jobs=4,\n",
       "       param_grid={'C': [0.001, 0.01, 0.1, 1, 10, 100, 1000], 'gamma': [0.01, 1, 1.0]},\n",
       "       pre_dispatch='2*n_jobs', refit=True, scoring=None, verbose=0)"
      ]
     },
     "execution_count": 17,
     "metadata": {},
     "output_type": "execute_result"
    }
   ],
   "source": [
    "param_grid = {\"C\":[0.001, 0.01, 0.1, 1, 10, 100, 1000],\n",
    "             'gamma': [0.01, 1, 1.0]}\n",
    "\n",
    "svm = SVC(kernel=\"linear\")\n",
    "cv = GridSearchCV(svm, param_grid, cv=5, n_jobs=4, refit=True)\n",
    "cv.fit(X_train, y_train)"
   ]
  },
  {
   "cell_type": "code",
   "execution_count": 18,
   "metadata": {},
   "outputs": [
    {
     "data": {
      "text/plain": [
       "[mean: 0.51111, std: 0.01369, params: {'C': 0.001, 'gamma': 0.01},\n",
       " mean: 0.51111, std: 0.01369, params: {'C': 0.001, 'gamma': 1},\n",
       " mean: 0.51111, std: 0.01369, params: {'C': 0.001, 'gamma': 1.0},\n",
       " mean: 0.51111, std: 0.01369, params: {'C': 0.01, 'gamma': 0.01},\n",
       " mean: 0.51111, std: 0.01369, params: {'C': 0.01, 'gamma': 1},\n",
       " mean: 0.51111, std: 0.01369, params: {'C': 0.01, 'gamma': 1.0},\n",
       " mean: 0.72222, std: 0.11535, params: {'C': 0.1, 'gamma': 0.01},\n",
       " mean: 0.72222, std: 0.11535, params: {'C': 0.1, 'gamma': 1},\n",
       " mean: 0.72222, std: 0.11535, params: {'C': 0.1, 'gamma': 1.0},\n",
       " mean: 0.70000, std: 0.12018, params: {'C': 1, 'gamma': 0.01},\n",
       " mean: 0.70000, std: 0.12018, params: {'C': 1, 'gamma': 1},\n",
       " mean: 0.70000, std: 0.12018, params: {'C': 1, 'gamma': 1.0},\n",
       " mean: 0.70000, std: 0.12018, params: {'C': 10, 'gamma': 0.01},\n",
       " mean: 0.70000, std: 0.12018, params: {'C': 10, 'gamma': 1},\n",
       " mean: 0.70000, std: 0.12018, params: {'C': 10, 'gamma': 1.0},\n",
       " mean: 0.70000, std: 0.12018, params: {'C': 100, 'gamma': 0.01},\n",
       " mean: 0.70000, std: 0.12018, params: {'C': 100, 'gamma': 1},\n",
       " mean: 0.70000, std: 0.12018, params: {'C': 100, 'gamma': 1.0},\n",
       " mean: 0.70000, std: 0.12018, params: {'C': 1000, 'gamma': 0.01},\n",
       " mean: 0.70000, std: 0.12018, params: {'C': 1000, 'gamma': 1},\n",
       " mean: 0.70000, std: 0.12018, params: {'C': 1000, 'gamma': 1.0}]"
      ]
     },
     "execution_count": 18,
     "metadata": {},
     "output_type": "execute_result"
    }
   ],
   "source": [
    "cv.grid_scores_"
   ]
  },
  {
   "cell_type": "markdown",
   "metadata": {},
   "source": [
    "Let's fit an SVM with a polynomial kernel of degree 2:"
   ]
  },
  {
   "cell_type": "code",
   "execution_count": 19,
   "metadata": {},
   "outputs": [
    {
     "data": {
      "image/png": "[encoded data removed]",
      "text/plain": [
       "<matplotlib.figure.Figure at 0x11c4568d0>"
      ]
     },
     "metadata": {},
     "output_type": "display_data"
    }
   ],
   "source": [
    "svm_poly, y_preds_poly, y_dists_poly = train_svm(\"poly\", C=1.0, gamma=2)\n",
    "plot_svm(svm_poly, X, X_test)"
   ]
  },
  {
   "cell_type": "markdown",
   "metadata": {},
   "source": [
    "Let's fit an SVM with a polynomial kernel of degree 3:"
   ]
  },
  {
   "cell_type": "code",
   "execution_count": 20,
   "metadata": {},
   "outputs": [
    {
     "data": {
      "image/png": "[encoded data removed]",
      "text/plain": [
       "<matplotlib.figure.Figure at 0x11cbd6860>"
      ]
     },
     "metadata": {},
     "output_type": "display_data"
    }
   ],
   "source": [
    "svm_poly, y_preds_poly, y_dists_poly = train_svm(\"poly\", C=1.0, gamma=3)\n",
    "plot_svm(svm_poly, X, X_test)"
   ]
  },
  {
   "cell_type": "markdown",
   "metadata": {},
   "source": [
    "Let's fit an SVM with an RBF kernel:"
   ]
  },
  {
   "cell_type": "code",
   "execution_count": 21,
   "metadata": {},
   "outputs": [
    {
     "data": {
      "image/png": "[encoded data removed]",
      "text/plain": [
       "<matplotlib.figure.Figure at 0x11c46fd68>"
      ]
     },
     "metadata": {},
     "output_type": "display_data"
    }
   ],
   "source": [
    "svm_rbf, y_preds_rbf, y_dists_rbf = train_svm(\"rbf\", C=1.0, gamma=3)\n",
    "plot_svm(svm_rbf, X, X_test)"
   ]
  },
  {
   "cell_type": "markdown",
   "metadata": {},
   "source": [
    "Increasing the parameter of the RBF kernel makes us look at more and more local points, increasing the variance:"
   ]
  },
  {
   "cell_type": "code",
   "execution_count": 18,
   "metadata": {},
   "outputs": [
    {
     "data": {
      "image/png": "[encoded data removed]",
      "text/plain": [
       "<matplotlib.figure.Figure at 0x1125ecd50>"
      ]
     },
     "metadata": {},
     "output_type": "display_data"
    }
   ],
   "source": [
    "svm_rbf, y_preds_rbf, y_dists_rbf = train_svm(\"rbf\", C=1.0, gamma=30)\n",
    "plot_svm(svm_rbf, X, X_test)"
   ]
  },
  {
   "cell_type": "markdown",
   "metadata": {},
   "source": [
    "## Text Classification"
   ]
  },
  {
   "cell_type": "markdown",
   "metadata": {},
   "source": [
    "SVM's are quite ofen used in text classification problems.  Here, we're going to work through an example (a modified version of [this](http://scikit-learn.org/stable/auto_examples/text/document_classification_20newsgroups.html)) using the 20 newsgroups dataset."
   ]
  },
  {
   "cell_type": "code",
   "execution_count": 22,
   "metadata": {},
   "outputs": [],
   "source": [
    "from sklearn.datasets import fetch_20newsgroups\n",
    "from sklearn.feature_extraction.text import CountVectorizer"
   ]
  },
  {
   "cell_type": "markdown",
   "metadata": {},
   "source": [
    "First we'll load the data:"
   ]
  },
  {
   "cell_type": "code",
   "execution_count": 23,
   "metadata": {},
   "outputs": [
    {
     "name": "stderr",
     "output_type": "stream",
     "text": [
      "Downloading dataset from http://people.csail.mit.edu/jrennie/20Newsgroups/20news-bydate.tar.gz (14 MB)\n"
     ]
    }
   ],
   "source": [
    "data_train = fetch_20newsgroups(subset='train', categories=None,\n",
    "                                shuffle=True, random_state=42,\n",
    "                                remove=('headers', 'footers', 'quotes'))\n",
    "\n",
    "data_test = fetch_20newsgroups(subset='test', categories=None,\n",
    "                               shuffle=True, random_state=42,\n",
    "                               remove=('headers', 'footers', 'quotes'))"
   ]
  },
  {
   "cell_type": "code",
   "execution_count": 24,
   "metadata": {},
   "outputs": [
    {
     "data": {
      "text/plain": [
       "dict_keys(['data', 'filenames', 'target_names', 'target', 'DESCR', 'description'])"
      ]
     },
     "execution_count": 24,
     "metadata": {},
     "output_type": "execute_result"
    }
   ],
   "source": [
    "data_train.keys()"
   ]
  },
  {
   "cell_type": "markdown",
   "metadata": {},
   "source": [
    "The data has postings from one of 20 \"newsgroup\" types."
   ]
  },
  {
   "cell_type": "code",
   "execution_count": 25,
   "metadata": {},
   "outputs": [
    {
     "data": {
      "text/plain": [
       "11314"
      ]
     },
     "execution_count": 25,
     "metadata": {},
     "output_type": "execute_result"
    }
   ],
   "source": [
    "len(data_train.data)"
   ]
  },
  {
   "cell_type": "code",
   "execution_count": 27,
   "metadata": {},
   "outputs": [
    {
     "data": {
      "text/plain": [
       "['alt.atheism',\n",
       " 'comp.graphics',\n",
       " 'comp.os.ms-windows.misc',\n",
       " 'comp.sys.ibm.pc.hardware',\n",
       " 'comp.sys.mac.hardware',\n",
       " 'comp.windows.x',\n",
       " 'misc.forsale',\n",
       " 'rec.autos',\n",
       " 'rec.motorcycles',\n",
       " 'rec.sport.baseball',\n",
       " 'rec.sport.hockey',\n",
       " 'sci.crypt',\n",
       " 'sci.electronics',\n",
       " 'sci.med',\n",
       " 'sci.space',\n",
       " 'soc.religion.christian',\n",
       " 'talk.politics.guns',\n",
       " 'talk.politics.mideast',\n",
       " 'talk.politics.misc',\n",
       " 'talk.religion.misc']"
      ]
     },
     "execution_count": 27,
     "metadata": {},
     "output_type": "execute_result"
    }
   ],
   "source": [
    "data_train.target_names"
   ]
  },
  {
   "cell_type": "markdown",
   "metadata": {},
   "source": [
    "The first trainging post comes from the \"rec.autos\" newsgroup:"
   ]
  },
  {
   "cell_type": "code",
   "execution_count": 26,
   "metadata": {},
   "outputs": [
    {
     "data": {
      "text/plain": [
       "'rec.autos'"
      ]
     },
     "execution_count": 26,
     "metadata": {},
     "output_type": "execute_result"
    }
   ],
   "source": [
    "data_train.target_names[data_train.target[0]]"
   ]
  },
  {
   "cell_type": "markdown",
   "metadata": {},
   "source": [
    "And has the following contents:"
   ]
  },
  {
   "cell_type": "code",
   "execution_count": 27,
   "metadata": {},
   "outputs": [
    {
     "data": {
      "text/plain": [
       "'I was wondering if anyone out there could enlighten me on this car I saw\\nthe other day. It was a 2-door sports car, looked to be from the late 60s/\\nearly 70s. It was called a Bricklin. The doors were really small. In addition,\\nthe front bumper was separate from the rest of the body. This is \\nall I know. If anyone can tellme a model name, engine specs, years\\nof production, where this car is made, history, or whatever info you\\nhave on this funky looking car, please e-mail.'"
      ]
     },
     "execution_count": 27,
     "metadata": {},
     "output_type": "execute_result"
    }
   ],
   "source": [
    "data_train.data[0]"
   ]
  },
  {
   "cell_type": "markdown",
   "metadata": {},
   "source": [
    "Let's make a binary target variable to predict whether a given post is in the \"sci.space\" newsgroup:"
   ]
  },
  {
   "cell_type": "code",
   "execution_count": 28,
   "metadata": {},
   "outputs": [],
   "source": [
    "space_target = (data_train.target==14).astype(\"int\")\n",
    "space_target_test = (data_test.target==14).astype(\"int\")"
   ]
  },
  {
   "cell_type": "markdown",
   "metadata": {},
   "source": [
    "One way to turn a blob of text into features or predictors (to \"vectorize\" it) is to simply count up the number of times each word appears."
   ]
  },
  {
   "cell_type": "code",
   "execution_count": 29,
   "metadata": {},
   "outputs": [],
   "source": [
    "vectorizer = CountVectorizer(stop_words='english')\n",
    "X_train = vectorizer.fit_transform(data_train.data)\n",
    "X_test = vectorizer.transform(data_test.data)"
   ]
  },
  {
   "cell_type": "markdown",
   "metadata": {},
   "source": [
    "The features are the number of times each word in the \"vocabulary\" appears in a given post.  Note that, by far, most words won't show up in most posts, so the matrix of predcitors is very \"sparse\"."
   ]
  },
  {
   "cell_type": "code",
   "execution_count": 30,
   "metadata": {},
   "outputs": [
    {
     "data": {
      "text/plain": [
       "101322"
      ]
     },
     "execution_count": 30,
     "metadata": {},
     "output_type": "execute_result"
    }
   ],
   "source": [
    "len(vectorizer.vocabulary_)"
   ]
  },
  {
   "cell_type": "code",
   "execution_count": 31,
   "metadata": {},
   "outputs": [
    {
     "data": {
      "text/plain": [
       "{'wondering': 96879,\n",
       " 'enlighten': 37256,\n",
       " 'car': 25717,\n",
       " 'saw': 80420,\n",
       " 'day': 31927,\n",
       " 'door': 34741,\n",
       " 'sports': 84312,\n",
       " 'looked': 57247,\n",
       " 'late': 55606,\n",
       " '60s': 9843,\n",
       " 'early': 35902,\n",
       " '70s': 11174,\n",
       " 'called': 25437,\n",
       " 'bricklin': 24108,\n",
       " 'doors': 34742,\n",
       " 'really': 76269,\n",
       " 'small': 83208,\n",
       " 'addition': 16806,\n",
       " 'bumper': 24583,\n",
       " 'separate': 81450,\n",
       " 'rest': 77676,\n",
       " 'body': 23430,\n",
       " 'know': 54493,\n",
       " 'tellme': 87913,\n",
       " 'model': 62594,\n",
       " 'engine': 37208,\n",
       " 'specs': 84050,\n",
       " 'years': 99608,\n",
       " 'production': 73174,\n",
       " 'history': 46690,\n",
       " 'info': 49800,\n",
       " 'funky': 41874,\n",
       " 'looking': 57250,\n",
       " 'mail': 59071,\n",
       " 'fair': 39296,\n",
       " 'number': 66680,\n",
       " 'brave': 23973,\n",
       " 'souls': 83779,\n",
       " 'upgraded': 92389,\n",
       " 'si': 82337,\n",
       " 'clock': 27889,\n",
       " 'oscillator': 68519,\n",
       " 'shared': 81848,\n",
       " 'experiences': 38637,\n",
       " 'poll': 72039,\n",
       " 'send': 81378,\n",
       " 'brief': 24125,\n",
       " 'message': 60923,\n",
       " 'detailing': 33127,\n",
       " 'procedure': 73122,\n",
       " 'speed': 84088,\n",
       " 'attained': 20236,\n",
       " 'cpu': 30233,\n",
       " 'rated': 75904,\n",
       " 'add': 16791,\n",
       " 'cards': 25769,\n",
       " 'adapters': 16776,\n",
       " 'heat': 45997,\n",
       " 'sinks': 82666,\n",
       " 'hour': 47310,\n",
       " 'usage': 92588,\n",
       " 'floppy': 40727,\n",
       " 'disk': 34011,\n",
       " 'functionality': 41836,\n",
       " '800': 12266,\n",
       " 'floppies': 40725,\n",
       " 'especially': 37867,\n",
       " 'requested': 77460,\n",
       " 'summarizing': 86076,\n",
       " 'days': 31942,\n",
       " 'network': 65377,\n",
       " 'knowledge': 54504,\n",
       " 'base': 21688,\n",
       " 'upgrade': 92386,\n",
       " 'haven': 45775,\n",
       " 'answered': 18757,\n",
       " 'thanks': 88277,\n",
       " 'folks': 40950,\n",
       " 'mac': 58777,\n",
       " 'plus': 71778,\n",
       " 'finally': 40284,\n",
       " 'gave': 42680,\n",
       " 'ghost': 43239,\n",
       " 'weekend': 95865,\n",
       " 'starting': 84921,\n",
       " 'life': 56530,\n",
       " '512k': 8677,\n",
       " 'way': 95674,\n",
       " '1985': 3483,\n",
       " 'sooo': 83714,\n",
       " 'market': 59552,\n",
       " 'new': 65475,\n",
       " 'machine': 58818,\n",
       " 'bit': 22913,\n",
       " 'sooner': 83713,\n",
       " 'intended': 50302,\n",
       " 'picking': 71139,\n",
       " 'powerbook': 72399,\n",
       " '160': 2940,\n",
       " 'maybe': 59935,\n",
       " '180': 3248,\n",
       " 'bunch': 24591,\n",
       " 'questions': 75095,\n",
       " 'hopefully': 47151,\n",
       " 'somebody': 83660,\n",
       " 'answer': 18755,\n",
       " 'does': 34617,\n",
       " 'anybody': 18883,\n",
       " 'dirt': 33760,\n",
       " 'round': 79037,\n",
       " 'introductions': 50597,\n",
       " 'expected': 38604,\n",
       " 'heard': 45975,\n",
       " '185c': 3301,\n",
       " 'supposed': 86308,\n",
       " 'make': 59153,\n",
       " 'appearence': 19072,\n",
       " 'summer': 86079,\n",
       " 'anymore': 18889,\n",
       " 'don': 34696,\n",
       " 'access': 16417,\n",
       " 'macleak': 58864,\n",
       " 'rumors': 79373,\n",
       " 'price': 72952,\n",
       " 'drops': 35113,\n",
       " 'line': 56676,\n",
       " 'like': 56591,\n",
       " 'ones': 67929,\n",
       " 'duo': 35385,\n",
       " 'just': 52861,\n",
       " 'went': 95966,\n",
       " 'recently': 76397,\n",
       " 'impression': 49251,\n",
       " 'display': 34113,\n",
       " 'probably': 73091,\n",
       " 'swing': 86648,\n",
       " 'got': 43914,\n",
       " '80mb': 12356,\n",
       " '120': 2223,\n",
       " 'feel': 39787,\n",
       " 'better': 22475,\n",
       " 'yea': 99602,\n",
       " 'looks': 57254,\n",
       " 'great': 44241,\n",
       " 'store': 85349,\n",
       " 'wow': 97051,\n",
       " 'good': 43852,\n",
       " 'solicit': 83610,\n",
       " 'opinions': 68088,\n",
       " 'people': 70436,\n",
       " 'use': 92600,\n",
       " 'worth': 97019,\n",
       " 'taking': 87383,\n",
       " 'size': 82759,\n",
       " 'money': 62794,\n",
       " 'hit': 46692,\n",
       " 'active': 16690,\n",
       " 'realize': 76261,\n",
       " 'real': 76241,\n",
       " 'subjective': 85740,\n",
       " 'question': 75083,\n",
       " 've': 93598,\n",
       " 'played': 71620,\n",
       " 'machines': 58826,\n",
       " 'computer': 28881,\n",
       " 'breifly': 24044,\n",
       " 'figured': 40178,\n",
       " 'actually': 16715,\n",
       " 'uses': 92624,\n",
       " 'daily': 31623,\n",
       " 'prove': 73551,\n",
       " 'helpful': 46163,\n",
       " 'hellcats': 46134,\n",
       " 'perform': 70494,\n",
       " 'advance': 17003,\n",
       " 'email': 36809,\n",
       " 'll': 56988,\n",
       " 'post': 72291,\n",
       " 'summary': 86077,\n",
       " 'news': 65517,\n",
       " 'reading': 76218,\n",
       " 'time': 88835,\n",
       " 'premium': 72761,\n",
       " 'finals': 40285,\n",
       " 'corner': 29852,\n",
       " 'tom': 89184,\n",
       " 'willis': 96403,\n",
       " 'twillis': 90490,\n",
       " 'ecn': 36082,\n",
       " 'purdue': 73974,\n",
       " 'edu': 36234,\n",
       " 'electrical': 36612,\n",
       " 'engineering': 37212,\n",
       " 'weitek': 95921,\n",
       " 'address': 16818,\n",
       " 'phone': 70985,\n",
       " 'information': 49822,\n",
       " 'chip': 26997,\n",
       " 'article': 19689,\n",
       " 'c5owcb': 25113,\n",
       " 'n3p': 64543,\n",
       " 'world': 96983,\n",
       " 'std': 85008,\n",
       " 'com': 28405,\n",
       " 'tombaker': 89195,\n",
       " 'baker': 21413,\n",
       " 'understanding': 91640,\n",
       " 'errors': 37739,\n",
       " 'basically': 21725,\n",
       " 'known': 54509,\n",
       " 'bugs': 24497,\n",
       " 'warning': 95535,\n",
       " 'software': 83557,\n",
       " 'things': 88484,\n",
       " 'checked': 26809,\n",
       " 'right': 78195,\n",
       " 'values': 93325,\n",
       " 'aren': 19421,\n",
       " 'set': 81587,\n",
       " 'till': 88819,\n",
       " 'launch': 55653,\n",
       " 'suchlike': 85935,\n",
       " 'fix': 40440,\n",
       " 'code': 28151,\n",
       " 'possibly': 72290,\n",
       " 'introduce': 50592,\n",
       " 'tell': 87908,\n",
       " 'crew': 30414,\n",
       " 'ok': 67681,\n",
       " '213': 4520,\n",
       " 'liftoff': 56550,\n",
       " 'ignore': 48697,\n",
       " 'course': 30091,\n",
       " 'term': 88042,\n",
       " 'rigidly': 78222,\n",
       " 'defined': 32452,\n",
       " 'doubt': 34809,\n",
       " 'using': 92637,\n",
       " 'quote': 75177,\n",
       " 'allegedly': 17943,\n",
       " 'read': 76207,\n",
       " 'presenting': 72823,\n",
       " 'argument': 19462,\n",
       " 'weapons': 95811,\n",
       " 'mass': 59702,\n",
       " 'destruction': 33112,\n",
       " 'commonly': 28575,\n",
       " 'understood': 91650,\n",
       " 'switching': 86666,\n",
       " 'topics': 89281,\n",
       " 'point': 71950,\n",
       " 'evidently': 38232,\n",
       " 'allowed': 18006,\n",
       " 'later': 55612,\n",
       " 'analysis': 18442,\n",
       " 'given': 43387,\n",
       " 'consider': 29305,\n",
       " 'class': 27692,\n",
       " 'responded': 77648,\n",
       " 'request': 77459,\n",
       " 'treatment': 89867,\n",
       " 'astrocytomas': 20036,\n",
       " 'couldn': 30015,\n",
       " 'thank': 88272,\n",
       " 'directly': 33745,\n",
       " 'bouncing': 23749,\n",
       " 'probs': 73111,\n",
       " 'sean': 81078,\n",
       " 'debra': 32138,\n",
       " 'sharon': 81860,\n",
       " 'thought': 88567,\n",
       " 'publicly': 73811,\n",
       " 'sure': 86350,\n",
       " 'glad': 43476,\n",
       " 'accidentally': 16434,\n",
       " 'rn': 78616,\n",
       " 'instead': 50188,\n",
       " 'rm': 78551,\n",
       " 'trying': 90158,\n",
       " 'delete': 32588,\n",
       " 'file': 40217,\n",
       " 'september': 81478,\n",
       " 'hmmm': 46823,\n",
       " 'shows': 82222,\n",
       " 'scsi': 80945,\n",
       " 'controler': 29587,\n",
       " 'range': 75816,\n",
       " '5mb': 9463,\n",
       " 'controller': 29593,\n",
       " '6mb': 10776,\n",
       " '10mb': 1883,\n",
       " 'burst': 24698,\n",
       " 'note': 66349,\n",
       " 'increase': 49478,\n",
       " 'quadra': 74958,\n",
       " 'version': 93839,\n",
       " 'exist': 38534,\n",
       " 'pc': 70140,\n",
       " 'mode': 62589,\n",
       " '16': 2939,\n",
       " 'wide': 96303,\n",
       " 'fast': 39508,\n",
       " '12mb': 2402,\n",
       " '20mb': 4463,\n",
       " '32': 6203,\n",
       " '15': 2777,\n",
       " '40mb': 7521,\n",
       " 'data': 31820,\n",
       " 'twice': 90481,\n",
       " 'esdi': 37829,\n",
       " 'correct': 29884,\n",
       " 'reach': 76185,\n",
       " '20': 4306,\n",
       " 'faster': 39515,\n",
       " 'ide': 48521,\n",
       " '96': 13781,\n",
       " 'facts': 39243,\n",
       " 'posted': 72303,\n",
       " 'newsgroup': 65530,\n",
       " 'ibm': 48358,\n",
       " 'sheet': 81934,\n",
       " 'available': 20583,\n",
       " 'ftp': 41728,\n",
       " 'sumex': 86062,\n",
       " 'aim': 17514,\n",
       " 'stanford': 84859,\n",
       " '36': 6576,\n",
       " '44': 7699,\n",
       " 'report': 77367,\n",
       " 'compare': 28642,\n",
       " 'txt': 90546,\n",
       " '173': 3156,\n",
       " '161': 2956,\n",
       " 'problem': 73103,\n",
       " 'inconsiant': 49447,\n",
       " 'documented': 34589,\n",
       " 'apple': 19094,\n",
       " 'salesperson': 80105,\n",
       " 'said': 80055,\n",
       " 'maximum': 59921,\n",
       " 'synchronous': 86803,\n",
       " 'ansynchronous': 18760,\n",
       " 'slower': 83137,\n",
       " 'interface': 50378,\n",
       " 'think': 88487,\n",
       " 'driven': 35083,\n",
       " 'true': 90100,\n",
       " 'win': 96428,\n",
       " 'downloaded': 34856,\n",
       " 'icons': 48451,\n",
       " 'bmp': 23319,\n",
       " 'figure': 40177,\n",
       " 'change': 26651,\n",
       " 'wallpaper': 95442,\n",
       " 'help': 46158,\n",
       " 'appreciated': 19162,\n",
       " 'thanx': 88284,\n",
       " 'brando': 23947,\n",
       " 'board': 23375,\n",
       " 'year': 99605,\n",
       " 'work': 96948,\n",
       " 'diskdoubler': 34014,\n",
       " 'autodoubler': 20502,\n",
       " 'licensing': 56494,\n",
       " 'stac': 84760,\n",
       " 'technologies': 87783,\n",
       " 'owners': 69024,\n",
       " 'compression': 28828,\n",
       " 'technology': 87784,\n",
       " 'writing': 97166,\n",
       " 'memory': 60760,\n",
       " 'lost': 57331,\n",
       " 'reference': 76700,\n",
       " 'wrong': 97178,\n",
       " 'problems': 73108,\n",
       " 'hard': 45557,\n",
       " 'say': 80430,\n",
       " 'fault': 39560,\n",
       " 'decompress': 32266,\n",
       " 'troubled': 90075,\n",
       " 'recompress': 76488,\n",
       " 'icon': 48441,\n",
       " 'usually': 92683,\n",
       " 'reappears': 76295,\n",
       " 'mentioned': 60812,\n",
       " 'freeware': 41493,\n",
       " 'expansion': 38592,\n",
       " 'utility': 92736,\n",
       " 'dd': 32033,\n",
       " 'expand': 38582,\n",
       " 'compressed': 28823,\n",
       " 'unless': 91980,\n",
       " 'installed': 50172,\n",
       " 'product': 73172,\n",
       " 'unlikely': 91985,\n",
       " 'holes': 46964,\n",
       " 'related': 76993,\n",
       " 'fixed': 40445,\n",
       " 'sad': 79982,\n",
       " 'makes': 59163,\n",
       " 'reluctant': 77108,\n",
       " 'buy': 24796,\n",
       " 'stinky': 85238,\n",
       " 'hey': 46359,\n",
       " 'competition': 28723,\n",
       " 'ducati': 35282,\n",
       " '900gts': 13404,\n",
       " '1978': 3473,\n",
       " '17k': 3230,\n",
       " 'runs': 79398,\n",
       " 'paint': 69449,\n",
       " 'bronze': 24239,\n",
       " 'brown': 24271,\n",
       " 'orange': 68235,\n",
       " 'faded': 39254,\n",
       " 'leaks': 55875,\n",
       " 'oil': 67645,\n",
       " 'pops': 72167,\n",
       " '1st': 4107,\n",
       " 'accel': 16382,\n",
       " 'shop': 82127,\n",
       " 'trans': 89639,\n",
       " 'leak': 55870,\n",
       " 'sold': 83591,\n",
       " 'bike': 22729,\n",
       " 'owner': 69023,\n",
       " 'want': 95488,\n",
       " '3495': 6425,\n",
       " 'thinking': 88493,\n",
       " '3k': 7148,\n",
       " 'nice': 65711,\n",
       " 'stable': 84757,\n",
       " 'mate': 59762,\n",
       " 'beemer': 22088,\n",
       " 'jap': 51774,\n",
       " 'axis': 20810,\n",
       " 'motors': 63120,\n",
       " 'tuba': 90259,\n",
       " 'irwin': 50998,\n",
       " 'honk': 47105,\n",
       " 'computrac': 28894,\n",
       " 'richardson': 78120,\n",
       " 'tx': 90525,\n",
       " 'cmptrc': 28018,\n",
       " 'lonestar': 57217,\n",
       " 'org': 68325,\n",
       " 'dod': 34594,\n",
       " '0826': 784,\n",
       " 'r75': 75486,\n",
       " 'yep': 99646,\n",
       " 'pretty': 72907,\n",
       " 'jew': 52036,\n",
       " 'understand': 91636,\n",
       " 'jewish': 52041,\n",
       " 'jews': 52045,\n",
       " 'believe': 22223,\n",
       " 'covenant': 30119,\n",
       " 'yhwh': 99729,\n",
       " 'patriarchs': 70006,\n",
       " 'abraham': 16258,\n",
       " 'moses': 63039,\n",
       " 'case': 25910,\n",
       " 'establishes': 37910,\n",
       " 'moral': 62940,\n",
       " 'follow': 40954,\n",
       " 'mankind': 59362,\n",
       " 'decide': 32200,\n",
       " 'boundaries': 23751,\n",
       " 'fall': 39341,\n",
       " 'sadducees': 79994,\n",
       " 'believed': 22224,\n",
       " 'torah': 89307,\n",
       " 'required': 77469,\n",
       " 'pharisees': 70881,\n",
       " 'ancestors': 18487,\n",
       " 'modern': 62628,\n",
       " 'judaism': 52725,\n",
       " 'interpretation': 50470,\n",
       " 'lead': 55850,\n",
       " 'morality': 62944,\n",
       " 'nuances': 66647,\n",
       " 'talmud': 87426,\n",
       " 'essence': 37892,\n",
       " 'biblical': 22653,\n",
       " 'man': 59263,\n",
       " 'christian': 27148,\n",
       " 'necessarily': 65141,\n",
       " 'indicate': 49564,\n",
       " 'outside': 68760,\n",
       " 'relationship': 77001,\n",
       " 'speculate': 84073,\n",
       " 'trouble': 90074,\n",
       " 'created': 30359,\n",
       " 'image': 48959,\n",
       " 'means': 60461,\n",
       " 'different': 33540,\n",
       " 'come': 28443,\n",
       " 'conclusion': 28979,\n",
       " 'upsets': 92440,\n",
       " 'cart': 25870,\n",
       " 'wants': 95493,\n",
       " 'script': 80907,\n",
       " 'shaky': 81798,\n",
       " 'foundation': 41256,\n",
       " 'mix': 62034,\n",
       " 'metaphors': 60982,\n",
       " 'unashamedly': 91409,\n",
       " 'living': 56885,\n",
       " 'christ': 27138,\n",
       " 'example': 38371,\n",
       " 'little': 56849,\n",
       " 'jesus': 52019,\n",
       " 'person': 70636,\n",
       " 'recorded': 76520,\n",
       " 'utterances': 92777,\n",
       " 'narratives': 64835,\n",
       " 'followers': 40957,\n",
       " 'references': 76702,\n",
       " 'comtemporary': 28905,\n",
       " 'historians': 46683,\n",
       " 'revelation': 77874,\n",
       " 'aside': 19815,\n",
       " 'second': 81132,\n",
       " 'hand': 45418,\n",
       " 'worse': 97006,\n",
       " 'attempt': 20247,\n",
       " 'debunk': 32151,\n",
       " 'christianity': 27152,\n",
       " 'initially': 49945,\n",
       " 'bible': 22649,\n",
       " 'interpret': 50469,\n",
       " 'humanity': 47648,\n",
       " 'guess': 44639,\n",
       " 'faith': 39317,\n",
       " 'relevation': 77041,\n",
       " 'comes': 28449,\n",
       " 'inherent': 49906,\n",
       " 'subjectiveness': 85742,\n",
       " 'absolute': 16289,\n",
       " 'undoubtably': 91694,\n",
       " 'multiple': 63839,\n",
       " 'codes': 28164,\n",
       " 'founded': 41258,\n",
       " 'parent': 69723,\n",
       " 'child': 26952,\n",
       " 'swear': 86584,\n",
       " 'assume': 19982,\n",
       " 'swears': 86586,\n",
       " 'simply': 82583,\n",
       " 'told': 89166,\n",
       " 'trooper': 90063,\n",
       " 'pub': 73796,\n",
       " 'bar': 21560,\n",
       " 'children': 26962,\n",
       " 'wrongness': 97183,\n",
       " 'disobeys': 34057,\n",
       " 'inappropriate': 49351,\n",
       " 'quite': 75154,\n",
       " 'happy': 45533,\n",
       " 'animals': 18610,\n",
       " 'analogy': 18434,\n",
       " 'hold': 46950,\n",
       " 'water': 95614,\n",
       " 'knows': 54510,\n",
       " 'type': 90580,\n",
       " 'gist': 43376,\n",
       " 'incidentally': 49396,\n",
       " 'young': 99907,\n",
       " 'considers': 29314,\n",
       " 'directive': 33743,\n",
       " 'gets': 43138,\n",
       " 'older': 67763,\n",
       " 'piaget': 71115,\n",
       " 'learns': 55898,\n",
       " 'david': 31891,\n",
       " 'religion': 77072,\n",
       " 'description': 32989,\n",
       " 'external': 38785,\n",
       " 'tank': 87474,\n",
       " 'option': 68165,\n",
       " 'ssf': 84651,\n",
       " 'redesign': 76600,\n",
       " 'deleted': 32589,\n",
       " 'yo': 99869,\n",
       " 'ken': 53721,\n",
       " 'let': 56169,\n",
       " 'wingless': 96495,\n",
       " 'orbiter': 68251,\n",
       " 'options': 68169,\n",
       " 'list': 56790,\n",
       " 'today': 89130,\n",
       " '23': 4670,\n",
       " 'edition': 36199,\n",
       " 'york': 99893,\n",
       " 'times': 88854,\n",
       " 'reports': 77376,\n",
       " 'connor': 29238,\n",
       " 'panel': 69561,\n",
       " 'proposals': 73425,\n",
       " 'dropped': 35111,\n",
       " 'giant': 43260,\n",
       " 'fuel': 41778,\n",
       " 'tanks': 87481,\n",
       " 'used': 92603,\n",
       " 'launching': 55658,\n",
       " 'space': 83871,\n",
       " 'shuttles': 82293,\n",
       " 'building': 24510,\n",
       " 'station': 84965,\n",
       " 'existing': 38545,\n",
       " 'shuttle': 82292,\n",
       " 'wings': 96499,\n",
       " 'tail': 87346,\n",
       " 'removed': 77197,\n",
       " 'currently': 30989,\n",
       " 'considered': 29312,\n",
       " 'presented': 72819,\n",
       " 'advisory': 17057,\n",
       " 'meeting': 60605,\n",
       " 'yesterday': 99662,\n",
       " 'reported': 77371,\n",
       " 'low': 57387,\n",
       " 'cost': 29982,\n",
       " 'modular': 62660,\n",
       " 'approach': 19181,\n",
       " 'studied': 85618,\n",
       " 'team': 87738,\n",
       " 'msfc': 63573,\n",
       " 'teams': 87743,\n",
       " 'jsc': 52656,\n",
       " 'larc': 55541,\n",
       " 'supporting': 86303,\n",
       " 'srt': 84592,\n",
       " 'crystal': 30707,\n",
       " 'city': 27499,\n",
       " 'lerc': 56138,\n",
       " 'reston': 77692,\n",
       " 'site': 82719,\n",
       " 'locations': 57127,\n",
       " 'helping': 46166,\n",
       " 'respective': 77639,\n",
       " 'activities': 16697,\n",
       " 'key': 53808,\n",
       " 'features': 39747,\n",
       " 'bus': 24710,\n",
       " 'developed': 33229,\n",
       " 'lockheed': 57133,\n",
       " 'qualified': 74982,\n",
       " 'sts': 85595,\n",
       " 'elv': 36790,\n",
       " 'provides': 73569,\n",
       " 'propulsion': 73452,\n",
       " 'gn': 43666,\n",
       " 'communications': 28598,\n",
       " 'management': 59274,\n",
       " 'air': 17534,\n",
       " 'force': 41042,\n",
       " 'power': 72393,\n",
       " 'capability': 25648,\n",
       " 'obtained': 67294,\n",
       " 'flights': 40669,\n",
       " 'solar': 83583,\n",
       " 'arrays': 19620,\n",
       " 'provide': 73563,\n",
       " 'kw': 54972,\n",
       " 'vehicle': 93654,\n",
       " 'flies': 40667,\n",
       " 'arrow': 19652,\n",
       " 'optimize': 68158,\n",
       " 'microgravity': 61430,\n",
       " 'environment': 37419,\n",
       " 'spacelab': 83884,\n",
       " 'missions': 61947,\n",
       " 'utilize': 92738,\n",
       " 'vehilce': 93657,\n",
       " 'source': 83802,\n",
       " '30': 6044,\n",
       " 'human': 47639,\n",
       " 'tended': 87969,\n",
       " 'opposed': 68115,\n",
       " 'old': 67759,\n",
       " 'sexist': 81666,\n",
       " 'achieved': 16570,\n",
       " 'common': 28571,\n",
       " 'module': 62665,\n",
       " 'modified': 62646,\n",
       " 'lab': 55284,\n",
       " 'docking': 34562,\n",
       " 'ports': 72229,\n",
       " 'added': 16795,\n",
       " 'international': 50437,\n",
       " 'partners': 69858,\n",
       " 'labs': 55311,\n",
       " 'place': 71514,\n",
       " 'nodes': 66110,\n",
       " 'docked': 34559,\n",
       " '60': 9762,\n",
       " 'habitability': 45187,\n",
       " 'eva': 38126,\n",
       " 'nasda': 64854,\n",
       " 'esa': 37783,\n",
       " 'modules': 62666,\n",
       " 'permanent': 70552,\n",
       " 'presence': 72812,\n",
       " '3rd': 7312,\n",
       " 'habitation': 45191,\n",
       " 'acrv': 16670,\n",
       " 'assured': 19994,\n",
       " 'return': 77833,\n",
       " 'freedom': 41474,\n",
       " 'derived': 32940,\n",
       " 'based': 21698,\n",
       " 'mike': 61561,\n",
       " 'griffin': 44345,\n",
       " 'alot': 18051,\n",
       " 'design': 33018,\n",
       " 'love': 57373,\n",
       " 'assumes': 19984,\n",
       " 'lightweight': 56581,\n",
       " 'assembly': 19916,\n",
       " 'computed': 28880,\n",
       " '51': 8668,\n",
       " 'inclination': 49405,\n",
       " 'orbit': 68247,\n",
       " 'build': 24505,\n",
       " 'occurs': 67354,\n",
       " 'phases': 70894,\n",
       " 'initial': 49935,\n",
       " 'research': 77504,\n",
       " 'reached': 76187,\n",
       " 'transferred': 89685,\n",
       " 'visits': 94232,\n",
       " 'adopted': 16951,\n",
       " 'non': 66154,\n",
       " 'language': 55481,\n",
       " 'deployed': 32863,\n",
       " '10': 1469,\n",
       " 'keeping': 53675,\n",
       " 'orbiters': 68252,\n",
       " 'logistics': 57191,\n",
       " 'supply': 86295,\n",
       " 'tolerance': 89169,\n",
       " '14': 2593,\n",
       " '2nd': 5688,\n",
       " 'thermal': 88410,\n",
       " 'control': 29584,\n",
       " 'radiator': 75631,\n",
       " 'internationals': 50442,\n",
       " 'finish': 40324,\n",
       " '24': 4749,\n",
       " 'systems': 86883,\n",
       " 'exception': 38399,\n",
       " 'major': 59141,\n",
       " 'changes': 26659,\n",
       " 'reduced': 76636,\n",
       " 'prices': 72956,\n",
       " 'forsale': 41194,\n",
       " 'behalf': 22143,\n",
       " 'brother': 24260,\n",
       " 'moving': 63196,\n",
       " 'moved': 63183,\n",
       " 'offer': 67520,\n",
       " 'black': 23022,\n",
       " 'decker': 32228,\n",
       " 'duster': 35435,\n",
       " 'portable': 72208,\n",
       " 'vaccum': 93242,\n",
       " 'purchased': 73968,\n",
       " '12': 2222,\n",
       " 'sr': 84531,\n",
       " '1000': 1471,\n",
       " 'dual': 35259,\n",
       " 'cassette': 25936,\n",
       " 'player': 71621,\n",
       " 'fm': 40810,\n",
       " 'band': 21496,\n",
       " 'graphics': 44152,\n",
       " 'equalizer': 37586,\n",
       " 'high': 46527,\n",
       " 'dubing': 35273,\n",
       " 'tape': 87499,\n",
       " 'deck': 32225,\n",
       " 'treble': 89873,\n",
       " 'sound': 83782,\n",
       " 'bet': 22453,\n",
       " 'fixable': 40441,\n",
       " '80': 12265,\n",
       " '25': 4899,\n",
       " 'monolux': 62839,\n",
       " 'zoom': 100977,\n",
       " 'microscope': 61457,\n",
       " '1200x': 2230,\n",
       " 'magnification': 59017,\n",
       " 'japan': 51775,\n",
       " 'includes': 49413,\n",
       " 'accessories': 16428,\n",
       " '50': 8581,\n",
       " 'sunbeam': 86108,\n",
       " '1400': 2595,\n",
       " 'hair': 45268,\n",
       " 'dryer': 35154,\n",
       " 'head': 45919,\n",
       " 'salons': 80131,\n",
       " 'ask': 19822,\n",
       " 'bro': 24188,\n",
       " 'everylast': 38211,\n",
       " 'bag': 21361,\n",
       " 'leather': 55908,\n",
       " 'brand': 23943,\n",
       " 'osterizer': 68572,\n",
       " 'pusle': 74040,\n",
       " 'matic': 59800,\n",
       " 'blender': 23128,\n",
       " 'speeds': 84102,\n",
       " 'cookbook': 29688,\n",
       " 'binolux': 22820,\n",
       " 'binoculars': 22819,\n",
       " '7x35': 12225,\n",
       " 'extra': 38803,\n",
       " 'angle': 18580,\n",
       " '525ft': 8740,\n",
       " '1000yds': 1536,\n",
       " 'proctor': 73154,\n",
       " 'silex': 82499,\n",
       " 'spray': 84355,\n",
       " 'steam': 85032,\n",
       " 'dry': 35151,\n",
       " 'iron': 50927,\n",
       " 'contact': 29439,\n",
       " 'reply': 77358,\n",
       " 'expeditously': 38614,\n",
       " 'included': 49410,\n",
       " 'lastly': 55597,\n",
       " 'reasonable': 76308,\n",
       " 'look': 57244,\n",
       " 'happened': 45523,\n",
       " 'japanese': 51777,\n",
       " 'citizens': 27490,\n",
       " 'war': 95496,\n",
       " 'ii': 48746,\n",
       " 'prepared': 72773,\n",
       " 'stick': 85191,\n",
       " 'concentration': 28939,\n",
       " 'camp': 25509,\n",
       " 'trial': 89919,\n",
       " 'short': 82145,\n",
       " 'step': 85097,\n",
       " 'gassing': 42622,\n",
       " 'nazis': 64974,\n",
       " 'originally': 68386,\n",
       " 'imprison': 49259,\n",
       " 'final': 40279,\n",
       " 'solution': 83641,\n",
       " 'dreamt': 35029,\n",
       " 'partly': 69855,\n",
       " 'afford': 17210,\n",
       " 'run': 79380,\n",
       " 'camps': 25528,\n",
       " 'devastation': 33222,\n",
       " 'caused': 26052,\n",
       " 'goering': 43761,\n",
       " 'total': 89373,\n",
       " 'weren': 95971,\n",
       " 'gassed': 42618,\n",
       " 'generally': 42923,\n",
       " 'died': 33500,\n",
       " 'malnutrition': 59232,\n",
       " 'disease': 33957,\n",
       " 'certainly': 26431,\n",
       " 'tiff': 88778,\n",
       " 'works': 96972,\n",
       " 'philosophically': 70960,\n",
       " 'complexity': 28771,\n",
       " 'led': 55941,\n",
       " 'programs': 73244,\n",
       " 'poor': 72142,\n",
       " 'writers': 97163,\n",
       " 'making': 59171,\n",
       " 'bizarre': 22959,\n",
       " 'files': 40237,\n",
       " 'inability': 49329,\n",
       " 'load': 57077,\n",
       " 'images': 48972,\n",
       " 'save': 80403,\n",
       " 'general': 42913,\n",
       " 'interchange': 50346,\n",
       " 'environments': 37426,\n",
       " 'despite': 33074,\n",
       " 'fact': 39225,\n",
       " 'saying': 80434,\n",
       " 'goes': 43763,\n",
       " 'worried': 97001,\n",
       " 'abuse': 16331,\n",
       " 'chalk': 26599,\n",
       " 'immense': 49051,\n",
       " 'unnecessary': 92029,\n",
       " 'format': 41154,\n",
       " 'words': 96938,\n",
       " 'spec': 84005,\n",
       " 'appendix': 19086,\n",
       " 'page': 69414,\n",
       " 'capitalized': 25674,\n",
       " 'emphasis': 36958,\n",
       " 'sort': 83759,\n",
       " 'success': 85911,\n",
       " 'designed': 33024,\n",
       " 'powerful': 72403,\n",
       " 'flexible': 40646,\n",
       " 'expense': 38628,\n",
       " 'simplicity': 82576,\n",
       " 'takes': 87380,\n",
       " 'effort': 36334,\n",
       " 'handle': 45454,\n",
       " 'specification': 84031,\n",
       " 'application': 19116,\n",
       " 'complete': 28755,\n",
       " 'job': 52351,\n",
       " 'able': 16214,\n",
       " 'import': 49217,\n",
       " 'generating': 42930,\n",
       " 'applications': 19119,\n",
       " 'program': 73220,\n",
       " 'won': 96869,\n",
       " 'deal': 32085,\n",
       " 'trapped': 89800,\n",
       " 'agrees': 17378,\n",
       " 'reasoning': 76314,\n",
       " 'asking': 19831,\n",
       " 'kind': 54125,\n",
       " 'rates': 75906,\n",
       " 'single': 82647,\n",
       " 'male': 59191,\n",
       " 'drivers': 35086,\n",
       " 'yrs': 99983,\n",
       " 'paying': 70081,\n",
       " 'performance': 70498,\n",
       " 'cars': 25863,\n",
       " 'replies': 77355,\n",
       " 'received': 76389,\n",
       " '27': 5071,\n",
       " 'close': 27905,\n",
       " '1992': 3495,\n",
       " 'dodge': 34601,\n",
       " 'stealth': 85030,\n",
       " 'rt': 79238,\n",
       " 'twin': 90491,\n",
       " 'turbo': 90333,\n",
       " '300hp': 6061,\n",
       " 'tickets': 88752,\n",
       " 'accidents': 16436,\n",
       " 'house': 47314,\n",
       " 'taken': 87375,\n",
       " 'defensive': 32428,\n",
       " 'driving': 35093,\n",
       " 'airbag': 17539,\n",
       " 'abs': 16277,\n",
       " 'security': 81179,\n",
       " 'alarm': 17757,\n",
       " '1500': 2779,\n",
       " '500': 8582,\n",
       " 'decut': 32319,\n",
       " 'state': 84941,\n",
       " 'farm': 39461,\n",
       " 'insurance': 50247,\n",
       " 'additional': 16807,\n",
       " '100': 1470,\n",
       " '000': 1,\n",
       " 'umbrella': 91316,\n",
       " 'policy': 72011,\n",
       " 'standard': 84835,\n",
       " '300': 6045,\n",
       " 'bought': 23738,\n",
       " 'company': 28634,\n",
       " 'accident': 16432,\n",
       " 'ticket': 88750,\n",
       " '11': 1912,\n",
       " 'quoted': 75178,\n",
       " 'hope': 47148,\n",
       " 'helps': 46169,\n",
       " 'steve': 85158,\n",
       " 'flynn': 40808,\n",
       " 'university': 91945,\n",
       " 'delaware': 32572,\n",
       " '45': 7764,\n",
       " 'kevin': 53793,\n",
       " 'remembered': 77150,\n",
       " 'correctly': 29892,\n",
       " 'asked': 19826,\n",
       " 'similar': 82546,\n",
       " 'situation': 82731,\n",
       " 'inquiry': 50071,\n",
       " 'age': 17301,\n",
       " 'eagle': 35883,\n",
       " 'talon': 87427,\n",
       " 'tsi': 90186,\n",
       " 'awd': 20738,\n",
       " 'record': 76519,\n",
       " 'clean': 27737,\n",
       " 'illinois': 48906,\n",
       " '820': 12437,\n",
       " ...}"
      ]
     },
     "execution_count": 31,
     "metadata": {},
     "output_type": "execute_result"
    }
   ],
   "source": [
    "vectorizer.vocabulary_"
   ]
  },
  {
   "cell_type": "code",
   "execution_count": 32,
   "metadata": {},
   "outputs": [
    {
     "data": {
      "text/plain": [
       "<1x101322 sparse matrix of type '<class 'numpy.int64'>'\n",
       "\twith 34 stored elements in Compressed Sparse Row format>"
      ]
     },
     "execution_count": 32,
     "metadata": {},
     "output_type": "execute_result"
    }
   ],
   "source": [
    "X_train[0, :]"
   ]
  },
  {
   "cell_type": "code",
   "execution_count": 33,
   "metadata": {},
   "outputs": [
    {
     "data": {
      "text/plain": [
       "matrix([[0, 0, 0, ..., 0, 0, 0]])"
      ]
     },
     "execution_count": 33,
     "metadata": {},
     "output_type": "execute_result"
    }
   ],
   "source": [
    "X_train[0, :].todense()"
   ]
  },
  {
   "cell_type": "code",
   "execution_count": 34,
   "metadata": {},
   "outputs": [
    {
     "data": {
      "text/plain": [
       "9843"
      ]
     },
     "execution_count": 34,
     "metadata": {},
     "output_type": "execute_result"
    }
   ],
   "source": [
    "non_zeroes = np.array(np.where(X_train[0, :].todense())[1])[0]\n",
    "non_zeroes"
   ]
  },
  {
   "cell_type": "markdown",
   "metadata": {},
   "source": [
    "Let's define a function that will take a list of indices and print the words from the vocabulary dictionary that correspond to those indices:"
   ]
  },
  {
   "cell_type": "code",
   "execution_count": 35,
   "metadata": {},
   "outputs": [
    {
     "ename": "SyntaxError",
     "evalue": "Missing parentheses in call to 'print' (<ipython-input-35-14bd4ab1b85a>, line 4)",
     "output_type": "error",
     "traceback": [
      "\u001b[0;36m  File \u001b[0;32m\"<ipython-input-35-14bd4ab1b85a>\"\u001b[0;36m, line \u001b[0;32m4\u001b[0m\n\u001b[0;31m    print word\u001b[0m\n\u001b[0m             ^\u001b[0m\n\u001b[0;31mSyntaxError\u001b[0m\u001b[0;31m:\u001b[0m Missing parentheses in call to 'print'\n"
     ]
    }
   ],
   "source": [
    "def print_words(index_list):\n",
    "    for word, index in vectorizer.vocabulary_.iteritems():\n",
    "        if index in index_list:\n",
    "            print word"
   ]
  },
  {
   "cell_type": "code",
   "execution_count": 38,
   "metadata": {},
   "outputs": [
    {
     "name": "stdout",
     "output_type": "stream",
     "text": [
      "production\n",
      "60s\n",
      "years\n",
      "addition\n",
      "late\n",
      "doors\n",
      "car\n",
      "history\n",
      "engine\n",
      "really\n",
      "early\n",
      "info\n",
      "mail\n",
      "body\n",
      "separate\n",
      "small\n",
      "door\n",
      "tellme\n",
      "enlighten\n",
      "wondering\n",
      "bricklin\n",
      "model\n",
      "looked\n",
      "bumper\n",
      "rest\n",
      "specs\n",
      "looking\n",
      "funky\n",
      "70s\n",
      "sports\n",
      "saw\n",
      "day\n",
      "called\n",
      "know\n"
     ]
    }
   ],
   "source": [
    "print_words(non_zeroes)"
   ]
  },
  {
   "cell_type": "markdown",
   "metadata": {},
   "source": [
    "Let's train a linear, penalized SVM:"
   ]
  },
  {
   "cell_type": "code",
   "execution_count": null,
   "metadata": {},
   "outputs": [],
   "source": [
    "svm = LinearSVC(penalty='l2', C=1.0)\n",
    "svm.fit(X_train, space_target)"
   ]
  },
  {
   "cell_type": "markdown",
   "metadata": {},
   "source": [
    "One way to see what the SVM is doing is to look at the coefficients of each word, and to sort them from largest to smallest.  This will tell us which words are most associated with \"space\" in the posts:"
   ]
  },
  {
   "cell_type": "code",
   "execution_count": null,
   "metadata": {},
   "outputs": [],
   "source": [
    "top25 = np.argsort(svm.coef_.ravel())[-25:]\n",
    "top25"
   ]
  },
  {
   "cell_type": "code",
   "execution_count": null,
   "metadata": {},
   "outputs": [],
   "source": [
    "svm.coef_.ravel()[top25]"
   ]
  },
  {
   "cell_type": "code",
   "execution_count": 42,
   "metadata": {},
   "outputs": [
    {
     "name": "stdout",
     "output_type": "stream",
     "text": [
      "colonies\n",
      "gee\n",
      "schirra\n",
      "space\n",
      "breathing\n",
      "wally\n",
      "launch\n",
      "varieties\n",
      "choose\n",
      "update\n",
      "orbit\n",
      "_perijoves_\n",
      "umm\n",
      "ironic\n",
      "hover\n",
      "sherzer\n",
      "responses\n",
      "contacting\n",
      "ignorant\n",
      "curiousity\n",
      "spacecraft\n",
      "photosynthetic\n",
      "worden\n",
      "solar\n",
      "ether\n"
     ]
    }
   ],
   "source": [
    "print_words(top25)"
   ]
  },
  {
   "cell_type": "markdown",
   "metadata": {},
   "source": [
    "[http://en.wikipedia.org/wiki/Wally_Schirra](http://en.wikipedia.org/wiki/Wally_Schirra)"
   ]
  },
  {
   "cell_type": "markdown",
   "metadata": {},
   "source": [
    "Let's see how we do on a test set:"
   ]
  },
  {
   "cell_type": "code",
   "execution_count": 36,
   "metadata": {},
   "outputs": [
    {
     "ename": "NotFittedError",
     "evalue": "This SVC instance is not fitted yet. Call 'fit' with appropriate arguments before using this method.",
     "output_type": "error",
     "traceback": [
      "\u001b[0;31m---------------------------------------------------------------------------\u001b[0m",
      "\u001b[0;31mNotFittedError\u001b[0m                            Traceback (most recent call last)",
      "\u001b[0;32m<ipython-input-36-2315a40117f7>\u001b[0m in \u001b[0;36m<module>\u001b[0;34m()\u001b[0m\n\u001b[0;32m----> 1\u001b[0;31m \u001b[0mpreds\u001b[0m \u001b[0;34m=\u001b[0m \u001b[0msvm\u001b[0m\u001b[0;34m.\u001b[0m\u001b[0mpredict\u001b[0m\u001b[0;34m(\u001b[0m\u001b[0mX_test\u001b[0m\u001b[0;34m)\u001b[0m\u001b[0;34m\u001b[0m\u001b[0m\n\u001b[0m",
      "\u001b[0;32m~/anaconda3/envs/civis/lib/python3.6/site-packages/sklearn/svm/base.py\u001b[0m in \u001b[0;36mpredict\u001b[0;34m(self, X)\u001b[0m\n\u001b[1;32m    571\u001b[0m             \u001b[0mClass\u001b[0m \u001b[0mlabels\u001b[0m \u001b[0;32mfor\u001b[0m \u001b[0msamples\u001b[0m \u001b[0;32min\u001b[0m \u001b[0mX\u001b[0m\u001b[0;34m.\u001b[0m\u001b[0;34m\u001b[0m\u001b[0m\n\u001b[1;32m    572\u001b[0m         \"\"\"\n\u001b[0;32m--> 573\u001b[0;31m         \u001b[0my\u001b[0m \u001b[0;34m=\u001b[0m \u001b[0msuper\u001b[0m\u001b[0;34m(\u001b[0m\u001b[0mBaseSVC\u001b[0m\u001b[0;34m,\u001b[0m \u001b[0mself\u001b[0m\u001b[0;34m)\u001b[0m\u001b[0;34m.\u001b[0m\u001b[0mpredict\u001b[0m\u001b[0;34m(\u001b[0m\u001b[0mX\u001b[0m\u001b[0;34m)\u001b[0m\u001b[0;34m\u001b[0m\u001b[0m\n\u001b[0m\u001b[1;32m    574\u001b[0m         \u001b[0;32mreturn\u001b[0m \u001b[0mself\u001b[0m\u001b[0;34m.\u001b[0m\u001b[0mclasses_\u001b[0m\u001b[0;34m.\u001b[0m\u001b[0mtake\u001b[0m\u001b[0;34m(\u001b[0m\u001b[0mnp\u001b[0m\u001b[0;34m.\u001b[0m\u001b[0masarray\u001b[0m\u001b[0;34m(\u001b[0m\u001b[0my\u001b[0m\u001b[0;34m,\u001b[0m \u001b[0mdtype\u001b[0m\u001b[0;34m=\u001b[0m\u001b[0mnp\u001b[0m\u001b[0;34m.\u001b[0m\u001b[0mintp\u001b[0m\u001b[0;34m)\u001b[0m\u001b[0;34m)\u001b[0m\u001b[0;34m\u001b[0m\u001b[0m\n\u001b[1;32m    575\u001b[0m \u001b[0;34m\u001b[0m\u001b[0m\n",
      "\u001b[0;32m~/anaconda3/envs/civis/lib/python3.6/site-packages/sklearn/svm/base.py\u001b[0m in \u001b[0;36mpredict\u001b[0;34m(self, X)\u001b[0m\n\u001b[1;32m    308\u001b[0m         \u001b[0my_pred\u001b[0m \u001b[0;34m:\u001b[0m \u001b[0marray\u001b[0m\u001b[0;34m,\u001b[0m \u001b[0mshape\u001b[0m \u001b[0;34m(\u001b[0m\u001b[0mn_samples\u001b[0m\u001b[0;34m,\u001b[0m\u001b[0;34m)\u001b[0m\u001b[0;34m\u001b[0m\u001b[0m\n\u001b[1;32m    309\u001b[0m         \"\"\"\n\u001b[0;32m--> 310\u001b[0;31m         \u001b[0mX\u001b[0m \u001b[0;34m=\u001b[0m \u001b[0mself\u001b[0m\u001b[0;34m.\u001b[0m\u001b[0m_validate_for_predict\u001b[0m\u001b[0;34m(\u001b[0m\u001b[0mX\u001b[0m\u001b[0;34m)\u001b[0m\u001b[0;34m\u001b[0m\u001b[0m\n\u001b[0m\u001b[1;32m    311\u001b[0m         \u001b[0mpredict\u001b[0m \u001b[0;34m=\u001b[0m \u001b[0mself\u001b[0m\u001b[0;34m.\u001b[0m\u001b[0m_sparse_predict\u001b[0m \u001b[0;32mif\u001b[0m \u001b[0mself\u001b[0m\u001b[0;34m.\u001b[0m\u001b[0m_sparse\u001b[0m \u001b[0;32melse\u001b[0m \u001b[0mself\u001b[0m\u001b[0;34m.\u001b[0m\u001b[0m_dense_predict\u001b[0m\u001b[0;34m\u001b[0m\u001b[0m\n\u001b[1;32m    312\u001b[0m         \u001b[0;32mreturn\u001b[0m \u001b[0mpredict\u001b[0m\u001b[0;34m(\u001b[0m\u001b[0mX\u001b[0m\u001b[0;34m)\u001b[0m\u001b[0;34m\u001b[0m\u001b[0m\n",
      "\u001b[0;32m~/anaconda3/envs/civis/lib/python3.6/site-packages/sklearn/svm/base.py\u001b[0m in \u001b[0;36m_validate_for_predict\u001b[0;34m(self, X)\u001b[0m\n\u001b[1;32m    455\u001b[0m \u001b[0;34m\u001b[0m\u001b[0m\n\u001b[1;32m    456\u001b[0m     \u001b[0;32mdef\u001b[0m \u001b[0m_validate_for_predict\u001b[0m\u001b[0;34m(\u001b[0m\u001b[0mself\u001b[0m\u001b[0;34m,\u001b[0m \u001b[0mX\u001b[0m\u001b[0;34m)\u001b[0m\u001b[0;34m:\u001b[0m\u001b[0;34m\u001b[0m\u001b[0m\n\u001b[0;32m--> 457\u001b[0;31m         \u001b[0mcheck_is_fitted\u001b[0m\u001b[0;34m(\u001b[0m\u001b[0mself\u001b[0m\u001b[0;34m,\u001b[0m \u001b[0;34m'support_'\u001b[0m\u001b[0;34m)\u001b[0m\u001b[0;34m\u001b[0m\u001b[0m\n\u001b[0m\u001b[1;32m    458\u001b[0m \u001b[0;34m\u001b[0m\u001b[0m\n\u001b[1;32m    459\u001b[0m         \u001b[0mX\u001b[0m \u001b[0;34m=\u001b[0m \u001b[0mcheck_array\u001b[0m\u001b[0;34m(\u001b[0m\u001b[0mX\u001b[0m\u001b[0;34m,\u001b[0m \u001b[0maccept_sparse\u001b[0m\u001b[0;34m=\u001b[0m\u001b[0;34m'csr'\u001b[0m\u001b[0;34m,\u001b[0m \u001b[0mdtype\u001b[0m\u001b[0;34m=\u001b[0m\u001b[0mnp\u001b[0m\u001b[0;34m.\u001b[0m\u001b[0mfloat64\u001b[0m\u001b[0;34m,\u001b[0m \u001b[0morder\u001b[0m\u001b[0;34m=\u001b[0m\u001b[0;34m\"C\"\u001b[0m\u001b[0;34m)\u001b[0m\u001b[0;34m\u001b[0m\u001b[0m\n",
      "\u001b[0;32m~/anaconda3/envs/civis/lib/python3.6/site-packages/sklearn/utils/validation.py\u001b[0m in \u001b[0;36mcheck_is_fitted\u001b[0;34m(estimator, attributes, msg, all_or_any)\u001b[0m\n\u001b[1;32m    688\u001b[0m     \u001b[0;32mif\u001b[0m \u001b[0;32mnot\u001b[0m \u001b[0mall_or_any\u001b[0m\u001b[0;34m(\u001b[0m\u001b[0;34m[\u001b[0m\u001b[0mhasattr\u001b[0m\u001b[0;34m(\u001b[0m\u001b[0mestimator\u001b[0m\u001b[0;34m,\u001b[0m \u001b[0mattr\u001b[0m\u001b[0;34m)\u001b[0m \u001b[0;32mfor\u001b[0m \u001b[0mattr\u001b[0m \u001b[0;32min\u001b[0m \u001b[0mattributes\u001b[0m\u001b[0;34m]\u001b[0m\u001b[0;34m)\u001b[0m\u001b[0;34m:\u001b[0m\u001b[0;34m\u001b[0m\u001b[0m\n\u001b[1;32m    689\u001b[0m         \u001b[0;31m# FIXME NotFittedError_ --> NotFittedError in 0.19\u001b[0m\u001b[0;34m\u001b[0m\u001b[0;34m\u001b[0m\u001b[0m\n\u001b[0;32m--> 690\u001b[0;31m         \u001b[0;32mraise\u001b[0m \u001b[0m_NotFittedError\u001b[0m\u001b[0;34m(\u001b[0m\u001b[0mmsg\u001b[0m \u001b[0;34m%\u001b[0m \u001b[0;34m{\u001b[0m\u001b[0;34m'name'\u001b[0m\u001b[0;34m:\u001b[0m \u001b[0mtype\u001b[0m\u001b[0;34m(\u001b[0m\u001b[0mestimator\u001b[0m\u001b[0;34m)\u001b[0m\u001b[0;34m.\u001b[0m\u001b[0m__name__\u001b[0m\u001b[0;34m}\u001b[0m\u001b[0;34m)\u001b[0m\u001b[0;34m\u001b[0m\u001b[0m\n\u001b[0m\u001b[1;32m    691\u001b[0m \u001b[0;34m\u001b[0m\u001b[0m\n\u001b[1;32m    692\u001b[0m \u001b[0;34m\u001b[0m\u001b[0m\n",
      "\u001b[0;31mNotFittedError\u001b[0m: This SVC instance is not fitted yet. Call 'fit' with appropriate arguments before using this method."
     ]
    }
   ],
   "source": [
    "preds = svm.predict(X_test)"
   ]
  },
  {
   "cell_type": "code",
   "execution_count": 44,
   "metadata": {},
   "outputs": [
    {
     "data": {
      "text/html": [
       "<div>\n",
       "<table border=\"1\" class=\"dataframe\">\n",
       "  <thead>\n",
       "    <tr style=\"text-align: right;\">\n",
       "      <th>Predicted</th>\n",
       "      <th>0</th>\n",
       "      <th>1</th>\n",
       "    </tr>\n",
       "    <tr>\n",
       "      <th>True</th>\n",
       "      <th></th>\n",
       "      <th></th>\n",
       "    </tr>\n",
       "  </thead>\n",
       "  <tbody>\n",
       "    <tr>\n",
       "      <th>0</th>\n",
       "      <td>7055</td>\n",
       "      <td>83</td>\n",
       "    </tr>\n",
       "    <tr>\n",
       "      <th>1</th>\n",
       "      <td>178</td>\n",
       "      <td>216</td>\n",
       "    </tr>\n",
       "  </tbody>\n",
       "</table>\n",
       "</div>"
      ],
      "text/plain": [
       "Predicted     0    1\n",
       "True                \n",
       "0          7055   83\n",
       "1           178  216"
      ]
     },
     "execution_count": 44,
     "metadata": {},
     "output_type": "execute_result"
    }
   ],
   "source": [
    "pd.crosstab(index=space_target_test, columns=preds, rownames=['True'], colnames=['Predicted'])"
   ]
  },
  {
   "cell_type": "code",
   "execution_count": null,
   "metadata": {},
   "outputs": [],
   "source": []
  }
 ],
 "metadata": {
  "kernelspec": {
   "display_name": "Python 3",
   "language": "python",
   "name": "python3"
  },
  "language_info": {
   "codemirror_mode": {
    "name": "ipython",
    "version": 3
   },
   "file_extension": ".py",
   "mimetype": "text/x-python",
   "name": "python",
   "nbconvert_exporter": "python",
   "pygments_lexer": "ipython3",
   "version": "3.6.2"
  },
  "widgets": {
   "state": {},
   "version": "1.1.2"
  }
 },
 "nbformat": 4,
 "nbformat_minor": 1
}
