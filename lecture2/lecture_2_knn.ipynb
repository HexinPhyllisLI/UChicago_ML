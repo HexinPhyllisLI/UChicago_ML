{
 "cells": [
  {
   "cell_type": "markdown",
   "metadata": {},
   "source": [
    "# Lecture 2: k-Nearest Neighbors and Handwritten Digit Classification"
   ]
  },
  {
   "cell_type": "markdown",
   "metadata": {},
   "source": [
    "In this example, we'll use k-NN to classify 8x8 pixel images of hand-written digits.  The k-NN classifier is park of scikit-learn:"
   ]
  },
  {
   "cell_type": "markdown",
   "metadata": {},
   "source": [
    "[http://scikit-learn.org/stable/modules/generated/sklearn.neighbors.KNeighborsClassifier.html#sklearn.neighbors.KNeighborsClassifier](http://scikit-learn.org/stable/modules/generated/sklearn.neighbors.KNeighborsClassifier.html#sklearn.neighbors.KNeighborsClassifier)"
   ]
  },
  {
   "cell_type": "code",
   "execution_count": 1,
   "metadata": {},
   "outputs": [],
   "source": [
    "%matplotlib inline"
   ]
  },
  {
   "cell_type": "code",
   "execution_count": 2,
   "metadata": {},
   "outputs": [
    {
     "name": "stderr",
     "output_type": "stream",
     "text": [
      "/Users/civisemployee/anaconda3/envs/civis/lib/python3.4/site-packages/pandas/computation/__init__.py:19: UserWarning: The installed version of numexpr 2.4.4 is not supported in pandas and will be not be used\n",
      "\n",
      "  UserWarning)\n"
     ]
    }
   ],
   "source": [
    "import matplotlib.pyplot as plt\n",
    "import seaborn as sns\n",
    "from sklearn import datasets, neighbors, preprocessing\n",
    "import numpy as np"
   ]
  },
  {
   "cell_type": "markdown",
   "metadata": {},
   "source": [
    "The dataset consists of 1,797 images, each 8 pixels by 8 pixels.  The \"target\" field has the label, telling us the true digit the image represents."
   ]
  },
  {
   "cell_type": "code",
   "execution_count": 3,
   "metadata": {},
   "outputs": [],
   "source": [
    "# The digits dataset\n",
    "digits = datasets.load_digits()"
   ]
  },
  {
   "cell_type": "code",
   "execution_count": 4,
   "metadata": {},
   "outputs": [
    {
     "data": {
      "text/plain": [
       "(1797, 8, 8)"
      ]
     },
     "execution_count": 4,
     "metadata": {},
     "output_type": "execute_result"
    }
   ],
   "source": [
    "digits.images.shape"
   ]
  },
  {
   "cell_type": "code",
   "execution_count": 5,
   "metadata": {},
   "outputs": [
    {
     "data": {
      "text/plain": [
       "array([0, 1, 2, ..., 8, 9, 8])"
      ]
     },
     "execution_count": 5,
     "metadata": {},
     "output_type": "execute_result"
    }
   ],
   "source": [
    "digits.target"
   ]
  },
  {
   "cell_type": "markdown",
   "metadata": {},
   "source": [
    "Here, we define a function that takes an image and the true label and plots it for us:"
   ]
  },
  {
   "cell_type": "code",
   "execution_count": 6,
   "metadata": {},
   "outputs": [],
   "source": [
    "def plot_handwritten_digit(the_image, label): # plot_handwritten_digit<-function(the_image, label)\n",
    "    plt.axis('off')\n",
    "    plt.imshow(the_image, cmap=plt.cm.gray_r, interpolation='nearest')\n",
    "    plt.title('Training: %i' % label)"
   ]
  },
  {
   "cell_type": "code",
   "execution_count": 7,
   "metadata": {},
   "outputs": [
    {
     "data": {
      "text/plain": [
       "array([[  0.,   0.,   1.,  14.,   2.,   0.,   0.,   0.],\n",
       "       [  0.,   0.,   0.,  16.,   5.,   0.,   0.,   0.],\n",
       "       [  0.,   0.,   0.,  14.,  10.,   0.,   0.,   0.],\n",
       "       [  0.,   0.,   0.,  11.,  16.,   1.,   0.,   0.],\n",
       "       [  0.,   0.,   0.,   3.,  14.,   6.,   0.,   0.],\n",
       "       [  0.,   0.,   0.,   0.,   8.,  12.,   0.,   0.],\n",
       "       [  0.,   0.,  10.,  14.,  13.,  16.,   8.,   3.],\n",
       "       [  0.,   0.,   2.,  11.,  12.,  15.,  16.,  15.]])"
      ]
     },
     "execution_count": 7,
     "metadata": {},
     "output_type": "execute_result"
    }
   ],
   "source": [
    "# this will show us the pixel values\n",
    "image_num = 1000\n",
    "digits.images[image_num]"
   ]
  },
  {
   "cell_type": "code",
   "execution_count": 8,
   "metadata": {},
   "outputs": [
    {
     "data": {
      "image/png": "[encoded data removed]",
      "text/plain": [
       "<matplotlib.figure.Figure at 0x1068f81d0>"
      ]
     },
     "metadata": {},
     "output_type": "display_data"
    }
   ],
   "source": [
    "# and then we can plot them\n",
    "plot_handwritten_digit(digits.images[image_num], digits.target[image_num])"
   ]
  },
  {
   "cell_type": "markdown",
   "metadata": {},
   "source": [
    "Instead of each image being 8x8 pixels, we flatten it to just be a single row of 64 numbers:"
   ]
  },
  {
   "cell_type": "code",
   "execution_count": 8,
   "metadata": {},
   "outputs": [],
   "source": [
    "n_samples = len(digits.images)\n",
    "data = digits.images.reshape((n_samples, 64))\n",
    "labels = digits.target"
   ]
  },
  {
   "cell_type": "code",
   "execution_count": 9,
   "metadata": {},
   "outputs": [
    {
     "data": {
      "text/plain": [
       "(1797, 64)"
      ]
     },
     "execution_count": 9,
     "metadata": {},
     "output_type": "execute_result"
    }
   ],
   "source": [
    "data.shape"
   ]
  },
  {
   "cell_type": "markdown",
   "metadata": {},
   "source": [
    "If we need to standardize the features (make them all have mean zero and standard deviation one), this is how we do it:"
   ]
  },
  {
   "cell_type": "code",
   "execution_count": 10,
   "metadata": {},
   "outputs": [
    {
     "data": {
      "text/plain": [
       "array([[ 0.        , -0.33501649, -0.04308102, ..., -1.14664746,\n",
       "        -0.5056698 , -0.19600752],\n",
       "       [ 0.        , -0.33501649, -1.09493684, ...,  0.54856067,\n",
       "        -0.5056698 , -0.19600752],\n",
       "       [ 0.        , -0.33501649, -1.09493684, ...,  1.56568555,\n",
       "         1.6951369 , -0.19600752],\n",
       "       ..., \n",
       "       [ 0.        , -0.33501649, -0.88456568, ..., -0.12952258,\n",
       "        -0.5056698 , -0.19600752],\n",
       "       [ 0.        , -0.33501649, -0.67419451, ...,  0.8876023 ,\n",
       "        -0.5056698 , -0.19600752],\n",
       "       [ 0.        , -0.33501649,  1.00877481, ...,  0.8876023 ,\n",
       "        -0.26113572, -0.19600752]])"
      ]
     },
     "execution_count": 10,
     "metadata": {},
     "output_type": "execute_result"
    }
   ],
   "source": [
    "data_scaled = preprocessing.scale(data)\n",
    "data_scaled"
   ]
  },
  {
   "cell_type": "code",
   "execution_count": 11,
   "metadata": {},
   "outputs": [
    {
     "data": {
      "text/plain": [
       "array([  0.00000000e+00,   3.03839733e-01,   5.20478575e+00,\n",
       "         1.18358375e+01,   1.18480801e+01,   5.78185865e+00,\n",
       "         1.36227045e+00,   1.29660545e-01,   5.56483027e-03,\n",
       "         1.99387869e+00,   1.03823038e+01,   1.19794101e+01,\n",
       "         1.02793545e+01,   8.17584864e+00,   1.84641068e+00,\n",
       "         1.07957707e-01,   2.78241514e-03,   2.60155815e+00,\n",
       "         9.90317195e+00,   6.99276572e+00,   7.09794101e+00,\n",
       "         7.80634391e+00,   1.78853645e+00,   5.00834725e-02,\n",
       "         1.11296605e-03,   2.46967168e+00,   9.09126322e+00,\n",
       "         8.82136895e+00,   9.92710072e+00,   7.55147468e+00,\n",
       "         2.31775181e+00,   2.22593211e-03,   0.00000000e+00,\n",
       "         2.33945465e+00,   7.66722315e+00,   9.07178631e+00,\n",
       "         1.03016138e+01,   8.74401781e+00,   2.90929327e+00,\n",
       "         0.00000000e+00,   8.90372844e-03,   1.58375070e+00,\n",
       "         6.88146912e+00,   7.22815804e+00,   7.67223150e+00,\n",
       "         8.23650529e+00,   3.45631608e+00,   2.72676683e-02,\n",
       "         7.23427935e-03,   7.04507513e-01,   7.50695604e+00,\n",
       "         9.53923205e+00,   9.41624930e+00,   8.75848637e+00,\n",
       "         3.72509738e+00,   2.06455203e-01,   5.56483027e-04,\n",
       "         2.79354480e-01,   5.55759599e+00,   1.20890373e+01,\n",
       "         1.18091263e+01,   6.76405120e+00,   2.06789093e+00,\n",
       "         3.64496383e-01])"
      ]
     },
     "execution_count": 11,
     "metadata": {},
     "output_type": "execute_result"
    }
   ],
   "source": [
    "data.mean(axis=0)"
   ]
  },
  {
   "cell_type": "code",
   "execution_count": 12,
   "metadata": {},
   "outputs": [
    {
     "data": {
      "text/plain": [
       "array([  0.00000000e+00,  -2.56086502e-16,  -2.34771702e-16,\n",
       "        -3.05326777e-16,   1.39689163e-16,  -3.16941798e-16,\n",
       "        -9.59598443e-16,   6.06946633e-16,  -4.62368967e-16,\n",
       "         7.55084971e-17,  -5.33796713e-17,   5.71483749e-17,\n",
       "         4.52862258e-17,  -1.49512505e-17,   8.96580775e-16,\n",
       "        -2.17719863e-16,  -6.87973761e-16,  -7.70421876e-17,\n",
       "         2.59978769e-16,   2.32547550e-16,   1.05878949e-16,\n",
       "        -1.40863021e-16,  -1.15408826e-16,  -2.26477465e-16,\n",
       "         4.51109193e-16,   3.79341646e-17,  -7.71657517e-17,\n",
       "        -9.60092699e-17,  -8.72980041e-17,  -1.50624582e-16,\n",
       "        -1.05597840e-15,  -2.52140175e-16,   0.00000000e+00,\n",
       "         3.42148865e-16,   1.21710593e-16,  -1.07871419e-16,\n",
       "        -2.00606242e-16,  -1.09354188e-17,  -7.12964591e-17,\n",
       "         0.00000000e+00,   3.00716294e-16,  -1.74657790e-16,\n",
       "         4.03436636e-16,   1.92111213e-16,   2.61337974e-17,\n",
       "         5.38739275e-17,   4.71396866e-17,   8.63759074e-16,\n",
       "         2.62048467e-16,   3.33128689e-16,   8.36528645e-17,\n",
       "         1.98775949e-16,   4.61017485e-16,   5.01670059e-17,\n",
       "         4.71582212e-16,  -4.92032063e-16,   2.25353805e-16,\n",
       "         3.44125890e-16,   5.95269830e-17,  -6.11460582e-16,\n",
       "        -5.19092591e-16,   1.69529882e-16,   1.78797186e-16,\n",
       "        -6.83896148e-16])"
      ]
     },
     "execution_count": 12,
     "metadata": {},
     "output_type": "execute_result"
    }
   ],
   "source": [
    "data_scaled.mean(axis=0)"
   ]
  },
  {
   "cell_type": "markdown",
   "metadata": {},
   "source": [
    "Make a training set and a test set.  We'll use the nearest neighbors from the training set to classify each image from the test set."
   ]
  },
  {
   "cell_type": "code",
   "execution_count": 13,
   "metadata": {},
   "outputs": [],
   "source": [
    "n_train = int(0.9*n_samples)\n",
    "\n",
    "X_train = data[:n_train]\n",
    "y_train = labels[:n_train]\n",
    "X_test = data[n_train:]\n",
    "# re-shape this back so we can plot it again as an image\n",
    "test_images = X_test.reshape((len(X_test), 8, 8))\n",
    "y_test = labels[n_train:]"
   ]
  },
  {
   "cell_type": "code",
   "execution_count": 14,
   "metadata": {},
   "outputs": [
    {
     "data": {
      "text/plain": [
       "(1617, 64)"
      ]
     },
     "execution_count": 14,
     "metadata": {},
     "output_type": "execute_result"
    }
   ],
   "source": [
    "X_train.shape"
   ]
  },
  {
   "cell_type": "markdown",
   "metadata": {},
   "source": [
    "Scikit-learn classifiers generally have a standard programming interface.  You construct the class:"
   ]
  },
  {
   "cell_type": "code",
   "execution_count": 15,
   "metadata": {},
   "outputs": [],
   "source": [
    "knn = neighbors.KNeighborsClassifier(n_neighbors=5)"
   ]
  },
  {
   "cell_type": "markdown",
   "metadata": {},
   "source": [
    "You fit it to your data:"
   ]
  },
  {
   "cell_type": "code",
   "execution_count": 16,
   "metadata": {},
   "outputs": [
    {
     "data": {
      "text/plain": [
       "KNeighborsClassifier(algorithm='auto', leaf_size=30, metric='minkowski',\n",
       "           metric_params=None, n_jobs=1, n_neighbors=5, p=2,\n",
       "           weights='uniform')"
      ]
     },
     "execution_count": 16,
     "metadata": {},
     "output_type": "execute_result"
    }
   ],
   "source": [
    "knn.fit(X_train, y_train)"
   ]
  },
  {
   "cell_type": "markdown",
   "metadata": {},
   "source": [
    "And you predict on new data:"
   ]
  },
  {
   "cell_type": "code",
   "execution_count": 17,
   "metadata": {},
   "outputs": [
    {
     "data": {
      "text/plain": [
       "array([5, 2, 8, 0, 1, 7, 6, 3, 2, 1, 7, 4, 6, 3, 1, 3, 9, 1, 7, 6, 8, 4, 3,\n",
       "       1, 4, 0, 5, 3, 6, 9, 6, 1, 7, 5, 4, 4, 7, 2, 2, 5, 7, 3, 5, 8, 4, 5,\n",
       "       0, 8, 9, 7, 0, 1, 2, 3, 4, 5, 6, 7, 8, 9, 0, 1, 2, 3, 4, 5, 6, 7, 8,\n",
       "       9, 0, 1, 2, 3, 4, 5, 6, 7, 8, 9, 0, 9, 5, 5, 6, 5, 0, 9, 8, 9, 8, 4,\n",
       "       1, 7, 7, 3, 5, 1, 0, 0, 2, 2, 7, 8, 2, 0, 1, 2, 6, 3, 2, 7, 3, 3, 4,\n",
       "       6, 6, 6, 4, 9, 1, 5, 0, 9, 5, 2, 8, 2, 0, 0, 1, 7, 6, 3, 2, 1, 7, 4,\n",
       "       6, 3, 1, 3, 9, 1, 7, 6, 8, 4, 5, 1, 4, 0, 5, 3, 6, 9, 6, 1, 7, 5, 4,\n",
       "       4, 7, 2, 8, 2, 2, 5, 7, 9, 5, 4, 8, 1, 4, 9, 0, 8, 9, 8])"
      ]
     },
     "execution_count": 17,
     "metadata": {},
     "output_type": "execute_result"
    }
   ],
   "source": [
    "pred_labels = knn.predict(X_test)\n",
    "pred_labels"
   ]
  },
  {
   "cell_type": "code",
   "execution_count": 18,
   "metadata": {},
   "outputs": [
    {
     "data": {
      "text/plain": [
       "array([[ 0. ,  0. ,  0. , ...,  0. ,  0. ,  0. ],\n",
       "       [ 0. ,  0. ,  1. , ...,  0. ,  0. ,  0. ],\n",
       "       [ 0. ,  0. ,  0. , ...,  0. ,  1. ,  0. ],\n",
       "       ..., \n",
       "       [ 0. ,  0. ,  0. , ...,  0. ,  1. ,  0. ],\n",
       "       [ 0. ,  0. ,  0. , ...,  0. ,  0.2,  0.8],\n",
       "       [ 0. ,  0. ,  0. , ...,  0. ,  1. ,  0. ]])"
      ]
     },
     "execution_count": 18,
     "metadata": {},
     "output_type": "execute_result"
    }
   ],
   "source": [
    "pred_probs = knn.predict_proba(X_test)\n",
    "pred_probs"
   ]
  },
  {
   "cell_type": "code",
   "execution_count": 20,
   "metadata": {},
   "outputs": [
    {
     "name": "stdout",
     "output_type": "stream",
     "text": [
      "true label is 4\n",
      "predicted label is 4\n",
      "predicted probabilities are [ 0.   0.   0.   0.   0.4  0.   0.   0.2  0.   0.4]\n"
     ]
    },
    {
     "data": {
      "image/png": "[encoded data removed]",
      "text/plain": [
       "<matplotlib.figure.Figure at 0x10df77c18>"
      ]
     },
     "metadata": {},
     "output_type": "display_data"
    }
   ],
   "source": [
    "test_num = 11\n",
    "plot_handwritten_digit(test_images[test_num], y_test[test_num])\n",
    "print(\"true label is %s\" % y_test[test_num])\n",
    "print(\"predicted label is %s\" % pred_labels[test_num])\n",
    "print(\"predicted probabilities are %s\" % pred_probs[test_num])"
   ]
  },
  {
   "cell_type": "markdown",
   "metadata": {},
   "source": [
    "Let's find examples where the predicted label is wrong:"
   ]
  },
  {
   "cell_type": "code",
   "execution_count": 21,
   "metadata": {},
   "outputs": [
    {
     "data": {
      "text/plain": [
       "(array([ 41,  43,  45,  49, 110, 148, 173]),)"
      ]
     },
     "execution_count": 21,
     "metadata": {},
     "output_type": "execute_result"
    }
   ],
   "source": [
    "np.where(pred_labels != y_test)"
   ]
  },
  {
   "cell_type": "code",
   "execution_count": null,
   "metadata": {},
   "outputs": [],
   "source": []
  }
 ],
 "metadata": {
  "anaconda-cloud": {},
  "kernelspec": {
   "display_name": "Python 3",
   "language": "python",
   "name": "python3"
  },
  "language_info": {
   "codemirror_mode": {
    "name": "ipython",
    "version": 3
   },
   "file_extension": ".py",
   "mimetype": "text/x-python",
   "name": "python",
   "nbconvert_exporter": "python",
   "pygments_lexer": "ipython3",
   "version": "3.6.2"
  },
  "widgets": {
   "state": {},
   "version": "1.1.2"
  }
 },
 "nbformat": 4,
 "nbformat_minor": 1
}
